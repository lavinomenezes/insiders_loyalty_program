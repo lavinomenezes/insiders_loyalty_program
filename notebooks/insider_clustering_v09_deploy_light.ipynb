{
 "cells": [
  {
   "cell_type": "markdown",
   "id": "5d17e999",
   "metadata": {},
   "source": [
    "# Imports"
   ]
  },
  {
   "cell_type": "code",
   "execution_count": 88,
   "id": "4e8615d5",
   "metadata": {
    "ExecuteTime": {
     "end_time": "2023-02-20T14:03:38.101862Z",
     "start_time": "2023-02-20T14:03:38.086189Z"
    }
   },
   "outputs": [],
   "source": [
    "#manipulação de dados\n",
    "import pandas  as pd\n",
    "import numpy   as np\n",
    "import inflection\n",
    "import regex   as re\n",
    "import s3fs\n",
    "import pickle\n",
    "\n",
    "#visualização\n",
    "import seaborn as sns\n",
    "from matplotlib           import pyplot  as plt\n",
    "from plotly               import express as px\n",
    "from IPython.core.display import HTML\n",
    "from pandas_profiling      import ProfileReport\n",
    "\n",
    "#métricas\n",
    "from yellowbrick.cluster  import KElbowVisualizer, SilhouetteVisualizer\n",
    "from sklearn              import metrics as m\n",
    "from sklearn                 import manifold as mn\n",
    "\n",
    "#processamento de dados\n",
    "from sklearn.preprocessing import StandardScaler\n",
    "from sklearn.preprocessing import MinMaxScaler\n",
    "\n",
    "#modelos\n",
    "from sklearn              import cluster as c\n",
    "from sklearn import  mixture as mx\n",
    "from scipy.cluster import hierarchy as hr\n",
    "from sklearn.neighbors import NearestNeighbors\n",
    "from sklearn.ensemble import RandomForestRegressor \n",
    "\n",
    "# estudo de espaço\n",
    "import umap.umap_ as umap\n",
    "from sklearn import decomposition as  dcp\n",
    "from sklearn.manifold import TSNE"
   ]
  },
  {
   "cell_type": "markdown",
   "id": "6fb30404",
   "metadata": {
    "heading_collapsed": true
   },
   "source": [
    "## Helper funtions"
   ]
  },
  {
   "cell_type": "code",
   "execution_count": 89,
   "id": "07a17d35",
   "metadata": {
    "ExecuteTime": {
     "end_time": "2023-02-20T14:03:38.139635Z",
     "start_time": "2023-02-20T14:03:38.101862Z"
    },
    "hidden": true
   },
   "outputs": [
    {
     "name": "stdout",
     "output_type": "stream",
     "text": [
      "%pylab is deprecated, use %matplotlib inline and import the required libraries.\n",
      "Populating the interactive namespace from numpy and matplotlib\n"
     ]
    },
    {
     "name": "stderr",
     "output_type": "stream",
     "text": [
      "C:\\Users\\Lavin\\anaconda3\\envs\\insiders_clustering\\lib\\site-packages\\IPython\\core\\magics\\pylab.py:162: UserWarning: pylab import has clobbered these variables: ['re']\n",
      "`%matplotlib` prevents importing * from pylab and numpy\n",
      "  warn(\"pylab import has clobbered these variables: %s\"  % clobbered +\n"
     ]
    },
    {
     "data": {
      "text/html": [
       "<style>.container { width:100% !important; }</style>"
      ],
      "text/plain": [
       "<IPython.core.display.HTML object>"
      ]
     },
     "metadata": {},
     "output_type": "display_data"
    }
   ],
   "source": [
    "from IPython.core.display    import HTML\n",
    "def jupyter_settings():\n",
    "    %matplotlib inline\n",
    "    %pylab inline\n",
    "    plt.style.use( 'bmh' )\n",
    "    plt.rcParams['figure.figsize'] = [25, 12]\n",
    "    plt.rcParams['font.size'] = 24\n",
    "    display( HTML( '<style>.container { width:100% !important; }</style>') )\n",
    "    sns.set()\n",
    "jupyter_settings()"
   ]
  },
  {
   "cell_type": "markdown",
   "id": "7cfd6327",
   "metadata": {
    "heading_collapsed": true
   },
   "source": [
    "# load data"
   ]
  },
  {
   "cell_type": "code",
   "execution_count": 90,
   "id": "b56483e1",
   "metadata": {
    "ExecuteTime": {
     "end_time": "2023-02-20T14:03:39.119509Z",
     "start_time": "2023-02-20T14:03:38.143907Z"
    },
    "hidden": true
   },
   "outputs": [],
   "source": [
    "df_raw = pd.read_csv('C:/Users/Lavin/Documents/Comunidade DS/insiders clustering/data/raw/Ecommerce.csv',encoding= 'unicode_escape')"
   ]
  },
  {
   "cell_type": "code",
   "execution_count": 91,
   "id": "c5ee019a",
   "metadata": {
    "ExecuteTime": {
     "end_time": "2023-02-20T14:03:39.156789Z",
     "start_time": "2023-02-20T14:03:39.119509Z"
    },
    "hidden": true,
    "scrolled": true
   },
   "outputs": [
    {
     "data": {
      "text/html": [
       "<div>\n",
       "<style scoped>\n",
       "    .dataframe tbody tr th:only-of-type {\n",
       "        vertical-align: middle;\n",
       "    }\n",
       "\n",
       "    .dataframe tbody tr th {\n",
       "        vertical-align: top;\n",
       "    }\n",
       "\n",
       "    .dataframe thead th {\n",
       "        text-align: right;\n",
       "    }\n",
       "</style>\n",
       "<table border=\"1\" class=\"dataframe\">\n",
       "  <thead>\n",
       "    <tr style=\"text-align: right;\">\n",
       "      <th></th>\n",
       "      <th>InvoiceNo</th>\n",
       "      <th>StockCode</th>\n",
       "      <th>Description</th>\n",
       "      <th>Quantity</th>\n",
       "      <th>InvoiceDate</th>\n",
       "      <th>UnitPrice</th>\n",
       "      <th>CustomerID</th>\n",
       "      <th>Country</th>\n",
       "      <th>Unnamed: 8</th>\n",
       "    </tr>\n",
       "  </thead>\n",
       "  <tbody>\n",
       "    <tr>\n",
       "      <th>0</th>\n",
       "      <td>536365</td>\n",
       "      <td>85123A</td>\n",
       "      <td>WHITE HANGING HEART T-LIGHT HOLDER</td>\n",
       "      <td>6</td>\n",
       "      <td>29-Nov-16</td>\n",
       "      <td>2.55</td>\n",
       "      <td>17850.0</td>\n",
       "      <td>United Kingdom</td>\n",
       "      <td>NaN</td>\n",
       "    </tr>\n",
       "    <tr>\n",
       "      <th>1</th>\n",
       "      <td>536365</td>\n",
       "      <td>71053</td>\n",
       "      <td>WHITE METAL LANTERN</td>\n",
       "      <td>6</td>\n",
       "      <td>29-Nov-16</td>\n",
       "      <td>3.39</td>\n",
       "      <td>17850.0</td>\n",
       "      <td>United Kingdom</td>\n",
       "      <td>NaN</td>\n",
       "    </tr>\n",
       "    <tr>\n",
       "      <th>2</th>\n",
       "      <td>536365</td>\n",
       "      <td>84406B</td>\n",
       "      <td>CREAM CUPID HEARTS COAT HANGER</td>\n",
       "      <td>8</td>\n",
       "      <td>29-Nov-16</td>\n",
       "      <td>2.75</td>\n",
       "      <td>17850.0</td>\n",
       "      <td>United Kingdom</td>\n",
       "      <td>NaN</td>\n",
       "    </tr>\n",
       "    <tr>\n",
       "      <th>3</th>\n",
       "      <td>536365</td>\n",
       "      <td>84029G</td>\n",
       "      <td>KNITTED UNION FLAG HOT WATER BOTTLE</td>\n",
       "      <td>6</td>\n",
       "      <td>29-Nov-16</td>\n",
       "      <td>3.39</td>\n",
       "      <td>17850.0</td>\n",
       "      <td>United Kingdom</td>\n",
       "      <td>NaN</td>\n",
       "    </tr>\n",
       "    <tr>\n",
       "      <th>4</th>\n",
       "      <td>536365</td>\n",
       "      <td>84029E</td>\n",
       "      <td>RED WOOLLY HOTTIE WHITE HEART.</td>\n",
       "      <td>6</td>\n",
       "      <td>29-Nov-16</td>\n",
       "      <td>3.39</td>\n",
       "      <td>17850.0</td>\n",
       "      <td>United Kingdom</td>\n",
       "      <td>NaN</td>\n",
       "    </tr>\n",
       "  </tbody>\n",
       "</table>\n",
       "</div>"
      ],
      "text/plain": [
       "  InvoiceNo StockCode                          Description  Quantity  \\\n",
       "0    536365    85123A   WHITE HANGING HEART T-LIGHT HOLDER         6   \n",
       "1    536365     71053                  WHITE METAL LANTERN         6   \n",
       "2    536365    84406B       CREAM CUPID HEARTS COAT HANGER         8   \n",
       "3    536365    84029G  KNITTED UNION FLAG HOT WATER BOTTLE         6   \n",
       "4    536365    84029E       RED WOOLLY HOTTIE WHITE HEART.         6   \n",
       "\n",
       "  InvoiceDate  UnitPrice  CustomerID         Country  Unnamed: 8  \n",
       "0   29-Nov-16       2.55     17850.0  United Kingdom         NaN  \n",
       "1   29-Nov-16       3.39     17850.0  United Kingdom         NaN  \n",
       "2   29-Nov-16       2.75     17850.0  United Kingdom         NaN  \n",
       "3   29-Nov-16       3.39     17850.0  United Kingdom         NaN  \n",
       "4   29-Nov-16       3.39     17850.0  United Kingdom         NaN  "
      ]
     },
     "execution_count": 91,
     "metadata": {},
     "output_type": "execute_result"
    }
   ],
   "source": [
    "df_raw.head()"
   ]
  },
  {
   "cell_type": "code",
   "execution_count": 92,
   "id": "4aaaa202",
   "metadata": {
    "ExecuteTime": {
     "end_time": "2023-02-20T14:03:39.219096Z",
     "start_time": "2023-02-20T14:03:39.156789Z"
    },
    "hidden": true
   },
   "outputs": [],
   "source": [
    "df1 = df_raw.copy()"
   ]
  },
  {
   "cell_type": "markdown",
   "id": "19dab3df",
   "metadata": {
    "hidden": true
   },
   "source": [
    "**data dimensions**"
   ]
  },
  {
   "cell_type": "code",
   "execution_count": 93,
   "id": "f206130f",
   "metadata": {
    "ExecuteTime": {
     "end_time": "2023-02-20T14:03:39.250252Z",
     "start_time": "2023-02-20T14:03:39.227101Z"
    },
    "hidden": true
   },
   "outputs": [
    {
     "data": {
      "text/plain": [
       "(541909, 9)"
      ]
     },
     "execution_count": 93,
     "metadata": {},
     "output_type": "execute_result"
    }
   ],
   "source": [
    "df1.shape"
   ]
  },
  {
   "cell_type": "markdown",
   "id": "bb72eb2d",
   "metadata": {
    "hidden": true
   },
   "source": [
    "**Rename columns**"
   ]
  },
  {
   "cell_type": "code",
   "execution_count": 94,
   "id": "5ac5a25a",
   "metadata": {
    "ExecuteTime": {
     "end_time": "2023-02-20T14:03:39.281502Z",
     "start_time": "2023-02-20T14:03:39.250252Z"
    },
    "hidden": true
   },
   "outputs": [],
   "source": [
    "old_cols = df1.columns\n",
    "snakecase = lambda x: inflection.underscore(x)\n",
    "new_cols = list(map(snakecase,old_cols))\n",
    "df1.columns = new_cols"
   ]
  },
  {
   "cell_type": "code",
   "execution_count": 95,
   "id": "4aaf1ea4",
   "metadata": {
    "ExecuteTime": {
     "end_time": "2023-02-20T14:03:39.297126Z",
     "start_time": "2023-02-20T14:03:39.281502Z"
    },
    "hidden": true
   },
   "outputs": [
    {
     "data": {
      "text/plain": [
       "Index(['invoice_no', 'stock_code', 'description', 'quantity', 'invoice_date',\n",
       "       'unit_price', 'customer_id', 'country', 'unnamed: 8'],\n",
       "      dtype='object')"
      ]
     },
     "execution_count": 95,
     "metadata": {},
     "output_type": "execute_result"
    }
   ],
   "source": [
    "df1.columns"
   ]
  },
  {
   "cell_type": "markdown",
   "id": "aa9db32f",
   "metadata": {
    "hidden": true
   },
   "source": [
    "**delete column**"
   ]
  },
  {
   "cell_type": "code",
   "execution_count": 96,
   "id": "937fa595",
   "metadata": {
    "ExecuteTime": {
     "end_time": "2023-02-20T14:03:39.373152Z",
     "start_time": "2023-02-20T14:03:39.297126Z"
    },
    "hidden": true
   },
   "outputs": [],
   "source": [
    "df1.drop(columns='unnamed: 8',inplace=True)"
   ]
  },
  {
   "cell_type": "code",
   "execution_count": 97,
   "id": "0b7d43ab",
   "metadata": {
    "ExecuteTime": {
     "end_time": "2023-02-20T14:03:39.404410Z",
     "start_time": "2023-02-20T14:03:39.373152Z"
    },
    "hidden": true,
    "scrolled": false
   },
   "outputs": [
    {
     "data": {
      "text/html": [
       "<div>\n",
       "<style scoped>\n",
       "    .dataframe tbody tr th:only-of-type {\n",
       "        vertical-align: middle;\n",
       "    }\n",
       "\n",
       "    .dataframe tbody tr th {\n",
       "        vertical-align: top;\n",
       "    }\n",
       "\n",
       "    .dataframe thead th {\n",
       "        text-align: right;\n",
       "    }\n",
       "</style>\n",
       "<table border=\"1\" class=\"dataframe\">\n",
       "  <thead>\n",
       "    <tr style=\"text-align: right;\">\n",
       "      <th></th>\n",
       "      <th>invoice_no</th>\n",
       "      <th>stock_code</th>\n",
       "      <th>description</th>\n",
       "      <th>quantity</th>\n",
       "      <th>invoice_date</th>\n",
       "      <th>unit_price</th>\n",
       "      <th>customer_id</th>\n",
       "      <th>country</th>\n",
       "    </tr>\n",
       "  </thead>\n",
       "  <tbody>\n",
       "    <tr>\n",
       "      <th>0</th>\n",
       "      <td>536365</td>\n",
       "      <td>85123A</td>\n",
       "      <td>WHITE HANGING HEART T-LIGHT HOLDER</td>\n",
       "      <td>6</td>\n",
       "      <td>29-Nov-16</td>\n",
       "      <td>2.55</td>\n",
       "      <td>17850.0</td>\n",
       "      <td>United Kingdom</td>\n",
       "    </tr>\n",
       "    <tr>\n",
       "      <th>1</th>\n",
       "      <td>536365</td>\n",
       "      <td>71053</td>\n",
       "      <td>WHITE METAL LANTERN</td>\n",
       "      <td>6</td>\n",
       "      <td>29-Nov-16</td>\n",
       "      <td>3.39</td>\n",
       "      <td>17850.0</td>\n",
       "      <td>United Kingdom</td>\n",
       "    </tr>\n",
       "    <tr>\n",
       "      <th>2</th>\n",
       "      <td>536365</td>\n",
       "      <td>84406B</td>\n",
       "      <td>CREAM CUPID HEARTS COAT HANGER</td>\n",
       "      <td>8</td>\n",
       "      <td>29-Nov-16</td>\n",
       "      <td>2.75</td>\n",
       "      <td>17850.0</td>\n",
       "      <td>United Kingdom</td>\n",
       "    </tr>\n",
       "    <tr>\n",
       "      <th>3</th>\n",
       "      <td>536365</td>\n",
       "      <td>84029G</td>\n",
       "      <td>KNITTED UNION FLAG HOT WATER BOTTLE</td>\n",
       "      <td>6</td>\n",
       "      <td>29-Nov-16</td>\n",
       "      <td>3.39</td>\n",
       "      <td>17850.0</td>\n",
       "      <td>United Kingdom</td>\n",
       "    </tr>\n",
       "    <tr>\n",
       "      <th>4</th>\n",
       "      <td>536365</td>\n",
       "      <td>84029E</td>\n",
       "      <td>RED WOOLLY HOTTIE WHITE HEART.</td>\n",
       "      <td>6</td>\n",
       "      <td>29-Nov-16</td>\n",
       "      <td>3.39</td>\n",
       "      <td>17850.0</td>\n",
       "      <td>United Kingdom</td>\n",
       "    </tr>\n",
       "  </tbody>\n",
       "</table>\n",
       "</div>"
      ],
      "text/plain": [
       "  invoice_no stock_code                          description  quantity  \\\n",
       "0     536365     85123A   WHITE HANGING HEART T-LIGHT HOLDER         6   \n",
       "1     536365      71053                  WHITE METAL LANTERN         6   \n",
       "2     536365     84406B       CREAM CUPID HEARTS COAT HANGER         8   \n",
       "3     536365     84029G  KNITTED UNION FLAG HOT WATER BOTTLE         6   \n",
       "4     536365     84029E       RED WOOLLY HOTTIE WHITE HEART.         6   \n",
       "\n",
       "  invoice_date  unit_price  customer_id         country  \n",
       "0    29-Nov-16        2.55      17850.0  United Kingdom  \n",
       "1    29-Nov-16        3.39      17850.0  United Kingdom  \n",
       "2    29-Nov-16        2.75      17850.0  United Kingdom  \n",
       "3    29-Nov-16        3.39      17850.0  United Kingdom  \n",
       "4    29-Nov-16        3.39      17850.0  United Kingdom  "
      ]
     },
     "execution_count": 97,
     "metadata": {},
     "output_type": "execute_result"
    }
   ],
   "source": [
    "df1.head()"
   ]
  },
  {
   "cell_type": "markdown",
   "id": "d8367eef",
   "metadata": {
    "hidden": true
   },
   "source": [
    "## Data types"
   ]
  },
  {
   "cell_type": "code",
   "execution_count": 98,
   "id": "1dbfb941",
   "metadata": {
    "ExecuteTime": {
     "end_time": "2023-02-20T14:03:39.442178Z",
     "start_time": "2023-02-20T14:03:39.404410Z"
    },
    "hidden": true
   },
   "outputs": [
    {
     "data": {
      "text/plain": [
       "invoice_no       object\n",
       "stock_code       object\n",
       "description      object\n",
       "quantity          int64\n",
       "invoice_date     object\n",
       "unit_price      float64\n",
       "customer_id     float64\n",
       "country          object\n",
       "dtype: object"
      ]
     },
     "execution_count": 98,
     "metadata": {},
     "output_type": "execute_result"
    }
   ],
   "source": [
    "df1.dtypes"
   ]
  },
  {
   "cell_type": "markdown",
   "id": "e5e85287",
   "metadata": {
    "hidden": true
   },
   "source": [
    "## Checking NA"
   ]
  },
  {
   "cell_type": "code",
   "execution_count": 99,
   "id": "9a7d6a3d",
   "metadata": {
    "ExecuteTime": {
     "end_time": "2023-02-20T14:03:39.589355Z",
     "start_time": "2023-02-20T14:03:39.442178Z"
    },
    "hidden": true
   },
   "outputs": [
    {
     "data": {
      "text/plain": [
       "invoice_no       0.000000\n",
       "stock_code       0.000000\n",
       "description      0.268311\n",
       "quantity         0.000000\n",
       "invoice_date     0.000000\n",
       "unit_price       0.000000\n",
       "customer_id     24.926694\n",
       "country          0.000000\n",
       "dtype: float64"
      ]
     },
     "execution_count": 99,
     "metadata": {},
     "output_type": "execute_result"
    }
   ],
   "source": [
    "df1.isnull().sum()/len(df_raw)*100"
   ]
  },
  {
   "cell_type": "markdown",
   "id": "b9ae9d28",
   "metadata": {
    "hidden": true
   },
   "source": [
    "### replace NA"
   ]
  },
  {
   "cell_type": "code",
   "execution_count": 100,
   "id": "b9d77d14",
   "metadata": {
    "ExecuteTime": {
     "end_time": "2023-02-20T14:03:39.642754Z",
     "start_time": "2023-02-20T14:03:39.589355Z"
    },
    "hidden": true
   },
   "outputs": [
    {
     "data": {
      "text/html": [
       "<div>\n",
       "<style scoped>\n",
       "    .dataframe tbody tr th:only-of-type {\n",
       "        vertical-align: middle;\n",
       "    }\n",
       "\n",
       "    .dataframe tbody tr th {\n",
       "        vertical-align: top;\n",
       "    }\n",
       "\n",
       "    .dataframe thead th {\n",
       "        text-align: right;\n",
       "    }\n",
       "</style>\n",
       "<table border=\"1\" class=\"dataframe\">\n",
       "  <thead>\n",
       "    <tr style=\"text-align: right;\">\n",
       "      <th></th>\n",
       "      <th>invoice_no</th>\n",
       "      <th>stock_code</th>\n",
       "      <th>description</th>\n",
       "      <th>quantity</th>\n",
       "      <th>invoice_date</th>\n",
       "      <th>unit_price</th>\n",
       "      <th>customer_id</th>\n",
       "      <th>country</th>\n",
       "    </tr>\n",
       "  </thead>\n",
       "  <tbody>\n",
       "    <tr>\n",
       "      <th>622</th>\n",
       "      <td>536414</td>\n",
       "      <td>22139</td>\n",
       "      <td>NaN</td>\n",
       "      <td>56</td>\n",
       "      <td>29-Nov-16</td>\n",
       "      <td>0.00</td>\n",
       "      <td>NaN</td>\n",
       "      <td>United Kingdom</td>\n",
       "    </tr>\n",
       "    <tr>\n",
       "      <th>1443</th>\n",
       "      <td>536544</td>\n",
       "      <td>21773</td>\n",
       "      <td>DECORATIVE ROSE BATHROOM BOTTLE</td>\n",
       "      <td>1</td>\n",
       "      <td>29-Nov-16</td>\n",
       "      <td>2.51</td>\n",
       "      <td>NaN</td>\n",
       "      <td>United Kingdom</td>\n",
       "    </tr>\n",
       "    <tr>\n",
       "      <th>1444</th>\n",
       "      <td>536544</td>\n",
       "      <td>21774</td>\n",
       "      <td>DECORATIVE CATS BATHROOM BOTTLE</td>\n",
       "      <td>2</td>\n",
       "      <td>29-Nov-16</td>\n",
       "      <td>2.51</td>\n",
       "      <td>NaN</td>\n",
       "      <td>United Kingdom</td>\n",
       "    </tr>\n",
       "    <tr>\n",
       "      <th>1445</th>\n",
       "      <td>536544</td>\n",
       "      <td>21786</td>\n",
       "      <td>POLKADOT RAIN HAT</td>\n",
       "      <td>4</td>\n",
       "      <td>29-Nov-16</td>\n",
       "      <td>0.85</td>\n",
       "      <td>NaN</td>\n",
       "      <td>United Kingdom</td>\n",
       "    </tr>\n",
       "    <tr>\n",
       "      <th>1446</th>\n",
       "      <td>536544</td>\n",
       "      <td>21787</td>\n",
       "      <td>RAIN PONCHO RETROSPOT</td>\n",
       "      <td>2</td>\n",
       "      <td>29-Nov-16</td>\n",
       "      <td>1.66</td>\n",
       "      <td>NaN</td>\n",
       "      <td>United Kingdom</td>\n",
       "    </tr>\n",
       "  </tbody>\n",
       "</table>\n",
       "</div>"
      ],
      "text/plain": [
       "     invoice_no stock_code                      description  quantity  \\\n",
       "622      536414      22139                              NaN        56   \n",
       "1443     536544      21773  DECORATIVE ROSE BATHROOM BOTTLE         1   \n",
       "1444     536544      21774  DECORATIVE CATS BATHROOM BOTTLE         2   \n",
       "1445     536544      21786               POLKADOT RAIN HAT          4   \n",
       "1446     536544      21787            RAIN PONCHO RETROSPOT         2   \n",
       "\n",
       "     invoice_date  unit_price  customer_id         country  \n",
       "622     29-Nov-16        0.00          NaN  United Kingdom  \n",
       "1443    29-Nov-16        2.51          NaN  United Kingdom  \n",
       "1444    29-Nov-16        2.51          NaN  United Kingdom  \n",
       "1445    29-Nov-16        0.85          NaN  United Kingdom  \n",
       "1446    29-Nov-16        1.66          NaN  United Kingdom  "
      ]
     },
     "execution_count": 100,
     "metadata": {},
     "output_type": "execute_result"
    }
   ],
   "source": [
    "df_missing = df1.loc[df1['customer_id'].isna(),:]\n",
    "df_missing.head()"
   ]
  },
  {
   "cell_type": "code",
   "execution_count": 101,
   "id": "d7f172b7",
   "metadata": {
    "ExecuteTime": {
     "end_time": "2023-02-20T14:03:39.720869Z",
     "start_time": "2023-02-20T14:03:39.642754Z"
    },
    "hidden": true
   },
   "outputs": [
    {
     "data": {
      "text/html": [
       "<div>\n",
       "<style scoped>\n",
       "    .dataframe tbody tr th:only-of-type {\n",
       "        vertical-align: middle;\n",
       "    }\n",
       "\n",
       "    .dataframe tbody tr th {\n",
       "        vertical-align: top;\n",
       "    }\n",
       "\n",
       "    .dataframe thead th {\n",
       "        text-align: right;\n",
       "    }\n",
       "</style>\n",
       "<table border=\"1\" class=\"dataframe\">\n",
       "  <thead>\n",
       "    <tr style=\"text-align: right;\">\n",
       "      <th></th>\n",
       "      <th>invoice_no</th>\n",
       "      <th>stock_code</th>\n",
       "      <th>description</th>\n",
       "      <th>quantity</th>\n",
       "      <th>invoice_date</th>\n",
       "      <th>unit_price</th>\n",
       "      <th>customer_id</th>\n",
       "      <th>country</th>\n",
       "    </tr>\n",
       "  </thead>\n",
       "  <tbody>\n",
       "    <tr>\n",
       "      <th>0</th>\n",
       "      <td>536365</td>\n",
       "      <td>85123A</td>\n",
       "      <td>WHITE HANGING HEART T-LIGHT HOLDER</td>\n",
       "      <td>6</td>\n",
       "      <td>29-Nov-16</td>\n",
       "      <td>2.55</td>\n",
       "      <td>17850.0</td>\n",
       "      <td>United Kingdom</td>\n",
       "    </tr>\n",
       "    <tr>\n",
       "      <th>1</th>\n",
       "      <td>536365</td>\n",
       "      <td>71053</td>\n",
       "      <td>WHITE METAL LANTERN</td>\n",
       "      <td>6</td>\n",
       "      <td>29-Nov-16</td>\n",
       "      <td>3.39</td>\n",
       "      <td>17850.0</td>\n",
       "      <td>United Kingdom</td>\n",
       "    </tr>\n",
       "    <tr>\n",
       "      <th>2</th>\n",
       "      <td>536365</td>\n",
       "      <td>84406B</td>\n",
       "      <td>CREAM CUPID HEARTS COAT HANGER</td>\n",
       "      <td>8</td>\n",
       "      <td>29-Nov-16</td>\n",
       "      <td>2.75</td>\n",
       "      <td>17850.0</td>\n",
       "      <td>United Kingdom</td>\n",
       "    </tr>\n",
       "    <tr>\n",
       "      <th>3</th>\n",
       "      <td>536365</td>\n",
       "      <td>84029G</td>\n",
       "      <td>KNITTED UNION FLAG HOT WATER BOTTLE</td>\n",
       "      <td>6</td>\n",
       "      <td>29-Nov-16</td>\n",
       "      <td>3.39</td>\n",
       "      <td>17850.0</td>\n",
       "      <td>United Kingdom</td>\n",
       "    </tr>\n",
       "    <tr>\n",
       "      <th>4</th>\n",
       "      <td>536365</td>\n",
       "      <td>84029E</td>\n",
       "      <td>RED WOOLLY HOTTIE WHITE HEART.</td>\n",
       "      <td>6</td>\n",
       "      <td>29-Nov-16</td>\n",
       "      <td>3.39</td>\n",
       "      <td>17850.0</td>\n",
       "      <td>United Kingdom</td>\n",
       "    </tr>\n",
       "    <tr>\n",
       "      <th>...</th>\n",
       "      <td>...</td>\n",
       "      <td>...</td>\n",
       "      <td>...</td>\n",
       "      <td>...</td>\n",
       "      <td>...</td>\n",
       "      <td>...</td>\n",
       "      <td>...</td>\n",
       "      <td>...</td>\n",
       "    </tr>\n",
       "    <tr>\n",
       "      <th>541904</th>\n",
       "      <td>581587</td>\n",
       "      <td>22613</td>\n",
       "      <td>PACK OF 20 SPACEBOY NAPKINS</td>\n",
       "      <td>12</td>\n",
       "      <td>7-Dec-17</td>\n",
       "      <td>0.85</td>\n",
       "      <td>12680.0</td>\n",
       "      <td>France</td>\n",
       "    </tr>\n",
       "    <tr>\n",
       "      <th>541905</th>\n",
       "      <td>581587</td>\n",
       "      <td>22899</td>\n",
       "      <td>CHILDREN'S APRON DOLLY GIRL</td>\n",
       "      <td>6</td>\n",
       "      <td>7-Dec-17</td>\n",
       "      <td>2.10</td>\n",
       "      <td>12680.0</td>\n",
       "      <td>France</td>\n",
       "    </tr>\n",
       "    <tr>\n",
       "      <th>541906</th>\n",
       "      <td>581587</td>\n",
       "      <td>23254</td>\n",
       "      <td>CHILDRENS CUTLERY DOLLY GIRL</td>\n",
       "      <td>4</td>\n",
       "      <td>7-Dec-17</td>\n",
       "      <td>4.15</td>\n",
       "      <td>12680.0</td>\n",
       "      <td>France</td>\n",
       "    </tr>\n",
       "    <tr>\n",
       "      <th>541907</th>\n",
       "      <td>581587</td>\n",
       "      <td>23255</td>\n",
       "      <td>CHILDRENS CUTLERY CIRCUS PARADE</td>\n",
       "      <td>4</td>\n",
       "      <td>7-Dec-17</td>\n",
       "      <td>4.15</td>\n",
       "      <td>12680.0</td>\n",
       "      <td>France</td>\n",
       "    </tr>\n",
       "    <tr>\n",
       "      <th>541908</th>\n",
       "      <td>581587</td>\n",
       "      <td>22138</td>\n",
       "      <td>BAKING SET 9 PIECE RETROSPOT</td>\n",
       "      <td>3</td>\n",
       "      <td>7-Dec-17</td>\n",
       "      <td>4.95</td>\n",
       "      <td>12680.0</td>\n",
       "      <td>France</td>\n",
       "    </tr>\n",
       "  </tbody>\n",
       "</table>\n",
       "<p>406829 rows × 8 columns</p>\n",
       "</div>"
      ],
      "text/plain": [
       "       invoice_no stock_code                          description  quantity  \\\n",
       "0          536365     85123A   WHITE HANGING HEART T-LIGHT HOLDER         6   \n",
       "1          536365      71053                  WHITE METAL LANTERN         6   \n",
       "2          536365     84406B       CREAM CUPID HEARTS COAT HANGER         8   \n",
       "3          536365     84029G  KNITTED UNION FLAG HOT WATER BOTTLE         6   \n",
       "4          536365     84029E       RED WOOLLY HOTTIE WHITE HEART.         6   \n",
       "...           ...        ...                                  ...       ...   \n",
       "541904     581587      22613          PACK OF 20 SPACEBOY NAPKINS        12   \n",
       "541905     581587      22899         CHILDREN'S APRON DOLLY GIRL          6   \n",
       "541906     581587      23254        CHILDRENS CUTLERY DOLLY GIRL          4   \n",
       "541907     581587      23255      CHILDRENS CUTLERY CIRCUS PARADE         4   \n",
       "541908     581587      22138        BAKING SET 9 PIECE RETROSPOT          3   \n",
       "\n",
       "       invoice_date  unit_price  customer_id         country  \n",
       "0         29-Nov-16        2.55      17850.0  United Kingdom  \n",
       "1         29-Nov-16        3.39      17850.0  United Kingdom  \n",
       "2         29-Nov-16        2.75      17850.0  United Kingdom  \n",
       "3         29-Nov-16        3.39      17850.0  United Kingdom  \n",
       "4         29-Nov-16        3.39      17850.0  United Kingdom  \n",
       "...             ...         ...          ...             ...  \n",
       "541904     7-Dec-17        0.85      12680.0          France  \n",
       "541905     7-Dec-17        2.10      12680.0          France  \n",
       "541906     7-Dec-17        4.15      12680.0          France  \n",
       "541907     7-Dec-17        4.15      12680.0          France  \n",
       "541908     7-Dec-17        4.95      12680.0          France  \n",
       "\n",
       "[406829 rows x 8 columns]"
      ]
     },
     "execution_count": 101,
     "metadata": {},
     "output_type": "execute_result"
    }
   ],
   "source": [
    "df_not_missing = df1.loc[~df1['customer_id'].isna(),:]\n",
    "df_not_missing"
   ]
  },
  {
   "cell_type": "code",
   "execution_count": 102,
   "id": "34669423",
   "metadata": {
    "ExecuteTime": {
     "end_time": "2023-02-20T14:03:40.122508Z",
     "start_time": "2023-02-20T14:03:39.720869Z"
    },
    "hidden": true
   },
   "outputs": [],
   "source": [
    "# create reference\n",
    "df_backup = pd.DataFrame(df_missing['invoice_no'].drop_duplicates())\n",
    "df_backup['customer_id'] = np.arange(19000,19000+len(df_backup),1)\n",
    "\n",
    "#merge original with reference\n",
    "df1 = pd.merge(df1,df_backup,on='invoice_no',how='left')\n",
    "\n",
    "#coalesce\n",
    "df1['customer_id'] = df1['customer_id_x'].combine_first(df1['customer_id_y'])\n",
    "\n",
    "df1 = df1.drop(columns=['customer_id_x','customer_id_y'])"
   ]
  },
  {
   "cell_type": "code",
   "execution_count": 103,
   "id": "08a43ef7",
   "metadata": {
    "ExecuteTime": {
     "end_time": "2023-02-20T14:03:40.259604Z",
     "start_time": "2023-02-20T14:03:40.122508Z"
    },
    "hidden": true
   },
   "outputs": [
    {
     "data": {
      "text/plain": [
       "invoice_no         0\n",
       "stock_code         0\n",
       "description     1454\n",
       "quantity           0\n",
       "invoice_date       0\n",
       "unit_price         0\n",
       "country            0\n",
       "customer_id        0\n",
       "dtype: int64"
      ]
     },
     "execution_count": 103,
     "metadata": {},
     "output_type": "execute_result"
    }
   ],
   "source": [
    "df1.isnull().sum()"
   ]
  },
  {
   "cell_type": "code",
   "execution_count": 104,
   "id": "d5d6a0e9",
   "metadata": {
    "ExecuteTime": {
     "end_time": "2023-02-20T14:03:40.289978Z",
     "start_time": "2023-02-20T14:03:40.266914Z"
    },
    "hidden": true
   },
   "outputs": [
    {
     "data": {
      "text/html": [
       "<div>\n",
       "<style scoped>\n",
       "    .dataframe tbody tr th:only-of-type {\n",
       "        vertical-align: middle;\n",
       "    }\n",
       "\n",
       "    .dataframe tbody tr th {\n",
       "        vertical-align: top;\n",
       "    }\n",
       "\n",
       "    .dataframe thead th {\n",
       "        text-align: right;\n",
       "    }\n",
       "</style>\n",
       "<table border=\"1\" class=\"dataframe\">\n",
       "  <thead>\n",
       "    <tr style=\"text-align: right;\">\n",
       "      <th></th>\n",
       "      <th>invoice_no</th>\n",
       "      <th>customer_id</th>\n",
       "    </tr>\n",
       "  </thead>\n",
       "  <tbody>\n",
       "    <tr>\n",
       "      <th>622</th>\n",
       "      <td>536414</td>\n",
       "      <td>19000</td>\n",
       "    </tr>\n",
       "    <tr>\n",
       "      <th>1443</th>\n",
       "      <td>536544</td>\n",
       "      <td>19001</td>\n",
       "    </tr>\n",
       "    <tr>\n",
       "      <th>1970</th>\n",
       "      <td>536545</td>\n",
       "      <td>19002</td>\n",
       "    </tr>\n",
       "    <tr>\n",
       "      <th>1971</th>\n",
       "      <td>536546</td>\n",
       "      <td>19003</td>\n",
       "    </tr>\n",
       "    <tr>\n",
       "      <th>1972</th>\n",
       "      <td>536547</td>\n",
       "      <td>19004</td>\n",
       "    </tr>\n",
       "  </tbody>\n",
       "</table>\n",
       "</div>"
      ],
      "text/plain": [
       "     invoice_no  customer_id\n",
       "622      536414        19000\n",
       "1443     536544        19001\n",
       "1970     536545        19002\n",
       "1971     536546        19003\n",
       "1972     536547        19004"
      ]
     },
     "execution_count": 104,
     "metadata": {},
     "output_type": "execute_result"
    }
   ],
   "source": [
    "df_backup.head()"
   ]
  },
  {
   "cell_type": "code",
   "execution_count": 105,
   "id": "4c7b0814",
   "metadata": {
    "ExecuteTime": {
     "end_time": "2023-02-20T14:03:40.321229Z",
     "start_time": "2023-02-20T14:03:40.289978Z"
    },
    "hidden": true
   },
   "outputs": [
    {
     "data": {
      "text/plain": [
       "0.0"
      ]
     },
     "execution_count": 105,
     "metadata": {},
     "output_type": "execute_result"
    }
   ],
   "source": [
    "1- df1.shape[0]/df_raw.shape[0]"
   ]
  },
  {
   "cell_type": "code",
   "execution_count": 106,
   "id": "a8f1a9d0",
   "metadata": {
    "ExecuteTime": {
     "end_time": "2023-02-20T14:03:40.476008Z",
     "start_time": "2023-02-20T14:03:40.328243Z"
    },
    "hidden": true
   },
   "outputs": [
    {
     "data": {
      "text/plain": [
       "invoice_no         0\n",
       "stock_code         0\n",
       "description     1454\n",
       "quantity           0\n",
       "invoice_date       0\n",
       "unit_price         0\n",
       "country            0\n",
       "customer_id        0\n",
       "dtype: int64"
      ]
     },
     "execution_count": 106,
     "metadata": {},
     "output_type": "execute_result"
    }
   ],
   "source": [
    "df1.isnull().sum()"
   ]
  },
  {
   "cell_type": "markdown",
   "id": "080c7975",
   "metadata": {
    "heading_collapsed": true,
    "hidden": true
   },
   "source": [
    "## Changing types"
   ]
  },
  {
   "cell_type": "code",
   "execution_count": 107,
   "id": "ae5056f1",
   "metadata": {
    "ExecuteTime": {
     "end_time": "2023-02-20T14:03:40.591696Z",
     "start_time": "2023-02-20T14:03:40.476008Z"
    },
    "hidden": true
   },
   "outputs": [],
   "source": [
    "df1['invoice_date'] = pd.to_datetime(df1['invoice_date'],format='%d-%b-%y')"
   ]
  },
  {
   "cell_type": "code",
   "execution_count": 108,
   "id": "63ec3ee2",
   "metadata": {
    "ExecuteTime": {
     "end_time": "2023-02-20T14:03:40.607040Z",
     "start_time": "2023-02-20T14:03:40.591696Z"
    },
    "hidden": true
   },
   "outputs": [],
   "source": [
    "#df1['invoice_no'].astype(int)"
   ]
  },
  {
   "cell_type": "code",
   "execution_count": 109,
   "id": "9e55b839",
   "metadata": {
    "ExecuteTime": {
     "end_time": "2023-02-20T14:03:40.644840Z",
     "start_time": "2023-02-20T14:03:40.607040Z"
    },
    "hidden": true
   },
   "outputs": [
    {
     "data": {
      "text/plain": [
       "invoice_no              object\n",
       "stock_code              object\n",
       "description             object\n",
       "quantity                 int64\n",
       "invoice_date    datetime64[ns]\n",
       "unit_price             float64\n",
       "country                 object\n",
       "customer_id            float64\n",
       "dtype: object"
      ]
     },
     "execution_count": 109,
     "metadata": {},
     "output_type": "execute_result"
    }
   ],
   "source": [
    "df1.dtypes"
   ]
  },
  {
   "cell_type": "markdown",
   "id": "e07392f5",
   "metadata": {
    "hidden": true
   },
   "source": [
    "'Invoice_no' possui letras em algumas linhas, necessita de limpeza mais detalhada"
   ]
  },
  {
   "cell_type": "markdown",
   "id": "8f81594c",
   "metadata": {
    "heading_collapsed": true
   },
   "source": [
    "# Data description"
   ]
  },
  {
   "cell_type": "code",
   "execution_count": 110,
   "id": "e3fed166",
   "metadata": {
    "ExecuteTime": {
     "end_time": "2023-02-20T14:03:40.691732Z",
     "start_time": "2023-02-20T14:03:40.644840Z"
    },
    "hidden": true
   },
   "outputs": [
    {
     "data": {
      "text/html": [
       "<div>\n",
       "<style scoped>\n",
       "    .dataframe tbody tr th:only-of-type {\n",
       "        vertical-align: middle;\n",
       "    }\n",
       "\n",
       "    .dataframe tbody tr th {\n",
       "        vertical-align: top;\n",
       "    }\n",
       "\n",
       "    .dataframe thead th {\n",
       "        text-align: right;\n",
       "    }\n",
       "</style>\n",
       "<table border=\"1\" class=\"dataframe\">\n",
       "  <thead>\n",
       "    <tr style=\"text-align: right;\">\n",
       "      <th></th>\n",
       "      <th>invoice_no</th>\n",
       "      <th>stock_code</th>\n",
       "      <th>description</th>\n",
       "      <th>quantity</th>\n",
       "      <th>invoice_date</th>\n",
       "      <th>unit_price</th>\n",
       "      <th>country</th>\n",
       "      <th>customer_id</th>\n",
       "    </tr>\n",
       "  </thead>\n",
       "  <tbody>\n",
       "    <tr>\n",
       "      <th>0</th>\n",
       "      <td>536365</td>\n",
       "      <td>85123A</td>\n",
       "      <td>WHITE HANGING HEART T-LIGHT HOLDER</td>\n",
       "      <td>6</td>\n",
       "      <td>2016-11-29</td>\n",
       "      <td>2.55</td>\n",
       "      <td>United Kingdom</td>\n",
       "      <td>17850.0</td>\n",
       "    </tr>\n",
       "    <tr>\n",
       "      <th>1</th>\n",
       "      <td>536365</td>\n",
       "      <td>71053</td>\n",
       "      <td>WHITE METAL LANTERN</td>\n",
       "      <td>6</td>\n",
       "      <td>2016-11-29</td>\n",
       "      <td>3.39</td>\n",
       "      <td>United Kingdom</td>\n",
       "      <td>17850.0</td>\n",
       "    </tr>\n",
       "    <tr>\n",
       "      <th>2</th>\n",
       "      <td>536365</td>\n",
       "      <td>84406B</td>\n",
       "      <td>CREAM CUPID HEARTS COAT HANGER</td>\n",
       "      <td>8</td>\n",
       "      <td>2016-11-29</td>\n",
       "      <td>2.75</td>\n",
       "      <td>United Kingdom</td>\n",
       "      <td>17850.0</td>\n",
       "    </tr>\n",
       "    <tr>\n",
       "      <th>3</th>\n",
       "      <td>536365</td>\n",
       "      <td>84029G</td>\n",
       "      <td>KNITTED UNION FLAG HOT WATER BOTTLE</td>\n",
       "      <td>6</td>\n",
       "      <td>2016-11-29</td>\n",
       "      <td>3.39</td>\n",
       "      <td>United Kingdom</td>\n",
       "      <td>17850.0</td>\n",
       "    </tr>\n",
       "    <tr>\n",
       "      <th>4</th>\n",
       "      <td>536365</td>\n",
       "      <td>84029E</td>\n",
       "      <td>RED WOOLLY HOTTIE WHITE HEART.</td>\n",
       "      <td>6</td>\n",
       "      <td>2016-11-29</td>\n",
       "      <td>3.39</td>\n",
       "      <td>United Kingdom</td>\n",
       "      <td>17850.0</td>\n",
       "    </tr>\n",
       "  </tbody>\n",
       "</table>\n",
       "</div>"
      ],
      "text/plain": [
       "  invoice_no stock_code                          description  quantity  \\\n",
       "0     536365     85123A   WHITE HANGING HEART T-LIGHT HOLDER         6   \n",
       "1     536365      71053                  WHITE METAL LANTERN         6   \n",
       "2     536365     84406B       CREAM CUPID HEARTS COAT HANGER         8   \n",
       "3     536365     84029G  KNITTED UNION FLAG HOT WATER BOTTLE         6   \n",
       "4     536365     84029E       RED WOOLLY HOTTIE WHITE HEART.         6   \n",
       "\n",
       "  invoice_date  unit_price         country  customer_id  \n",
       "0   2016-11-29        2.55  United Kingdom      17850.0  \n",
       "1   2016-11-29        3.39  United Kingdom      17850.0  \n",
       "2   2016-11-29        2.75  United Kingdom      17850.0  \n",
       "3   2016-11-29        3.39  United Kingdom      17850.0  \n",
       "4   2016-11-29        3.39  United Kingdom      17850.0  "
      ]
     },
     "execution_count": 110,
     "metadata": {},
     "output_type": "execute_result"
    }
   ],
   "source": [
    "df1.head()"
   ]
  },
  {
   "cell_type": "markdown",
   "id": "8d556f7e",
   "metadata": {
    "hidden": true
   },
   "source": [
    "'invoice_no', : categorical atributtes\n",
    "\n",
    "'stock_code': categorical atributtes\n",
    "\n",
    "'description': categorical atributtes\n",
    "\n",
    "'quantity': numerical atributtes\n",
    "\n",
    "'invoice_date': numerical atributtes\n",
    "\n",
    "'unit_price': numerical atributtes\n",
    "\n",
    "'customer_id': categorical atributtes\n",
    "\n",
    "'country': categorical atributtes"
   ]
  },
  {
   "cell_type": "markdown",
   "id": "fe1c2e23",
   "metadata": {
    "hidden": true
   },
   "source": [
    "Remover 'European Community' e 'Unspecified'"
   ]
  },
  {
   "cell_type": "markdown",
   "id": "d2f6101a",
   "metadata": {
    "heading_collapsed": true
   },
   "source": [
    "# Filter"
   ]
  },
  {
   "cell_type": "code",
   "execution_count": 111,
   "id": "1d92031a",
   "metadata": {
    "ExecuteTime": {
     "end_time": "2023-02-20T14:03:40.745141Z",
     "start_time": "2023-02-20T14:03:40.691732Z"
    },
    "hidden": true
   },
   "outputs": [],
   "source": [
    "df2 = df1.copy()"
   ]
  },
  {
   "cell_type": "code",
   "execution_count": 112,
   "id": "be095a71",
   "metadata": {
    "ExecuteTime": {
     "end_time": "2023-02-20T14:03:41.123984Z",
     "start_time": "2023-02-20T14:03:40.745141Z"
    },
    "hidden": true
   },
   "outputs": [],
   "source": [
    "# unit price > 0.0\n",
    "df2 = df2.loc[df2['unit_price'] > 0.040,:]\n",
    "\n",
    "#stock code != ['POST','D','M','DOT','CRUK','C2']\n",
    "df2 = df2[~df2['stock_code'].isin(['POST', 'D', 'DOT', 'M', 'S', 'AMAZONFEE', 'm', 'DCGSSBOY','DCGSSGIRL', 'PADS', 'B', 'CRUK','C2'])]\n",
    "\n",
    "# description\n",
    "df2.drop(columns='description',inplace=True)\n",
    "\n",
    "# country\n",
    "df2 = df2[~df2['country'].isin(['European Community','Unspecified'])]\n",
    "\n",
    "\n",
    "df2 = df2[~df2['customer_id'].isin([16446])]\n",
    "\n",
    "\n",
    "# description\n",
    "## quantity - Negative numbers means product returns\n",
    "df_returns = df2.loc[df2['quantity']<0,:]\n",
    "df_purchase = df2.loc[df2['quantity']>0,:]"
   ]
  },
  {
   "cell_type": "markdown",
   "id": "97cf879e",
   "metadata": {
    "heading_collapsed": true
   },
   "source": [
    "# Features enginering"
   ]
  },
  {
   "cell_type": "code",
   "execution_count": 113,
   "id": "999bc141",
   "metadata": {
    "ExecuteTime": {
     "end_time": "2023-02-20T14:03:41.161538Z",
     "start_time": "2023-02-20T14:03:41.123984Z"
    },
    "hidden": true
   },
   "outputs": [],
   "source": [
    "df3 = df2.copy()"
   ]
  },
  {
   "cell_type": "code",
   "execution_count": 114,
   "id": "7f22b215",
   "metadata": {
    "ExecuteTime": {
     "end_time": "2023-02-20T14:03:41.208133Z",
     "start_time": "2023-02-20T14:03:41.161538Z"
    },
    "hidden": true
   },
   "outputs": [
    {
     "data": {
      "text/html": [
       "<div>\n",
       "<style scoped>\n",
       "    .dataframe tbody tr th:only-of-type {\n",
       "        vertical-align: middle;\n",
       "    }\n",
       "\n",
       "    .dataframe tbody tr th {\n",
       "        vertical-align: top;\n",
       "    }\n",
       "\n",
       "    .dataframe thead th {\n",
       "        text-align: right;\n",
       "    }\n",
       "</style>\n",
       "<table border=\"1\" class=\"dataframe\">\n",
       "  <thead>\n",
       "    <tr style=\"text-align: right;\">\n",
       "      <th></th>\n",
       "      <th>invoice_no</th>\n",
       "      <th>stock_code</th>\n",
       "      <th>quantity</th>\n",
       "      <th>invoice_date</th>\n",
       "      <th>unit_price</th>\n",
       "      <th>country</th>\n",
       "      <th>customer_id</th>\n",
       "    </tr>\n",
       "  </thead>\n",
       "  <tbody>\n",
       "    <tr>\n",
       "      <th>0</th>\n",
       "      <td>536365</td>\n",
       "      <td>85123A</td>\n",
       "      <td>6</td>\n",
       "      <td>2016-11-29</td>\n",
       "      <td>2.55</td>\n",
       "      <td>United Kingdom</td>\n",
       "      <td>17850.0</td>\n",
       "    </tr>\n",
       "    <tr>\n",
       "      <th>1</th>\n",
       "      <td>536365</td>\n",
       "      <td>71053</td>\n",
       "      <td>6</td>\n",
       "      <td>2016-11-29</td>\n",
       "      <td>3.39</td>\n",
       "      <td>United Kingdom</td>\n",
       "      <td>17850.0</td>\n",
       "    </tr>\n",
       "    <tr>\n",
       "      <th>2</th>\n",
       "      <td>536365</td>\n",
       "      <td>84406B</td>\n",
       "      <td>8</td>\n",
       "      <td>2016-11-29</td>\n",
       "      <td>2.75</td>\n",
       "      <td>United Kingdom</td>\n",
       "      <td>17850.0</td>\n",
       "    </tr>\n",
       "    <tr>\n",
       "      <th>3</th>\n",
       "      <td>536365</td>\n",
       "      <td>84029G</td>\n",
       "      <td>6</td>\n",
       "      <td>2016-11-29</td>\n",
       "      <td>3.39</td>\n",
       "      <td>United Kingdom</td>\n",
       "      <td>17850.0</td>\n",
       "    </tr>\n",
       "    <tr>\n",
       "      <th>4</th>\n",
       "      <td>536365</td>\n",
       "      <td>84029E</td>\n",
       "      <td>6</td>\n",
       "      <td>2016-11-29</td>\n",
       "      <td>3.39</td>\n",
       "      <td>United Kingdom</td>\n",
       "      <td>17850.0</td>\n",
       "    </tr>\n",
       "  </tbody>\n",
       "</table>\n",
       "</div>"
      ],
      "text/plain": [
       "  invoice_no stock_code  quantity invoice_date  unit_price         country  \\\n",
       "0     536365     85123A         6   2016-11-29        2.55  United Kingdom   \n",
       "1     536365      71053         6   2016-11-29        3.39  United Kingdom   \n",
       "2     536365     84406B         8   2016-11-29        2.75  United Kingdom   \n",
       "3     536365     84029G         6   2016-11-29        3.39  United Kingdom   \n",
       "4     536365     84029E         6   2016-11-29        3.39  United Kingdom   \n",
       "\n",
       "   customer_id  \n",
       "0      17850.0  \n",
       "1      17850.0  \n",
       "2      17850.0  \n",
       "3      17850.0  \n",
       "4      17850.0  "
      ]
     },
     "execution_count": 114,
     "metadata": {},
     "output_type": "execute_result"
    }
   ],
   "source": [
    "df3.head()"
   ]
  },
  {
   "cell_type": "markdown",
   "id": "b4fbc182",
   "metadata": {
    "hidden": true
   },
   "source": [
    "## Feature creation"
   ]
  },
  {
   "cell_type": "code",
   "execution_count": 115,
   "id": "23139921",
   "metadata": {
    "ExecuteTime": {
     "end_time": "2023-02-20T14:03:41.245912Z",
     "start_time": "2023-02-20T14:03:41.208133Z"
    },
    "hidden": true
   },
   "outputs": [],
   "source": [
    "df_ref = pd.DataFrame(df3['customer_id'])"
   ]
  },
  {
   "cell_type": "code",
   "execution_count": 116,
   "id": "3e236d94",
   "metadata": {
    "ExecuteTime": {
     "end_time": "2023-02-20T14:03:41.308438Z",
     "start_time": "2023-02-20T14:03:41.245912Z"
    },
    "hidden": true
   },
   "outputs": [],
   "source": [
    "df_ref =  df_ref.drop_duplicates(ignore_index=True)"
   ]
  },
  {
   "cell_type": "markdown",
   "id": "df272d12",
   "metadata": {
    "hidden": true
   },
   "source": [
    "### Receita bruta"
   ]
  },
  {
   "cell_type": "markdown",
   "id": "6405f5b5",
   "metadata": {
    "hidden": true
   },
   "source": [
    "**Gross Revenue**"
   ]
  },
  {
   "cell_type": "code",
   "execution_count": 117,
   "id": "9526b96d",
   "metadata": {
    "ExecuteTime": {
     "end_time": "2023-02-20T14:03:41.419902Z",
     "start_time": "2023-02-20T14:03:41.308438Z"
    },
    "hidden": true
   },
   "outputs": [
    {
     "name": "stderr",
     "output_type": "stream",
     "text": [
      "C:\\Users\\Lavin\\anaconda3\\envs\\insiders_clustering\\lib\\site-packages\\pandas\\core\\indexing.py:1667: SettingWithCopyWarning: \n",
      "A value is trying to be set on a copy of a slice from a DataFrame.\n",
      "Try using .loc[row_indexer,col_indexer] = value instead\n",
      "\n",
      "See the caveats in the documentation: https://pandas.pydata.org/pandas-docs/stable/user_guide/indexing.html#returning-a-view-versus-a-copy\n",
      "  self.obj[key] = value\n"
     ]
    }
   ],
   "source": [
    "df_purchase.loc[:,'gross_revenue'] = df_purchase.loc[:,'quantity'] * df_purchase.loc[:,'unit_price']\n",
    "df_monetary = df_purchase[['customer_id','gross_revenue']].groupby('customer_id').sum().reset_index()\n",
    "df_ref = pd.merge(df_ref,df_monetary,on='customer_id',how='left')"
   ]
  },
  {
   "cell_type": "markdown",
   "id": "8f6aaae5",
   "metadata": {
    "hidden": true
   },
   "source": [
    "### Rencencia - dias da ultima compra"
   ]
  },
  {
   "cell_type": "code",
   "execution_count": 118,
   "id": "33bc8d00",
   "metadata": {
    "ExecuteTime": {
     "end_time": "2023-02-20T14:03:41.492954Z",
     "start_time": "2023-02-20T14:03:41.419902Z"
    },
    "hidden": true
   },
   "outputs": [],
   "source": [
    "df_recency = df_purchase[['customer_id','invoice_date']].groupby('customer_id').max().reset_index()\n",
    "df_recency['recency_days'] = (df2['invoice_date'].max()- df_recency['invoice_date']).dt.days\n",
    "df_recency = df_recency.drop(columns = 'invoice_date')\n",
    "df_ref = pd.merge(df_ref,df_recency,on='customer_id',how='left')"
   ]
  },
  {
   "cell_type": "markdown",
   "id": "415da035",
   "metadata": {
    "hidden": true
   },
   "source": [
    "### Quantidade de produtos comprados"
   ]
  },
  {
   "cell_type": "code",
   "execution_count": 119,
   "id": "91ec18e7",
   "metadata": {
    "ExecuteTime": {
     "end_time": "2023-02-20T14:03:41.593317Z",
     "start_time": "2023-02-20T14:03:41.492954Z"
    },
    "hidden": true
   },
   "outputs": [],
   "source": [
    "df_prod_quant = (df_purchase[['customer_id','stock_code']].groupby('customer_id')\n",
    "                                                       .count()\n",
    "                                                       .reset_index()\n",
    "                                                       .rename(columns = {'stock_code':'qtde_products'}))\n",
    "df_ref = pd.merge(df_ref,df_prod_quant,on='customer_id',how='left')"
   ]
  },
  {
   "cell_type": "markdown",
   "id": "010223e7",
   "metadata": {
    "hidden": true
   },
   "source": [
    "### Frequência"
   ]
  },
  {
   "cell_type": "markdown",
   "id": "570a6772",
   "metadata": {
    "hidden": true
   },
   "source": [
    "**Frequência**"
   ]
  },
  {
   "cell_type": "code",
   "execution_count": 120,
   "id": "d08b1850",
   "metadata": {
    "ExecuteTime": {
     "end_time": "2023-02-20T14:03:43.228907Z",
     "start_time": "2023-02-20T14:03:41.593317Z"
    },
    "hidden": true
   },
   "outputs": [],
   "source": [
    "df_aux = (df3[['customer_id','invoice_no','invoice_date']].drop_duplicates()\n",
    "                                                          .groupby('customer_id')\n",
    "                                                          .agg(max_ = ('invoice_date','max'),\n",
    "                                                               min_ = ('invoice_date','min'),\n",
    "                                                               days_ = ('invoice_date',lambda x:(x.max()-x.min()).days+1),\n",
    "                                                               buy_  = ('invoice_date','count'))\n",
    "                                                          .reset_index())\n",
    "                                                          \n",
    "\n",
    "df_aux['freq'] = df_aux.apply(lambda x: x['buy_']/x['days_'] if x['days_'] !=0 else 0,axis=1)\n",
    "df_ref = pd.merge(df_ref,df_aux[['customer_id','freq']],on='customer_id',how='left')"
   ]
  },
  {
   "cell_type": "markdown",
   "id": "f4f18cf9",
   "metadata": {
    "hidden": true
   },
   "source": [
    "### Devoluções"
   ]
  },
  {
   "cell_type": "markdown",
   "id": "489c30be",
   "metadata": {
    "hidden": true
   },
   "source": [
    "**Returns**"
   ]
  },
  {
   "cell_type": "code",
   "execution_count": 121,
   "id": "d8ef1863",
   "metadata": {
    "ExecuteTime": {
     "end_time": "2023-02-20T14:03:43.282304Z",
     "start_time": "2023-02-20T14:03:43.228907Z"
    },
    "hidden": true
   },
   "outputs": [],
   "source": [
    "df_avg_returns = df_returns[['customer_id','quantity']].drop_duplicates().groupby('customer_id').sum().abs().reset_index().rename(columns={'quantity':'qtde_returns'})\n",
    "df_ref = pd.merge(df_ref,df_avg_returns,on='customer_id',how='left')\n",
    "df_ref.loc[df_ref['qtde_returns'].isna(),'qtde_returns'] = 0"
   ]
  },
  {
   "cell_type": "code",
   "execution_count": 122,
   "id": "5841fa15",
   "metadata": {
    "ExecuteTime": {
     "end_time": "2023-02-20T14:03:43.313555Z",
     "start_time": "2023-02-20T14:03:43.282304Z"
    },
    "hidden": true
   },
   "outputs": [],
   "source": [
    "df_ref = df_ref.dropna()"
   ]
  },
  {
   "cell_type": "code",
   "execution_count": 123,
   "id": "c09e48bb",
   "metadata": {
    "ExecuteTime": {
     "end_time": "2023-02-20T14:03:43.329180Z",
     "start_time": "2023-02-20T14:03:43.313555Z"
    },
    "hidden": true
   },
   "outputs": [],
   "source": [
    "df4 = df_ref.copy()"
   ]
  },
  {
   "cell_type": "code",
   "execution_count": 124,
   "id": "5215a5af",
   "metadata": {
    "ExecuteTime": {
     "end_time": "2023-02-20T14:03:43.351332Z",
     "start_time": "2023-02-20T14:03:43.329180Z"
    },
    "hidden": true
   },
   "outputs": [
    {
     "data": {
      "text/plain": [
       "(5695, 6)"
      ]
     },
     "execution_count": 124,
     "metadata": {},
     "output_type": "execute_result"
    }
   ],
   "source": [
    "df4.shape"
   ]
  },
  {
   "cell_type": "markdown",
   "id": "399b9466",
   "metadata": {},
   "source": [
    "# EDA"
   ]
  },
  {
   "cell_type": "code",
   "execution_count": 125,
   "id": "6fa2d6c4",
   "metadata": {
    "ExecuteTime": {
     "end_time": "2023-02-20T14:03:43.382580Z",
     "start_time": "2023-02-20T14:03:43.351332Z"
    }
   },
   "outputs": [],
   "source": [
    "df5 = df4.copy()"
   ]
  },
  {
   "cell_type": "code",
   "execution_count": 126,
   "id": "c8c06f0a",
   "metadata": {
    "ExecuteTime": {
     "end_time": "2023-02-20T14:03:43.398205Z",
     "start_time": "2023-02-20T14:03:43.382580Z"
    }
   },
   "outputs": [],
   "source": [
    "df_aux = df5.drop(columns='customer_id')"
   ]
  },
  {
   "cell_type": "markdown",
   "id": "7a19bf07",
   "metadata": {},
   "source": [
    "## Estudo do Espaço"
   ]
  },
  {
   "cell_type": "code",
   "execution_count": 127,
   "id": "a4f78a94",
   "metadata": {
    "ExecuteTime": {
     "end_time": "2023-02-20T14:03:43.429454Z",
     "start_time": "2023-02-20T14:03:43.398205Z"
    }
   },
   "outputs": [],
   "source": [
    "#cols_select = ['gross_revenue', 'recency_days', 'qtde_products', 'freq', 'qtde_returns']"
   ]
  },
  {
   "cell_type": "code",
   "execution_count": 128,
   "id": "9bc5f7fe",
   "metadata": {
    "ExecuteTime": {
     "end_time": "2023-02-20T14:03:43.451629Z",
     "start_time": "2023-02-20T14:03:43.429454Z"
    }
   },
   "outputs": [],
   "source": [
    "#df_aux = df_aux[cols_select]"
   ]
  },
  {
   "cell_type": "code",
   "execution_count": 129,
   "id": "176213a1",
   "metadata": {
    "ExecuteTime": {
     "end_time": "2023-02-20T14:03:43.506457Z",
     "start_time": "2023-02-20T14:03:43.458702Z"
    }
   },
   "outputs": [
    {
     "data": {
      "text/html": [
       "<div>\n",
       "<style scoped>\n",
       "    .dataframe tbody tr th:only-of-type {\n",
       "        vertical-align: middle;\n",
       "    }\n",
       "\n",
       "    .dataframe tbody tr th {\n",
       "        vertical-align: top;\n",
       "    }\n",
       "\n",
       "    .dataframe thead th {\n",
       "        text-align: right;\n",
       "    }\n",
       "</style>\n",
       "<table border=\"1\" class=\"dataframe\">\n",
       "  <thead>\n",
       "    <tr style=\"text-align: right;\">\n",
       "      <th></th>\n",
       "      <th>gross_revenue</th>\n",
       "      <th>recency_days</th>\n",
       "      <th>qtde_products</th>\n",
       "      <th>freq</th>\n",
       "      <th>qtde_returns</th>\n",
       "    </tr>\n",
       "  </thead>\n",
       "  <tbody>\n",
       "    <tr>\n",
       "      <th>0</th>\n",
       "      <td>5391.21</td>\n",
       "      <td>372.0</td>\n",
       "      <td>297.0</td>\n",
       "      <td>0.486111</td>\n",
       "      <td>21.0</td>\n",
       "    </tr>\n",
       "    <tr>\n",
       "      <th>1</th>\n",
       "      <td>3232.59</td>\n",
       "      <td>56.0</td>\n",
       "      <td>171.0</td>\n",
       "      <td>0.048780</td>\n",
       "      <td>6.0</td>\n",
       "    </tr>\n",
       "    <tr>\n",
       "      <th>2</th>\n",
       "      <td>6705.38</td>\n",
       "      <td>2.0</td>\n",
       "      <td>232.0</td>\n",
       "      <td>0.045699</td>\n",
       "      <td>50.0</td>\n",
       "    </tr>\n",
       "    <tr>\n",
       "      <th>3</th>\n",
       "      <td>948.25</td>\n",
       "      <td>95.0</td>\n",
       "      <td>28.0</td>\n",
       "      <td>0.017921</td>\n",
       "      <td>0.0</td>\n",
       "    </tr>\n",
       "    <tr>\n",
       "      <th>4</th>\n",
       "      <td>876.00</td>\n",
       "      <td>333.0</td>\n",
       "      <td>3.0</td>\n",
       "      <td>0.136364</td>\n",
       "      <td>22.0</td>\n",
       "    </tr>\n",
       "  </tbody>\n",
       "</table>\n",
       "</div>"
      ],
      "text/plain": [
       "   gross_revenue  recency_days  qtde_products      freq  qtde_returns\n",
       "0        5391.21         372.0          297.0  0.486111          21.0\n",
       "1        3232.59          56.0          171.0  0.048780           6.0\n",
       "2        6705.38           2.0          232.0  0.045699          50.0\n",
       "3         948.25          95.0           28.0  0.017921           0.0\n",
       "4         876.00         333.0            3.0  0.136364          22.0"
      ]
     },
     "execution_count": 129,
     "metadata": {},
     "output_type": "execute_result"
    }
   ],
   "source": [
    "df_aux.head()"
   ]
  },
  {
   "cell_type": "code",
   "execution_count": 130,
   "id": "39c450cf",
   "metadata": {
    "ExecuteTime": {
     "end_time": "2023-02-20T14:03:43.567360Z",
     "start_time": "2023-02-20T14:03:43.506457Z"
    }
   },
   "outputs": [],
   "source": [
    "mm = MinMaxScaler()\n",
    "\n",
    "df_aux['gross_revenue'] = mm.fit_transform(df_aux[['gross_revenue']])\n",
    "df_aux['recency_days'] = mm.fit_transform(df_aux[['recency_days']])\n",
    "df_aux['qtde_products'] = mm.fit_transform(df_aux[['qtde_products']])\n",
    "df_aux['freq'] = mm.fit_transform(df_aux[['freq']])\n",
    "df_aux['qtde_returns'] = mm.fit_transform(df_aux[['qtde_returns']])"
   ]
  },
  {
   "cell_type": "code",
   "execution_count": 131,
   "id": "ea0896ec",
   "metadata": {
    "ExecuteTime": {
     "end_time": "2023-02-20T14:03:43.582999Z",
     "start_time": "2023-02-20T14:03:43.567360Z"
    }
   },
   "outputs": [],
   "source": [
    "X = df_aux.copy()"
   ]
  },
  {
   "cell_type": "markdown",
   "id": "247673d6",
   "metadata": {},
   "source": [
    "## PCA"
   ]
  },
  {
   "cell_type": "code",
   "execution_count": 132,
   "id": "540c3a69",
   "metadata": {
    "ExecuteTime": {
     "end_time": "2023-02-20T14:03:44.052747Z",
     "start_time": "2023-02-20T14:03:43.582999Z"
    },
    "scrolled": true
   },
   "outputs": [
    {
     "data": {
      "image/png": "[encoded data removed]",
      "text/plain": [
       "<Figure size 2500x1200 with 1 Axes>"
      ]
     },
     "metadata": {},
     "output_type": "display_data"
    }
   ],
   "source": [
    "pca = dcp.PCA( n_components=X.shape[1] )\n",
    "\n",
    "principal_components = pca.fit_transform( X )\n",
    "\n",
    "# plot explained variable\n",
    "features = range( pca.n_components_ )\n",
    "\n",
    "plt.bar( features, pca.explained_variance_ratio_, color='black' )\n",
    "\n",
    "# pca component\n",
    "df_pca = pd.DataFrame( principal_components )"
   ]
  },
  {
   "cell_type": "code",
   "execution_count": 133,
   "id": "07527c61",
   "metadata": {
    "ExecuteTime": {
     "end_time": "2023-02-20T14:03:44.485141Z",
     "start_time": "2023-02-20T14:03:44.052747Z"
    },
    "scrolled": true
   },
   "outputs": [
    {
     "data": {
      "image/png": "[encoded data removed]",
      "text/plain": [
       "<Figure size 2500x1200 with 1 Axes>"
      ]
     },
     "metadata": {},
     "output_type": "display_data"
    }
   ],
   "source": [
    "sns.scatterplot( x=0, y=1, data=df_pca );"
   ]
  },
  {
   "cell_type": "markdown",
   "id": "f6c86532",
   "metadata": {},
   "source": [
    "## UMAP"
   ]
  },
  {
   "cell_type": "code",
   "execution_count": 134,
   "id": "8c69c696",
   "metadata": {
    "ExecuteTime": {
     "end_time": "2023-02-20T14:03:49.180114Z",
     "start_time": "2023-02-20T14:03:44.485141Z"
    }
   },
   "outputs": [
    {
     "ename": "KeyboardInterrupt",
     "evalue": "",
     "output_type": "error",
     "traceback": [
      "\u001b[1;31m---------------------------------------------------------------------------\u001b[0m",
      "\u001b[1;31mKeyboardInterrupt\u001b[0m                         Traceback (most recent call last)",
      "Cell \u001b[1;32mIn [134], line 2\u001b[0m\n\u001b[0;32m      1\u001b[0m reducer \u001b[38;5;241m=\u001b[39m umap\u001b[38;5;241m.\u001b[39mUMAP( random_state\u001b[38;5;241m=\u001b[39m\u001b[38;5;241m42\u001b[39m )\n\u001b[1;32m----> 2\u001b[0m embedding \u001b[38;5;241m=\u001b[39m \u001b[43mreducer\u001b[49m\u001b[38;5;241;43m.\u001b[39;49m\u001b[43mfit_transform\u001b[49m\u001b[43m(\u001b[49m\u001b[43m \u001b[49m\u001b[43mX\u001b[49m\u001b[43m \u001b[49m\u001b[43m)\u001b[49m\n\u001b[0;32m      4\u001b[0m \u001b[38;5;66;03m# embedding\u001b[39;00m\n\u001b[0;32m      5\u001b[0m df_umap \u001b[38;5;241m=\u001b[39m pd\u001b[38;5;241m.\u001b[39mDataFrame()\n",
      "File \u001b[1;32m~\\anaconda3\\envs\\insiders_clustering\\lib\\site-packages\\umap\\umap_.py:2772\u001b[0m, in \u001b[0;36mUMAP.fit_transform\u001b[1;34m(self, X, y)\u001b[0m\n\u001b[0;32m   2742\u001b[0m \u001b[38;5;28;01mdef\u001b[39;00m \u001b[38;5;21mfit_transform\u001b[39m(\u001b[38;5;28mself\u001b[39m, X, y\u001b[38;5;241m=\u001b[39m\u001b[38;5;28;01mNone\u001b[39;00m):\n\u001b[0;32m   2743\u001b[0m     \u001b[38;5;124;03m\"\"\"Fit X into an embedded space and return that transformed\u001b[39;00m\n\u001b[0;32m   2744\u001b[0m \u001b[38;5;124;03m    output.\u001b[39;00m\n\u001b[0;32m   2745\u001b[0m \n\u001b[1;32m   (...)\u001b[0m\n\u001b[0;32m   2770\u001b[0m \u001b[38;5;124;03m        Local radii of data points in the embedding (log-transformed).\u001b[39;00m\n\u001b[0;32m   2771\u001b[0m \u001b[38;5;124;03m    \"\"\"\u001b[39;00m\n\u001b[1;32m-> 2772\u001b[0m     \u001b[38;5;28;43mself\u001b[39;49m\u001b[38;5;241;43m.\u001b[39;49m\u001b[43mfit\u001b[49m\u001b[43m(\u001b[49m\u001b[43mX\u001b[49m\u001b[43m,\u001b[49m\u001b[43m \u001b[49m\u001b[43my\u001b[49m\u001b[43m)\u001b[49m\n\u001b[0;32m   2773\u001b[0m     \u001b[38;5;28;01mif\u001b[39;00m \u001b[38;5;28mself\u001b[39m\u001b[38;5;241m.\u001b[39mtransform_mode \u001b[38;5;241m==\u001b[39m \u001b[38;5;124m\"\u001b[39m\u001b[38;5;124membedding\u001b[39m\u001b[38;5;124m\"\u001b[39m:\n\u001b[0;32m   2774\u001b[0m         \u001b[38;5;28;01mif\u001b[39;00m \u001b[38;5;28mself\u001b[39m\u001b[38;5;241m.\u001b[39moutput_dens:\n",
      "File \u001b[1;32m~\\anaconda3\\envs\\insiders_clustering\\lib\\site-packages\\umap\\umap_.py:2684\u001b[0m, in \u001b[0;36mUMAP.fit\u001b[1;34m(self, X, y)\u001b[0m\n\u001b[0;32m   2681\u001b[0m     \u001b[38;5;28mprint\u001b[39m(ts(), \u001b[38;5;124m\"\u001b[39m\u001b[38;5;124mConstruct embedding\u001b[39m\u001b[38;5;124m\"\u001b[39m)\n\u001b[0;32m   2683\u001b[0m \u001b[38;5;28;01mif\u001b[39;00m \u001b[38;5;28mself\u001b[39m\u001b[38;5;241m.\u001b[39mtransform_mode \u001b[38;5;241m==\u001b[39m \u001b[38;5;124m\"\u001b[39m\u001b[38;5;124membedding\u001b[39m\u001b[38;5;124m\"\u001b[39m:\n\u001b[1;32m-> 2684\u001b[0m     \u001b[38;5;28mself\u001b[39m\u001b[38;5;241m.\u001b[39membedding_, aux_data \u001b[38;5;241m=\u001b[39m \u001b[38;5;28;43mself\u001b[39;49m\u001b[38;5;241;43m.\u001b[39;49m\u001b[43m_fit_embed_data\u001b[49m\u001b[43m(\u001b[49m\n\u001b[0;32m   2685\u001b[0m \u001b[43m        \u001b[49m\u001b[38;5;28;43mself\u001b[39;49m\u001b[38;5;241;43m.\u001b[39;49m\u001b[43m_raw_data\u001b[49m\u001b[43m[\u001b[49m\u001b[43mindex\u001b[49m\u001b[43m]\u001b[49m\u001b[43m,\u001b[49m\n\u001b[0;32m   2686\u001b[0m \u001b[43m        \u001b[49m\u001b[38;5;28;43mself\u001b[39;49m\u001b[38;5;241;43m.\u001b[39;49m\u001b[43mn_epochs\u001b[49m\u001b[43m,\u001b[49m\n\u001b[0;32m   2687\u001b[0m \u001b[43m        \u001b[49m\u001b[43minit\u001b[49m\u001b[43m,\u001b[49m\n\u001b[0;32m   2688\u001b[0m \u001b[43m        \u001b[49m\u001b[43mrandom_state\u001b[49m\u001b[43m,\u001b[49m\u001b[43m  \u001b[49m\u001b[38;5;66;43;03m# JH why raw data?\u001b[39;49;00m\n\u001b[0;32m   2689\u001b[0m \u001b[43m    \u001b[49m\u001b[43m)\u001b[49m\n\u001b[0;32m   2690\u001b[0m     \u001b[38;5;66;03m# Assign any points that are fully disconnected from our manifold(s) to have embedding\u001b[39;00m\n\u001b[0;32m   2691\u001b[0m     \u001b[38;5;66;03m# coordinates of np.nan.  These will be filtered by our plotting functions automatically.\u001b[39;00m\n\u001b[0;32m   2692\u001b[0m     \u001b[38;5;66;03m# They also prevent users from being deceived a distance query to one of these points.\u001b[39;00m\n\u001b[0;32m   2693\u001b[0m     \u001b[38;5;66;03m# Might be worth moving this into simplicial_set_embedding or _fit_embed_data\u001b[39;00m\n\u001b[0;32m   2694\u001b[0m     disconnected_vertices \u001b[38;5;241m=\u001b[39m np\u001b[38;5;241m.\u001b[39marray(\u001b[38;5;28mself\u001b[39m\u001b[38;5;241m.\u001b[39mgraph_\u001b[38;5;241m.\u001b[39msum(axis\u001b[38;5;241m=\u001b[39m\u001b[38;5;241m1\u001b[39m))\u001b[38;5;241m.\u001b[39mflatten() \u001b[38;5;241m==\u001b[39m \u001b[38;5;241m0\u001b[39m\n",
      "File \u001b[1;32m~\\anaconda3\\envs\\insiders_clustering\\lib\\site-packages\\umap\\umap_.py:2717\u001b[0m, in \u001b[0;36mUMAP._fit_embed_data\u001b[1;34m(self, X, n_epochs, init, random_state)\u001b[0m\n\u001b[0;32m   2713\u001b[0m \u001b[38;5;28;01mdef\u001b[39;00m \u001b[38;5;21m_fit_embed_data\u001b[39m(\u001b[38;5;28mself\u001b[39m, X, n_epochs, init, random_state):\n\u001b[0;32m   2714\u001b[0m     \u001b[38;5;124;03m\"\"\"A method wrapper for simplicial_set_embedding that can be\u001b[39;00m\n\u001b[0;32m   2715\u001b[0m \u001b[38;5;124;03m    replaced by subclasses.\u001b[39;00m\n\u001b[0;32m   2716\u001b[0m \u001b[38;5;124;03m    \"\"\"\u001b[39;00m\n\u001b[1;32m-> 2717\u001b[0m     \u001b[38;5;28;01mreturn\u001b[39;00m \u001b[43msimplicial_set_embedding\u001b[49m\u001b[43m(\u001b[49m\n\u001b[0;32m   2718\u001b[0m \u001b[43m        \u001b[49m\u001b[43mX\u001b[49m\u001b[43m,\u001b[49m\n\u001b[0;32m   2719\u001b[0m \u001b[43m        \u001b[49m\u001b[38;5;28;43mself\u001b[39;49m\u001b[38;5;241;43m.\u001b[39;49m\u001b[43mgraph_\u001b[49m\u001b[43m,\u001b[49m\n\u001b[0;32m   2720\u001b[0m \u001b[43m        \u001b[49m\u001b[38;5;28;43mself\u001b[39;49m\u001b[38;5;241;43m.\u001b[39;49m\u001b[43mn_components\u001b[49m\u001b[43m,\u001b[49m\n\u001b[0;32m   2721\u001b[0m \u001b[43m        \u001b[49m\u001b[38;5;28;43mself\u001b[39;49m\u001b[38;5;241;43m.\u001b[39;49m\u001b[43m_initial_alpha\u001b[49m\u001b[43m,\u001b[49m\n\u001b[0;32m   2722\u001b[0m \u001b[43m        \u001b[49m\u001b[38;5;28;43mself\u001b[39;49m\u001b[38;5;241;43m.\u001b[39;49m\u001b[43m_a\u001b[49m\u001b[43m,\u001b[49m\n\u001b[0;32m   2723\u001b[0m \u001b[43m        \u001b[49m\u001b[38;5;28;43mself\u001b[39;49m\u001b[38;5;241;43m.\u001b[39;49m\u001b[43m_b\u001b[49m\u001b[43m,\u001b[49m\n\u001b[0;32m   2724\u001b[0m \u001b[43m        \u001b[49m\u001b[38;5;28;43mself\u001b[39;49m\u001b[38;5;241;43m.\u001b[39;49m\u001b[43mrepulsion_strength\u001b[49m\u001b[43m,\u001b[49m\n\u001b[0;32m   2725\u001b[0m \u001b[43m        \u001b[49m\u001b[38;5;28;43mself\u001b[39;49m\u001b[38;5;241;43m.\u001b[39;49m\u001b[43mnegative_sample_rate\u001b[49m\u001b[43m,\u001b[49m\n\u001b[0;32m   2726\u001b[0m \u001b[43m        \u001b[49m\u001b[43mn_epochs\u001b[49m\u001b[43m,\u001b[49m\n\u001b[0;32m   2727\u001b[0m \u001b[43m        \u001b[49m\u001b[43minit\u001b[49m\u001b[43m,\u001b[49m\n\u001b[0;32m   2728\u001b[0m \u001b[43m        \u001b[49m\u001b[43mrandom_state\u001b[49m\u001b[43m,\u001b[49m\n\u001b[0;32m   2729\u001b[0m \u001b[43m        \u001b[49m\u001b[38;5;28;43mself\u001b[39;49m\u001b[38;5;241;43m.\u001b[39;49m\u001b[43m_input_distance_func\u001b[49m\u001b[43m,\u001b[49m\n\u001b[0;32m   2730\u001b[0m \u001b[43m        \u001b[49m\u001b[38;5;28;43mself\u001b[39;49m\u001b[38;5;241;43m.\u001b[39;49m\u001b[43m_metric_kwds\u001b[49m\u001b[43m,\u001b[49m\n\u001b[0;32m   2731\u001b[0m \u001b[43m        \u001b[49m\u001b[38;5;28;43mself\u001b[39;49m\u001b[38;5;241;43m.\u001b[39;49m\u001b[43mdensmap\u001b[49m\u001b[43m,\u001b[49m\n\u001b[0;32m   2732\u001b[0m \u001b[43m        \u001b[49m\u001b[38;5;28;43mself\u001b[39;49m\u001b[38;5;241;43m.\u001b[39;49m\u001b[43m_densmap_kwds\u001b[49m\u001b[43m,\u001b[49m\n\u001b[0;32m   2733\u001b[0m \u001b[43m        \u001b[49m\u001b[38;5;28;43mself\u001b[39;49m\u001b[38;5;241;43m.\u001b[39;49m\u001b[43moutput_dens\u001b[49m\u001b[43m,\u001b[49m\n\u001b[0;32m   2734\u001b[0m \u001b[43m        \u001b[49m\u001b[38;5;28;43mself\u001b[39;49m\u001b[38;5;241;43m.\u001b[39;49m\u001b[43m_output_distance_func\u001b[49m\u001b[43m,\u001b[49m\n\u001b[0;32m   2735\u001b[0m \u001b[43m        \u001b[49m\u001b[38;5;28;43mself\u001b[39;49m\u001b[38;5;241;43m.\u001b[39;49m\u001b[43m_output_metric_kwds\u001b[49m\u001b[43m,\u001b[49m\n\u001b[0;32m   2736\u001b[0m \u001b[43m        \u001b[49m\u001b[38;5;28;43mself\u001b[39;49m\u001b[38;5;241;43m.\u001b[39;49m\u001b[43moutput_metric\u001b[49m\u001b[43m \u001b[49m\u001b[38;5;129;43;01min\u001b[39;49;00m\u001b[43m \u001b[49m\u001b[43m(\u001b[49m\u001b[38;5;124;43m\"\u001b[39;49m\u001b[38;5;124;43meuclidean\u001b[39;49m\u001b[38;5;124;43m\"\u001b[39;49m\u001b[43m,\u001b[49m\u001b[43m \u001b[49m\u001b[38;5;124;43m\"\u001b[39;49m\u001b[38;5;124;43ml2\u001b[39;49m\u001b[38;5;124;43m\"\u001b[39;49m\u001b[43m)\u001b[49m\u001b[43m,\u001b[49m\n\u001b[0;32m   2737\u001b[0m \u001b[43m        \u001b[49m\u001b[38;5;28;43mself\u001b[39;49m\u001b[38;5;241;43m.\u001b[39;49m\u001b[43mrandom_state\u001b[49m\u001b[43m \u001b[49m\u001b[38;5;129;43;01mis\u001b[39;49;00m\u001b[43m \u001b[49m\u001b[38;5;28;43;01mNone\u001b[39;49;00m\u001b[43m,\u001b[49m\n\u001b[0;32m   2738\u001b[0m \u001b[43m        \u001b[49m\u001b[38;5;28;43mself\u001b[39;49m\u001b[38;5;241;43m.\u001b[39;49m\u001b[43mverbose\u001b[49m\u001b[43m,\u001b[49m\n\u001b[0;32m   2739\u001b[0m \u001b[43m        \u001b[49m\u001b[43mtqdm_kwds\u001b[49m\u001b[38;5;241;43m=\u001b[39;49m\u001b[38;5;28;43mself\u001b[39;49m\u001b[38;5;241;43m.\u001b[39;49m\u001b[43mtqdm_kwds\u001b[49m\u001b[43m,\u001b[49m\n\u001b[0;32m   2740\u001b[0m \u001b[43m    \u001b[49m\u001b[43m)\u001b[49m\n",
      "File \u001b[1;32m~\\anaconda3\\envs\\insiders_clustering\\lib\\site-packages\\umap\\umap_.py:1156\u001b[0m, in \u001b[0;36msimplicial_set_embedding\u001b[1;34m(data, graph, n_components, initial_alpha, a, b, gamma, negative_sample_rate, n_epochs, init, random_state, metric, metric_kwds, densmap, densmap_kwds, output_dens, output_metric, output_metric_kwds, euclidean_output, parallel, verbose, tqdm_kwds)\u001b[0m\n\u001b[0;32m   1149\u001b[0m embedding \u001b[38;5;241m=\u001b[39m (\n\u001b[0;32m   1150\u001b[0m     \u001b[38;5;241m10.0\u001b[39m\n\u001b[0;32m   1151\u001b[0m     \u001b[38;5;241m*\u001b[39m (embedding \u001b[38;5;241m-\u001b[39m np\u001b[38;5;241m.\u001b[39mmin(embedding, \u001b[38;5;241m0\u001b[39m))\n\u001b[0;32m   1152\u001b[0m     \u001b[38;5;241m/\u001b[39m (np\u001b[38;5;241m.\u001b[39mmax(embedding, \u001b[38;5;241m0\u001b[39m) \u001b[38;5;241m-\u001b[39m np\u001b[38;5;241m.\u001b[39mmin(embedding, \u001b[38;5;241m0\u001b[39m))\n\u001b[0;32m   1153\u001b[0m )\u001b[38;5;241m.\u001b[39mastype(np\u001b[38;5;241m.\u001b[39mfloat32, order\u001b[38;5;241m=\u001b[39m\u001b[38;5;124m\"\u001b[39m\u001b[38;5;124mC\u001b[39m\u001b[38;5;124m\"\u001b[39m)\n\u001b[0;32m   1155\u001b[0m \u001b[38;5;28;01mif\u001b[39;00m euclidean_output:\n\u001b[1;32m-> 1156\u001b[0m     embedding \u001b[38;5;241m=\u001b[39m \u001b[43moptimize_layout_euclidean\u001b[49m\u001b[43m(\u001b[49m\n\u001b[0;32m   1157\u001b[0m \u001b[43m        \u001b[49m\u001b[43membedding\u001b[49m\u001b[43m,\u001b[49m\n\u001b[0;32m   1158\u001b[0m \u001b[43m        \u001b[49m\u001b[43membedding\u001b[49m\u001b[43m,\u001b[49m\n\u001b[0;32m   1159\u001b[0m \u001b[43m        \u001b[49m\u001b[43mhead\u001b[49m\u001b[43m,\u001b[49m\n\u001b[0;32m   1160\u001b[0m \u001b[43m        \u001b[49m\u001b[43mtail\u001b[49m\u001b[43m,\u001b[49m\n\u001b[0;32m   1161\u001b[0m \u001b[43m        \u001b[49m\u001b[43mn_epochs\u001b[49m\u001b[43m,\u001b[49m\n\u001b[0;32m   1162\u001b[0m \u001b[43m        \u001b[49m\u001b[43mn_vertices\u001b[49m\u001b[43m,\u001b[49m\n\u001b[0;32m   1163\u001b[0m \u001b[43m        \u001b[49m\u001b[43mepochs_per_sample\u001b[49m\u001b[43m,\u001b[49m\n\u001b[0;32m   1164\u001b[0m \u001b[43m        \u001b[49m\u001b[43ma\u001b[49m\u001b[43m,\u001b[49m\n\u001b[0;32m   1165\u001b[0m \u001b[43m        \u001b[49m\u001b[43mb\u001b[49m\u001b[43m,\u001b[49m\n\u001b[0;32m   1166\u001b[0m \u001b[43m        \u001b[49m\u001b[43mrng_state\u001b[49m\u001b[43m,\u001b[49m\n\u001b[0;32m   1167\u001b[0m \u001b[43m        \u001b[49m\u001b[43mgamma\u001b[49m\u001b[43m,\u001b[49m\n\u001b[0;32m   1168\u001b[0m \u001b[43m        \u001b[49m\u001b[43minitial_alpha\u001b[49m\u001b[43m,\u001b[49m\n\u001b[0;32m   1169\u001b[0m \u001b[43m        \u001b[49m\u001b[43mnegative_sample_rate\u001b[49m\u001b[43m,\u001b[49m\n\u001b[0;32m   1170\u001b[0m \u001b[43m        \u001b[49m\u001b[43mparallel\u001b[49m\u001b[38;5;241;43m=\u001b[39;49m\u001b[43mparallel\u001b[49m\u001b[43m,\u001b[49m\n\u001b[0;32m   1171\u001b[0m \u001b[43m        \u001b[49m\u001b[43mverbose\u001b[49m\u001b[38;5;241;43m=\u001b[39;49m\u001b[43mverbose\u001b[49m\u001b[43m,\u001b[49m\n\u001b[0;32m   1172\u001b[0m \u001b[43m        \u001b[49m\u001b[43mdensmap\u001b[49m\u001b[38;5;241;43m=\u001b[39;49m\u001b[43mdensmap\u001b[49m\u001b[43m,\u001b[49m\n\u001b[0;32m   1173\u001b[0m \u001b[43m        \u001b[49m\u001b[43mdensmap_kwds\u001b[49m\u001b[38;5;241;43m=\u001b[39;49m\u001b[43mdensmap_kwds\u001b[49m\u001b[43m,\u001b[49m\n\u001b[0;32m   1174\u001b[0m \u001b[43m        \u001b[49m\u001b[43mtqdm_kwds\u001b[49m\u001b[38;5;241;43m=\u001b[39;49m\u001b[43mtqdm_kwds\u001b[49m\u001b[43m,\u001b[49m\n\u001b[0;32m   1175\u001b[0m \u001b[43m        \u001b[49m\u001b[43mmove_other\u001b[49m\u001b[38;5;241;43m=\u001b[39;49m\u001b[38;5;28;43;01mTrue\u001b[39;49;00m\u001b[43m,\u001b[49m\n\u001b[0;32m   1176\u001b[0m \u001b[43m    \u001b[49m\u001b[43m)\u001b[49m\n\u001b[0;32m   1177\u001b[0m \u001b[38;5;28;01melse\u001b[39;00m:\n\u001b[0;32m   1178\u001b[0m     embedding \u001b[38;5;241m=\u001b[39m optimize_layout_generic(\n\u001b[0;32m   1179\u001b[0m         embedding,\n\u001b[0;32m   1180\u001b[0m         embedding,\n\u001b[1;32m   (...)\u001b[0m\n\u001b[0;32m   1196\u001b[0m         move_other\u001b[38;5;241m=\u001b[39m\u001b[38;5;28;01mTrue\u001b[39;00m,\n\u001b[0;32m   1197\u001b[0m     )\n",
      "File \u001b[1;32m~\\anaconda3\\envs\\insiders_clustering\\lib\\site-packages\\umap\\layouts.py:399\u001b[0m, in \u001b[0;36moptimize_layout_euclidean\u001b[1;34m(head_embedding, tail_embedding, head, tail, n_epochs, n_vertices, epochs_per_sample, a, b, rng_state, gamma, initial_alpha, negative_sample_rate, parallel, verbose, densmap, densmap_kwds, tqdm_kwds, move_other)\u001b[0m\n\u001b[0;32m    367\u001b[0m         dens_re_cov \u001b[38;5;241m=\u001b[39m \u001b[38;5;241m0\u001b[39m\n\u001b[0;32m    369\u001b[0m     optimize_fn(\n\u001b[0;32m    370\u001b[0m         head_embedding,\n\u001b[0;32m    371\u001b[0m         tail_embedding,\n\u001b[1;32m   (...)\u001b[0m\n\u001b[0;32m    396\u001b[0m         dens_mu_tot,\n\u001b[0;32m    397\u001b[0m     )\n\u001b[1;32m--> 399\u001b[0m     alpha \u001b[38;5;241m=\u001b[39m initial_alpha \u001b[38;5;241m*\u001b[39m (\u001b[38;5;241m1.0\u001b[39m \u001b[38;5;241m-\u001b[39m (\u001b[38;5;28;43mfloat\u001b[39;49m(n) \u001b[38;5;241m/\u001b[39m \u001b[38;5;28mfloat\u001b[39m(n_epochs)))\n\u001b[0;32m    401\u001b[0m \u001b[38;5;28;01mreturn\u001b[39;00m head_embedding\n",
      "\u001b[1;31mKeyboardInterrupt\u001b[0m: "
     ]
    }
   ],
   "source": [
    "reducer = umap.UMAP( random_state=42 )\n",
    "embedding = reducer.fit_transform( X )\n",
    "\n",
    "# embedding\n",
    "df_umap = pd.DataFrame()\n",
    "df_umap['embedding_x'] = embedding[:, 0]\n",
    "df_umap['embedding_y'] = embedding[:, 1]\n",
    "\n",
    "# plot UMAP\n",
    "sns.scatterplot( x='embedding_x', \n",
    "                 y='embedding_y', \n",
    "                 data=df_umap )"
   ]
  },
  {
   "cell_type": "markdown",
   "id": "fc3090ca",
   "metadata": {},
   "source": [
    "## T-SNE"
   ]
  },
  {
   "cell_type": "code",
   "execution_count": null,
   "id": "07aaa83a",
   "metadata": {
    "ExecuteTime": {
     "end_time": "2023-02-20T14:03:49.180114Z",
     "start_time": "2023-02-20T14:03:49.180114Z"
    }
   },
   "outputs": [],
   "source": [
    "reducer = mn.TSNE( n_components=2, n_jobs=-1, random_state=42 )\n",
    "embedding = reducer.fit_transform( X )\n",
    "\n",
    "# embedding\n",
    "df_tsne = pd.DataFrame()\n",
    "df_tsne['embedding_x'] = embedding[:, 0]\n",
    "df_tsne['embedding_y'] = embedding[:, 1]\n",
    "\n",
    "# plot UMAP\n",
    "sns.scatterplot( x='embedding_x', \n",
    "                 y='embedding_y', \n",
    "                 data=df_tsne )"
   ]
  },
  {
   "cell_type": "markdown",
   "id": "fe6205fa",
   "metadata": {},
   "source": [
    "### Tree-based embedding"
   ]
  },
  {
   "cell_type": "code",
   "execution_count": null,
   "id": "d75979f2",
   "metadata": {
    "ExecuteTime": {
     "end_time": "2023-02-20T14:03:49.180114Z",
     "start_time": "2023-02-20T14:03:49.180114Z"
    }
   },
   "outputs": [],
   "source": [
    "X = df_aux.drop(columns=['gross_revenue'],axis=1)\n",
    "y = df_aux['gross_revenue']\n",
    "\n",
    "\n",
    "# model definition\n",
    "rf_model = RandomForestRegressor(n_estimators=100,random_state=42)\n",
    "\n",
    "#model training\n",
    "rf_model.fit(X,y.values)\n",
    "\n",
    "# Leaf\n",
    "df_leaf = pd.DataFrame(rf_model.apply(X))\n",
    "#dataframe Leaf"
   ]
  },
  {
   "cell_type": "code",
   "execution_count": null,
   "id": "f01662b5",
   "metadata": {
    "ExecuteTime": {
     "end_time": "2023-02-20T14:03:49.195738Z",
     "start_time": "2023-02-20T14:03:49.195738Z"
    },
    "scrolled": true
   },
   "outputs": [],
   "source": [
    "df_leaf.head()"
   ]
  },
  {
   "cell_type": "code",
   "execution_count": null,
   "id": "d8706815",
   "metadata": {
    "ExecuteTime": {
     "end_time": "2023-02-20T14:03:49.195738Z",
     "start_time": "2023-02-20T14:03:49.195738Z"
    }
   },
   "outputs": [],
   "source": [
    "reducer = umap.UMAP(random_state=42)\n",
    "embedding = reducer.fit_transform(df_leaf)\n",
    "\n",
    "\n",
    "#embedding\n",
    "df_tree = pd.DataFrame()\n",
    "df_tree['embedding_x'] = embedding[:,0]\n",
    "df_tree['embedding_y'] = embedding[:,1]\n",
    "\n",
    "\n",
    "sns.scatterplot(x='embedding_x', y ='embedding_y',data=df_tree);"
   ]
  },
  {
   "cell_type": "markdown",
   "id": "4fd8bdff",
   "metadata": {},
   "source": [
    "# Data preparation"
   ]
  },
  {
   "cell_type": "markdown",
   "id": "317d5ffe",
   "metadata": {},
   "source": [
    "Distribuição normal e não possui outlier - stardart scaler\n",
    "\n",
    "distribuição normal e possui outilier - robust scaler\n",
    "\n",
    "não distribuição normal - Min max Scaler\n"
   ]
  },
  {
   "cell_type": "markdown",
   "id": "31807c69",
   "metadata": {},
   "source": [
    "**Teste de normalidade**\n",
    "\n",
    "**QQ plot** - Quantile Quantile Plot ( Quatile teorica x Quatile real)\n",
    "\n",
    "**KS Teste** - Kolgomorov Smirnoff ( Teste de Hipótese ) se P-valor > 0.5 Distribuição normal, P-valor < 0.5 - Não distribuição normal"
   ]
  },
  {
   "cell_type": "code",
   "execution_count": null,
   "id": "a981b5c5",
   "metadata": {
    "ExecuteTime": {
     "end_time": "2023-02-20T14:03:49.195738Z",
     "start_time": "2023-02-20T14:03:49.195738Z"
    }
   },
   "outputs": [],
   "source": [
    "# df6 = df5.copy()"
   ]
  },
  {
   "cell_type": "code",
   "execution_count": null,
   "id": "7bc16fbc",
   "metadata": {
    "ExecuteTime": {
     "end_time": "2023-02-20T14:03:49.195738Z",
     "start_time": "2023-02-20T14:03:49.195738Z"
    }
   },
   "outputs": [],
   "source": [
    "# df6.head()"
   ]
  },
  {
   "cell_type": "code",
   "execution_count": null,
   "id": "3a03c596",
   "metadata": {
    "ExecuteTime": {
     "end_time": "2023-02-20T14:03:49.195738Z",
     "start_time": "2023-02-20T14:03:49.195738Z"
    }
   },
   "outputs": [],
   "source": [
    "# mm = MinMaxScaler()\n",
    "\n",
    "# df6['gross_revenue'] = mm.fit_transform(df6[['gross_revenue']])\n",
    "# df6['recency_days'] = mm.fit_transform(df6[['recency_days']])\n",
    "# df6['qtde_invoice'] = mm.fit_transform(df6[['qtde_invoice']])\n",
    "# df6['qtde_items'] = mm.fit_transform(df6[['qtde_items']])\n",
    "# df6['qtde_products'] = mm.fit_transform(df6[['qtde_products']])\n",
    "# df6['avg_basket_size'] = mm.fit_transform(df6[['avg_basket_size']])\n",
    "# df6['avg_unique_basket_size'] = mm.fit_transform(df6[['avg_unique_basket_size']])\n",
    "# df6['freq'] = mm.fit_transform(df6[['freq']])\n",
    "# df6['avg_rec_days'] = mm.fit_transform(df6[['avg_rec_days']])\n",
    "# df6['qtde_returns'] = mm.fit_transform(df6[['qtde_returns']])\n",
    "# df6['avg_ticket'] = mm.fit_transform(df6[['avg_ticket']])\n"
   ]
  },
  {
   "cell_type": "code",
   "execution_count": null,
   "id": "72abcfcc",
   "metadata": {
    "ExecuteTime": {
     "end_time": "2023-02-20T14:03:49.211363Z",
     "start_time": "2023-02-20T14:03:49.211363Z"
    }
   },
   "outputs": [],
   "source": [
    "# df6.head()"
   ]
  },
  {
   "cell_type": "markdown",
   "id": "d6c370d9",
   "metadata": {
    "heading_collapsed": true
   },
   "source": [
    "# Feature selection"
   ]
  },
  {
   "cell_type": "code",
   "execution_count": null,
   "id": "6b404eb6",
   "metadata": {
    "ExecuteTime": {
     "end_time": "2023-02-20T14:03:49.211363Z",
     "start_time": "2023-02-20T14:03:49.211363Z"
    },
    "hidden": true
   },
   "outputs": [],
   "source": [
    "# df7 = df6.copy()"
   ]
  },
  {
   "cell_type": "code",
   "execution_count": null,
   "id": "4a3b2787",
   "metadata": {
    "ExecuteTime": {
     "end_time": "2023-02-20T14:03:49.211363Z",
     "start_time": "2023-02-20T14:03:49.211363Z"
    },
    "hidden": true
   },
   "outputs": [],
   "source": [
    "#cols_select = ['customer_id', 'gross_revenue', 'recency_days', 'qtde_products', 'freq', 'qtde_returns']"
   ]
  },
  {
   "cell_type": "code",
   "execution_count": null,
   "id": "cb562131",
   "metadata": {
    "ExecuteTime": {
     "end_time": "2023-02-20T14:03:49.211363Z",
     "start_time": "2023-02-20T14:03:49.211363Z"
    },
    "hidden": true
   },
   "outputs": [],
   "source": [
    "#df7 = df7[cols_select]"
   ]
  },
  {
   "cell_type": "markdown",
   "id": "8ac4a6c3",
   "metadata": {},
   "source": [
    "# Fine tunning"
   ]
  },
  {
   "cell_type": "code",
   "execution_count": null,
   "id": "560d95bf",
   "metadata": {
    "ExecuteTime": {
     "end_time": "2023-02-20T14:03:49.226987Z",
     "start_time": "2023-02-20T14:03:49.226987Z"
    }
   },
   "outputs": [],
   "source": [
    "#X = df7.drop(columns='customer_id')\n",
    "X = df_tree"
   ]
  },
  {
   "cell_type": "code",
   "execution_count": null,
   "id": "6650c45f",
   "metadata": {
    "ExecuteTime": {
     "end_time": "2023-02-20T14:03:49.226987Z",
     "start_time": "2023-02-20T14:03:49.226987Z"
    }
   },
   "outputs": [],
   "source": [
    "X.head()"
   ]
  },
  {
   "cell_type": "code",
   "execution_count": null,
   "id": "7a15e431",
   "metadata": {
    "ExecuteTime": {
     "end_time": "2023-02-20T14:03:49.226987Z",
     "start_time": "2023-02-20T14:03:49.226987Z"
    }
   },
   "outputs": [],
   "source": [
    "clusters = np.arange(2,31,1)"
   ]
  },
  {
   "cell_type": "markdown",
   "id": "bc550aa3",
   "metadata": {},
   "source": [
    "## KNN"
   ]
  },
  {
   "cell_type": "code",
   "execution_count": null,
   "id": "9da6c374",
   "metadata": {
    "ExecuteTime": {
     "end_time": "2023-02-20T14:03:49.242616Z",
     "start_time": "2023-02-20T14:03:49.242616Z"
    }
   },
   "outputs": [],
   "source": [
    "sil_k = []\n",
    "for k in clusters:\n",
    "    # model definition\n",
    "    k_model = c.KMeans(n_clusters=k)\n",
    "\n",
    "    #model training\n",
    "    k_model.fit(X)\n",
    "\n",
    "    #model predict\n",
    "    labels = k_model.predict(X)\n",
    "\n",
    "    #model performace\n",
    "    sil_k.append(m.silhouette_score(X,labels,metric='euclidean'))"
   ]
  },
  {
   "cell_type": "markdown",
   "id": "e42454e7",
   "metadata": {},
   "source": [
    "## GMM"
   ]
  },
  {
   "cell_type": "code",
   "execution_count": null,
   "id": "d01057d3",
   "metadata": {
    "ExecuteTime": {
     "end_time": "2023-02-20T14:03:49.242616Z",
     "start_time": "2023-02-20T14:03:49.242616Z"
    }
   },
   "outputs": [],
   "source": [
    "gmm_k = []\n",
    "for k in clusters:\n",
    "    # model definition\n",
    "    gmm_model = mx.GaussianMixture(n_components=k)\n",
    "\n",
    "    #model training\n",
    "    gmm_model.fit(X)\n",
    "\n",
    "    #model predict\n",
    "    labels = gmm_model.predict(X)\n",
    "\n",
    "    #model performace\n",
    "    gmm_k.append(m.silhouette_score(X,labels,metric='euclidean'))"
   ]
  },
  {
   "cell_type": "markdown",
   "id": "89752a40",
   "metadata": {},
   "source": [
    "## H-clustering"
   ]
  },
  {
   "cell_type": "code",
   "execution_count": null,
   "id": "228a75ec",
   "metadata": {
    "ExecuteTime": {
     "end_time": "2023-02-20T14:03:49.242616Z",
     "start_time": "2023-02-20T14:03:49.242616Z"
    }
   },
   "outputs": [],
   "source": [
    "hr_model = hr.linkage( X, 'ward' )"
   ]
  },
  {
   "cell_type": "code",
   "execution_count": null,
   "id": "02b75470",
   "metadata": {
    "ExecuteTime": {
     "end_time": "2023-02-20T14:03:49.242616Z",
     "start_time": "2023-02-20T14:03:49.242616Z"
    }
   },
   "outputs": [],
   "source": [
    "hc_k = []\n",
    "for k in clusters:\n",
    "    # model definition\n",
    "    hc_model = hr.linkage(X,'ward')\n",
    "\n",
    "    #model predict\n",
    "    labels = hr.fcluster(hc_model,k,criterion='maxclust')\n",
    "\n",
    "    #model performace\n",
    "    hc_k.append(m.silhouette_score(X,labels,metric='euclidean'))"
   ]
  },
  {
   "cell_type": "markdown",
   "id": "507eb0d8",
   "metadata": {},
   "source": [
    "## DBSCAN"
   ]
  },
  {
   "cell_type": "code",
   "execution_count": null,
   "id": "dddc8b74",
   "metadata": {
    "ExecuteTime": {
     "end_time": "2023-02-20T14:03:49.258242Z",
     "start_time": "2023-02-20T14:03:49.258242Z"
    }
   },
   "outputs": [],
   "source": [
    "eps=0.2\n",
    "min_samples = 20\n",
    "#model training e predict\n",
    "dbscan_model = c.DBSCAN(eps=eps,min_samples=min_samples)\n",
    "\n",
    "#model training e predict\n",
    "labels = dbscan_model.fit_predict(X)\n",
    "\n",
    "db_k_tree = m.silhouette_score(X,labels,metric='euclidean')"
   ]
  },
  {
   "cell_type": "code",
   "execution_count": null,
   "id": "e7935370",
   "metadata": {
    "ExecuteTime": {
     "end_time": "2023-02-20T14:03:49.258242Z",
     "start_time": "2023-02-20T14:03:49.258242Z"
    }
   },
   "outputs": [],
   "source": [
    "from sklearn.neighbors import NearestNeighbors"
   ]
  },
  {
   "cell_type": "code",
   "execution_count": null,
   "id": "4cbb2ecb",
   "metadata": {
    "ExecuteTime": {
     "end_time": "2023-02-20T14:03:49.264753Z",
     "start_time": "2023-02-20T14:03:49.264753Z"
    }
   },
   "outputs": [],
   "source": [
    "nei = NearestNeighbors(n_neighbors=min_samples).fit(X)\n",
    "dist, indi = nei.kneighbors(X)"
   ]
  },
  {
   "cell_type": "markdown",
   "id": "b42d7373",
   "metadata": {
    "ExecuteTime": {
     "end_time": "2023-01-16T12:45:38.436423Z",
     "start_time": "2023-01-16T12:45:38.383644Z"
    }
   },
   "source": [
    "## results tree"
   ]
  },
  {
   "cell_type": "code",
   "execution_count": null,
   "id": "48d92c29",
   "metadata": {
    "ExecuteTime": {
     "end_time": "2023-02-20T14:03:49.264753Z",
     "start_time": "2023-02-20T14:03:49.264753Z"
    }
   },
   "outputs": [],
   "source": [
    "df_results_tree = pd.DataFrame({\n",
    "    'Kmeans': sil_k,\n",
    "    'GMM': gmm_k,\n",
    "    'HC': hc_k,\n",
    "}).T\n",
    "df_results_tree.columns = clusters\n",
    "df_results_tree.style.highlight_max(color='lightgreen',axis=1)"
   ]
  },
  {
   "cell_type": "code",
   "execution_count": null,
   "id": "ddb018d2",
   "metadata": {
    "ExecuteTime": {
     "end_time": "2023-02-20T14:03:49.264753Z",
     "start_time": "2023-02-20T14:03:49.264753Z"
    }
   },
   "outputs": [],
   "source": [
    "db_k_tree"
   ]
  },
  {
   "cell_type": "code",
   "execution_count": null,
   "id": "d0e49b04",
   "metadata": {
    "ExecuteTime": {
     "end_time": "2023-02-20T14:03:49.264753Z",
     "start_time": "2023-02-20T14:03:49.264753Z"
    }
   },
   "outputs": [],
   "source": [
    "#df_tree.to_csv('C:/Users/Lavin/Documents/Comunidade DS/insiders clustering/src/data/df_tree_embedding.csv',index=False)"
   ]
  },
  {
   "cell_type": "markdown",
   "id": "8ffc550a",
   "metadata": {
    "ExecuteTime": {
     "end_time": "2022-12-07T15:06:30.220656Z",
     "start_time": "2022-12-07T15:06:30.189417Z"
    }
   },
   "source": [
    "# Model training"
   ]
  },
  {
   "cell_type": "markdown",
   "id": "e503c35e",
   "metadata": {},
   "source": [
    "## Final model"
   ]
  },
  {
   "cell_type": "code",
   "execution_count": null,
   "id": "2376be88",
   "metadata": {
    "ExecuteTime": {
     "end_time": "2023-02-20T14:03:49.280396Z",
     "start_time": "2023-02-20T14:03:49.280396Z"
    }
   },
   "outputs": [],
   "source": [
    "k = 8"
   ]
  },
  {
   "cell_type": "code",
   "execution_count": null,
   "id": "6692b018",
   "metadata": {
    "ExecuteTime": {
     "end_time": "2023-02-20T14:03:49.280396Z",
     "start_time": "2023-02-20T14:03:49.280396Z"
    }
   },
   "outputs": [],
   "source": [
    "X = df_tree"
   ]
  },
  {
   "cell_type": "code",
   "execution_count": null,
   "id": "d77144a0",
   "metadata": {
    "ExecuteTime": {
     "end_time": "2023-02-20T14:03:49.297734Z",
     "start_time": "2023-02-20T14:03:49.297734Z"
    }
   },
   "outputs": [],
   "source": [
    "gmm_model = mx.GaussianMixture(n_components=k,random_state=32)\n",
    "\n",
    "gmm_model.fit(X)\n",
    "\n",
    "labels = gmm_model.predict(X)"
   ]
  },
  {
   "cell_type": "code",
   "execution_count": null,
   "id": "8f89c398",
   "metadata": {
    "ExecuteTime": {
     "end_time": "2023-02-20T14:03:49.300734Z",
     "start_time": "2023-02-20T14:03:49.300734Z"
    },
    "scrolled": true
   },
   "outputs": [],
   "source": [
    "print('SS value',m.silhouette_score(X,labels,metric='euclidean'))"
   ]
  },
  {
   "cell_type": "code",
   "execution_count": null,
   "id": "8e6fb03f",
   "metadata": {
    "ExecuteTime": {
     "end_time": "2023-02-20T14:03:49.305737Z",
     "start_time": "2023-02-20T14:03:49.305737Z"
    },
    "scrolled": true
   },
   "outputs": [],
   "source": [
    "# visualizer = SilhouetteVisualizer(kmeans,colors='yellowbrick')\n",
    "# visualizer.fit(X)\n",
    "# visualizer.finalize()"
   ]
  },
  {
   "cell_type": "markdown",
   "id": "7d1af12e",
   "metadata": {},
   "source": [
    "### Cluster analysis"
   ]
  },
  {
   "cell_type": "code",
   "execution_count": null,
   "id": "caa13228",
   "metadata": {
    "ExecuteTime": {
     "end_time": "2023-02-20T14:03:49.309733Z",
     "start_time": "2023-02-20T14:03:49.309733Z"
    }
   },
   "outputs": [],
   "source": [
    "df9 = df5.copy()\n",
    "df9['clusters'] = labels"
   ]
  },
  {
   "cell_type": "markdown",
   "id": "ef5b5da8",
   "metadata": {
    "ExecuteTime": {
     "end_time": "2022-12-07T15:40:51.331384Z",
     "start_time": "2022-12-07T15:40:51.311302Z"
    }
   },
   "source": [
    "# Cluster profile"
   ]
  },
  {
   "cell_type": "code",
   "execution_count": null,
   "id": "bd8abbda",
   "metadata": {
    "ExecuteTime": {
     "end_time": "2023-02-20T14:03:49.313735Z",
     "start_time": "2023-02-20T14:03:49.313735Z"
    }
   },
   "outputs": [],
   "source": [
    "df9.head()"
   ]
  },
  {
   "cell_type": "code",
   "execution_count": null,
   "id": "3941781b",
   "metadata": {
    "ExecuteTime": {
     "end_time": "2023-02-20T14:03:49.318202Z",
     "start_time": "2023-02-20T14:03:49.318202Z"
    }
   },
   "outputs": [],
   "source": [
    "# number of customers\n",
    "df_cluster = df9[['customer_id','clusters']].groupby('clusters').count().reset_index()\n",
    "df_cluster['perc_customer'] = (df_cluster['customer_id']/df_cluster['customer_id'].sum())*100\n",
    "# Avg gross revenue\n",
    "df_avg_gross_revenue = df9[['gross_revenue','clusters']].groupby('clusters').mean().reset_index()\n",
    "df_cluster = pd.merge(df_cluster,df_avg_gross_revenue,how='inner',on='clusters')\n",
    "\n",
    "# avg recency days\n",
    "df_avg_recency_days =  df9[['recency_days','clusters']].groupby('clusters').mean().reset_index()\n",
    "df_cluster = pd.merge(df_cluster,df_avg_recency_days,how='inner',on='clusters')\n",
    "\n",
    "# avg invoice no\n",
    "df_avg_invoice_no =  df9[['qtde_products','clusters']].groupby('clusters').mean().reset_index()\n",
    "df_cluster = pd.merge(df_cluster,df_avg_invoice_no,how='inner',on='clusters')\n",
    "\n",
    "df_ticket =  df9[['freq','clusters']].groupby('clusters').mean().reset_index()\n",
    "df_cluster = pd.merge(df_cluster,df_ticket,how='inner',on='clusters')\n",
    "\n",
    "df_ticket =  df9[['qtde_returns','clusters']].groupby('clusters').mean().reset_index()\n",
    "df_cluster = pd.merge(df_cluster,df_ticket,how='inner',on='clusters')"
   ]
  },
  {
   "cell_type": "code",
   "execution_count": null,
   "id": "79489112",
   "metadata": {
    "ExecuteTime": {
     "end_time": "2023-02-20T14:03:49.318202Z",
     "start_time": "2023-02-20T14:03:49.318202Z"
    },
    "scrolled": false
   },
   "outputs": [],
   "source": [
    "df_cluster.sort_values(by='gross_revenue',ascending=False)"
   ]
  },
  {
   "cell_type": "markdown",
   "id": "73fed4b7",
   "metadata": {},
   "source": [
    "6 - Cluster Insiders\n",
    "\n",
    "5 - Cluster More products\n",
    "\n",
    "0 - Cluster Spend Money\n",
    "\n",
    "3 - Cluster Even More products\n",
    "\n",
    "7 - Cluster Less days\n",
    "\n",
    "2 - Cluster Less 1k\n",
    "\n",
    "1 - Cluster Stop Returns\n",
    "\n",
    "4 - Cluster More buy"
   ]
  },
  {
   "cell_type": "markdown",
   "id": "84aa4c7a",
   "metadata": {},
   "source": [
    "# EDA II"
   ]
  },
  {
   "cell_type": "code",
   "execution_count": null,
   "id": "966392f1",
   "metadata": {
    "ExecuteTime": {
     "end_time": "2023-02-20T14:03:49.318202Z",
     "start_time": "2023-02-20T14:03:49.318202Z"
    }
   },
   "outputs": [],
   "source": [
    "df10 = df9.copy()\n",
    "df10['clusters'] = df9['clusters']"
   ]
  },
  {
   "cell_type": "code",
   "execution_count": null,
   "id": "637b1a8d",
   "metadata": {
    "ExecuteTime": {
     "end_time": "2023-02-20T14:03:49.318202Z",
     "start_time": "2023-02-20T14:03:49.318202Z"
    }
   },
   "outputs": [],
   "source": [
    "df10.head()"
   ]
  },
  {
   "cell_type": "markdown",
   "id": "b1fafd29",
   "metadata": {},
   "source": [
    "# Deploy"
   ]
  },
  {
   "cell_type": "code",
   "execution_count": null,
   "id": "187b1c2b",
   "metadata": {
    "ExecuteTime": {
     "end_time": "2023-02-20T14:03:49.333823Z",
     "start_time": "2023-02-20T14:03:49.333823Z"
    }
   },
   "outputs": [],
   "source": [
    "import sqlite3\n",
    "from sqlalchemy import create_engine"
   ]
  },
  {
   "cell_type": "code",
   "execution_count": null,
   "id": "216f5560",
   "metadata": {
    "ExecuteTime": {
     "end_time": "2023-02-20T14:03:49.333823Z",
     "start_time": "2023-02-20T14:03:49.333823Z"
    }
   },
   "outputs": [],
   "source": [
    "df10['customer_id'] = df10['customer_id'].astype(int)\n",
    "df10['recency_days'] = df10['recency_days'].astype(int)\n",
    "df10['qtde_products'] = df10['qtde_products'].astype(int)\n",
    "df10['qtde_returns'] = df10['qtde_returns'].astype(int)"
   ]
  },
  {
   "cell_type": "code",
   "execution_count": null,
   "id": "aa71b21a",
   "metadata": {
    "ExecuteTime": {
     "end_time": "2023-02-20T14:03:49.333823Z",
     "start_time": "2023-02-20T14:03:49.333823Z"
    }
   },
   "outputs": [],
   "source": [
    "df10.dtypes"
   ]
  },
  {
   "cell_type": "markdown",
   "id": "aeccd519",
   "metadata": {},
   "source": [
    "## SQLITE"
   ]
  },
  {
   "cell_type": "code",
   "execution_count": null,
   "id": "71dc0bb4",
   "metadata": {
    "ExecuteTime": {
     "end_time": "2023-02-20T14:03:49.333823Z",
     "start_time": "2023-02-20T14:03:49.333823Z"
    }
   },
   "outputs": [],
   "source": [
    "#Create table\n",
    "\n",
    "# query_create_table_insiders = \"\"\"\n",
    "#     CREATE TABLE INSIDERS (\n",
    "#         customer_id      INTEGER,\n",
    "#         gross_revenue    REAL,\n",
    "#         recency_days     INTEGER,\n",
    "#         qtde_products    INTEGER,\n",
    "#         freq             REAL,\n",
    "#         qtde_returns     INTEGER,\n",
    "#         clusters         INTEGER\n",
    "#     )\n",
    "# \"\"\"\n",
    "\n",
    "# conn = sqlite3.connect('insiders_db.sqlite')\n",
    "# conn.execute(query_create_table_insiders)\n",
    "# conn.commit()\n",
    "# conn.close()\n",
    "\n",
    "# #insert data\n",
    "# conn = create_engine('sqlite:///insiders_db.sqlite')\n",
    "# df10.to_sql('insiders',con=conn,if_exists='append',index=False)\n"
   ]
  },
  {
   "cell_type": "code",
   "execution_count": null,
   "id": "11721edf",
   "metadata": {
    "ExecuteTime": {
     "end_time": "2023-02-20T14:03:49.349448Z",
     "start_time": "2023-02-20T14:03:49.349448Z"
    }
   },
   "outputs": [],
   "source": [
    "#consulting database\n",
    "# query = \"\"\"\n",
    "#     SELECT *\n",
    "#     FROM insiders\n",
    "# \"\"\"\n",
    "\n",
    "# df = pd.read_sql_query(query,conn)"
   ]
  },
  {
   "cell_type": "code",
   "execution_count": null,
   "id": "1bb2ed55",
   "metadata": {
    "ExecuteTime": {
     "end_time": "2023-02-20T14:03:49.349448Z",
     "start_time": "2023-02-20T14:03:49.349448Z"
    }
   },
   "outputs": [],
   "source": [
    "# df.head()"
   ]
  }
 ],
 "metadata": {
  "kernelspec": {
   "display_name": "Python 3 (ipykernel)",
   "language": "python",
   "name": "python3"
  },
  "language_info": {
   "codemirror_mode": {
    "name": "ipython",
    "version": 3
   },
   "file_extension": ".py",
   "mimetype": "text/x-python",
   "name": "python",
   "nbconvert_exporter": "python",
   "pygments_lexer": "ipython3",
   "version": "3.8.15"
  }
 },
 "nbformat": 4,
 "nbformat_minor": 5
}
