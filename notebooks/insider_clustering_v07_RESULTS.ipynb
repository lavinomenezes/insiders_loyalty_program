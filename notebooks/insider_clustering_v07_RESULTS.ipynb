{
 "cells": [
  {
   "cell_type": "markdown",
   "id": "5d17e999",
   "metadata": {},
   "source": [
    "# Imports"
   ]
  },
  {
   "cell_type": "code",
   "execution_count": 1,
   "id": "4e8615d5",
   "metadata": {
    "ExecuteTime": {
     "end_time": "2022-12-29T13:34:58.423827Z",
     "start_time": "2022-12-29T13:34:47.743516Z"
    }
   },
   "outputs": [],
   "source": [
    "import pandas as pd\n",
    "import numpy as np\n",
    "import seaborn as sns\n",
    "import regex as re\n",
    "\n",
    "import inflection\n",
    "from matplotlib              import pyplot as plt\n",
    "from plotly                  import express as px\n",
    "from IPython.core.display    import HTML\n",
    "\n",
    "from sklearn                 import cluster as c\n",
    "from yellowbrick.cluster     import KElbowVisualizer, SilhouetteVisualizer\n",
    "from sklearn                 import metrics as m\n",
    "from sklearn                 import manifold as mn\n",
    "from pandas_profiling        import ProfileReport\n",
    "from sklearn.preprocessing   import MinMaxScaler, StandardScaler, RobustScaler\n",
    "from sklearn.ensemble        import RandomForestRegressor "
   ]
  },
  {
   "cell_type": "markdown",
   "id": "6fb30404",
   "metadata": {},
   "source": [
    "# Helper funtions"
   ]
  },
  {
   "cell_type": "code",
   "execution_count": 2,
   "id": "bceed25e",
   "metadata": {
    "ExecuteTime": {
     "end_time": "2022-12-29T13:34:58.503465Z",
     "start_time": "2022-12-29T13:34:58.423827Z"
    },
    "scrolled": true
   },
   "outputs": [
    {
     "name": "stdout",
     "output_type": "stream",
     "text": [
      "%pylab is deprecated, use %matplotlib inline and import the required libraries.\n",
      "Populating the interactive namespace from numpy and matplotlib\n"
     ]
    },
    {
     "name": "stderr",
     "output_type": "stream",
     "text": [
      "C:\\Users\\Lavin\\anaconda3\\envs\\insiders_clustering\\lib\\site-packages\\IPython\\core\\magics\\pylab.py:162: UserWarning: pylab import has clobbered these variables: ['re']\n",
      "`%matplotlib` prevents importing * from pylab and numpy\n",
      "  warn(\"pylab import has clobbered these variables: %s\"  % clobbered +\n"
     ]
    },
    {
     "data": {
      "text/html": [
       "<style>.container { width:100% !important; }</style>"
      ],
      "text/plain": [
       "<IPython.core.display.HTML object>"
      ]
     },
     "metadata": {},
     "output_type": "display_data"
    }
   ],
   "source": [
    "def jupyter_settings():\n",
    "    %matplotlib inline\n",
    "    %pylab inline\n",
    "    plt.style.use( 'bmh' )\n",
    "    plt.rcParams['figure.figsize'] = [25, 12]\n",
    "    plt.rcParams['font.size'] = 24\n",
    "    display( HTML( '<style>.container { width:100% !important; }</style>') )\n",
    "    sns.set()\n",
    "jupyter_settings()"
   ]
  },
  {
   "cell_type": "markdown",
   "id": "7cfd6327",
   "metadata": {},
   "source": [
    "# load data"
   ]
  },
  {
   "cell_type": "code",
   "execution_count": 3,
   "id": "b56483e1",
   "metadata": {
    "ExecuteTime": {
     "end_time": "2022-12-29T13:34:59.493814Z",
     "start_time": "2022-12-29T13:34:58.503465Z"
    }
   },
   "outputs": [],
   "source": [
    "df_raw = pd.read_csv('../data/raw/Ecommerce.csv',encoding= 'unicode_escape')"
   ]
  },
  {
   "cell_type": "code",
   "execution_count": 4,
   "id": "c5ee019a",
   "metadata": {
    "ExecuteTime": {
     "end_time": "2022-12-29T13:34:59.573642Z",
     "start_time": "2022-12-29T13:34:59.498321Z"
    },
    "scrolled": true
   },
   "outputs": [
    {
     "data": {
      "text/html": [
       "<div>\n",
       "<style scoped>\n",
       "    .dataframe tbody tr th:only-of-type {\n",
       "        vertical-align: middle;\n",
       "    }\n",
       "\n",
       "    .dataframe tbody tr th {\n",
       "        vertical-align: top;\n",
       "    }\n",
       "\n",
       "    .dataframe thead th {\n",
       "        text-align: right;\n",
       "    }\n",
       "</style>\n",
       "<table border=\"1\" class=\"dataframe\">\n",
       "  <thead>\n",
       "    <tr style=\"text-align: right;\">\n",
       "      <th></th>\n",
       "      <th>InvoiceNo</th>\n",
       "      <th>StockCode</th>\n",
       "      <th>Description</th>\n",
       "      <th>Quantity</th>\n",
       "      <th>InvoiceDate</th>\n",
       "      <th>UnitPrice</th>\n",
       "      <th>CustomerID</th>\n",
       "      <th>Country</th>\n",
       "      <th>Unnamed: 8</th>\n",
       "    </tr>\n",
       "  </thead>\n",
       "  <tbody>\n",
       "    <tr>\n",
       "      <th>0</th>\n",
       "      <td>536365</td>\n",
       "      <td>85123A</td>\n",
       "      <td>WHITE HANGING HEART T-LIGHT HOLDER</td>\n",
       "      <td>6</td>\n",
       "      <td>29-Nov-16</td>\n",
       "      <td>2.55</td>\n",
       "      <td>17850.0</td>\n",
       "      <td>United Kingdom</td>\n",
       "      <td>NaN</td>\n",
       "    </tr>\n",
       "    <tr>\n",
       "      <th>1</th>\n",
       "      <td>536365</td>\n",
       "      <td>71053</td>\n",
       "      <td>WHITE METAL LANTERN</td>\n",
       "      <td>6</td>\n",
       "      <td>29-Nov-16</td>\n",
       "      <td>3.39</td>\n",
       "      <td>17850.0</td>\n",
       "      <td>United Kingdom</td>\n",
       "      <td>NaN</td>\n",
       "    </tr>\n",
       "    <tr>\n",
       "      <th>2</th>\n",
       "      <td>536365</td>\n",
       "      <td>84406B</td>\n",
       "      <td>CREAM CUPID HEARTS COAT HANGER</td>\n",
       "      <td>8</td>\n",
       "      <td>29-Nov-16</td>\n",
       "      <td>2.75</td>\n",
       "      <td>17850.0</td>\n",
       "      <td>United Kingdom</td>\n",
       "      <td>NaN</td>\n",
       "    </tr>\n",
       "    <tr>\n",
       "      <th>3</th>\n",
       "      <td>536365</td>\n",
       "      <td>84029G</td>\n",
       "      <td>KNITTED UNION FLAG HOT WATER BOTTLE</td>\n",
       "      <td>6</td>\n",
       "      <td>29-Nov-16</td>\n",
       "      <td>3.39</td>\n",
       "      <td>17850.0</td>\n",
       "      <td>United Kingdom</td>\n",
       "      <td>NaN</td>\n",
       "    </tr>\n",
       "    <tr>\n",
       "      <th>4</th>\n",
       "      <td>536365</td>\n",
       "      <td>84029E</td>\n",
       "      <td>RED WOOLLY HOTTIE WHITE HEART.</td>\n",
       "      <td>6</td>\n",
       "      <td>29-Nov-16</td>\n",
       "      <td>3.39</td>\n",
       "      <td>17850.0</td>\n",
       "      <td>United Kingdom</td>\n",
       "      <td>NaN</td>\n",
       "    </tr>\n",
       "  </tbody>\n",
       "</table>\n",
       "</div>"
      ],
      "text/plain": [
       "  InvoiceNo StockCode                          Description  Quantity  \\\n",
       "0    536365    85123A   WHITE HANGING HEART T-LIGHT HOLDER         6   \n",
       "1    536365     71053                  WHITE METAL LANTERN         6   \n",
       "2    536365    84406B       CREAM CUPID HEARTS COAT HANGER         8   \n",
       "3    536365    84029G  KNITTED UNION FLAG HOT WATER BOTTLE         6   \n",
       "4    536365    84029E       RED WOOLLY HOTTIE WHITE HEART.         6   \n",
       "\n",
       "  InvoiceDate  UnitPrice  CustomerID         Country  Unnamed: 8  \n",
       "0   29-Nov-16       2.55     17850.0  United Kingdom         NaN  \n",
       "1   29-Nov-16       3.39     17850.0  United Kingdom         NaN  \n",
       "2   29-Nov-16       2.75     17850.0  United Kingdom         NaN  \n",
       "3   29-Nov-16       3.39     17850.0  United Kingdom         NaN  \n",
       "4   29-Nov-16       3.39     17850.0  United Kingdom         NaN  "
      ]
     },
     "execution_count": 4,
     "metadata": {},
     "output_type": "execute_result"
    }
   ],
   "source": [
    "df_raw.head()"
   ]
  },
  {
   "cell_type": "code",
   "execution_count": 5,
   "id": "4aaaa202",
   "metadata": {
    "ExecuteTime": {
     "end_time": "2022-12-29T13:34:59.623747Z",
     "start_time": "2022-12-29T13:34:59.578649Z"
    }
   },
   "outputs": [],
   "source": [
    "df1 = df_raw.copy()"
   ]
  },
  {
   "cell_type": "markdown",
   "id": "19dab3df",
   "metadata": {},
   "source": [
    "**data dimensions**"
   ]
  },
  {
   "cell_type": "code",
   "execution_count": 6,
   "id": "f206130f",
   "metadata": {
    "ExecuteTime": {
     "end_time": "2022-12-29T13:34:59.643833Z",
     "start_time": "2022-12-29T13:34:59.628753Z"
    }
   },
   "outputs": [
    {
     "data": {
      "text/plain": [
       "(541909, 9)"
      ]
     },
     "execution_count": 6,
     "metadata": {},
     "output_type": "execute_result"
    }
   ],
   "source": [
    "df1.shape"
   ]
  },
  {
   "cell_type": "markdown",
   "id": "bb72eb2d",
   "metadata": {},
   "source": [
    "**Rename columns**"
   ]
  },
  {
   "cell_type": "code",
   "execution_count": 7,
   "id": "5ac5a25a",
   "metadata": {
    "ExecuteTime": {
     "end_time": "2022-12-29T13:34:59.663417Z",
     "start_time": "2022-12-29T13:34:59.648839Z"
    }
   },
   "outputs": [],
   "source": [
    "old_cols = df1.columns\n",
    "snakecase = lambda x: inflection.underscore(x)\n",
    "new_cols = list(map(snakecase,old_cols))\n",
    "df1.columns = new_cols"
   ]
  },
  {
   "cell_type": "code",
   "execution_count": 8,
   "id": "4aaf1ea4",
   "metadata": {
    "ExecuteTime": {
     "end_time": "2022-12-29T13:34:59.683529Z",
     "start_time": "2022-12-29T13:34:59.668431Z"
    }
   },
   "outputs": [
    {
     "data": {
      "text/plain": [
       "Index(['invoice_no', 'stock_code', 'description', 'quantity', 'invoice_date',\n",
       "       'unit_price', 'customer_id', 'country', 'unnamed: 8'],\n",
       "      dtype='object')"
      ]
     },
     "execution_count": 8,
     "metadata": {},
     "output_type": "execute_result"
    }
   ],
   "source": [
    "df1.columns"
   ]
  },
  {
   "cell_type": "markdown",
   "id": "aa9db32f",
   "metadata": {},
   "source": [
    "**delete column**"
   ]
  },
  {
   "cell_type": "code",
   "execution_count": 9,
   "id": "937fa595",
   "metadata": {
    "ExecuteTime": {
     "end_time": "2022-12-29T13:34:59.765957Z",
     "start_time": "2022-12-29T13:34:59.683529Z"
    }
   },
   "outputs": [],
   "source": [
    "df1.drop(columns='unnamed: 8',inplace=True)"
   ]
  },
  {
   "cell_type": "code",
   "execution_count": 10,
   "id": "0b7d43ab",
   "metadata": {
    "ExecuteTime": {
     "end_time": "2022-12-29T13:34:59.814383Z",
     "start_time": "2022-12-29T13:34:59.765957Z"
    },
    "scrolled": false
   },
   "outputs": [
    {
     "data": {
      "text/html": [
       "<div>\n",
       "<style scoped>\n",
       "    .dataframe tbody tr th:only-of-type {\n",
       "        vertical-align: middle;\n",
       "    }\n",
       "\n",
       "    .dataframe tbody tr th {\n",
       "        vertical-align: top;\n",
       "    }\n",
       "\n",
       "    .dataframe thead th {\n",
       "        text-align: right;\n",
       "    }\n",
       "</style>\n",
       "<table border=\"1\" class=\"dataframe\">\n",
       "  <thead>\n",
       "    <tr style=\"text-align: right;\">\n",
       "      <th></th>\n",
       "      <th>invoice_no</th>\n",
       "      <th>stock_code</th>\n",
       "      <th>description</th>\n",
       "      <th>quantity</th>\n",
       "      <th>invoice_date</th>\n",
       "      <th>unit_price</th>\n",
       "      <th>customer_id</th>\n",
       "      <th>country</th>\n",
       "    </tr>\n",
       "  </thead>\n",
       "  <tbody>\n",
       "    <tr>\n",
       "      <th>0</th>\n",
       "      <td>536365</td>\n",
       "      <td>85123A</td>\n",
       "      <td>WHITE HANGING HEART T-LIGHT HOLDER</td>\n",
       "      <td>6</td>\n",
       "      <td>29-Nov-16</td>\n",
       "      <td>2.55</td>\n",
       "      <td>17850.0</td>\n",
       "      <td>United Kingdom</td>\n",
       "    </tr>\n",
       "    <tr>\n",
       "      <th>1</th>\n",
       "      <td>536365</td>\n",
       "      <td>71053</td>\n",
       "      <td>WHITE METAL LANTERN</td>\n",
       "      <td>6</td>\n",
       "      <td>29-Nov-16</td>\n",
       "      <td>3.39</td>\n",
       "      <td>17850.0</td>\n",
       "      <td>United Kingdom</td>\n",
       "    </tr>\n",
       "    <tr>\n",
       "      <th>2</th>\n",
       "      <td>536365</td>\n",
       "      <td>84406B</td>\n",
       "      <td>CREAM CUPID HEARTS COAT HANGER</td>\n",
       "      <td>8</td>\n",
       "      <td>29-Nov-16</td>\n",
       "      <td>2.75</td>\n",
       "      <td>17850.0</td>\n",
       "      <td>United Kingdom</td>\n",
       "    </tr>\n",
       "    <tr>\n",
       "      <th>3</th>\n",
       "      <td>536365</td>\n",
       "      <td>84029G</td>\n",
       "      <td>KNITTED UNION FLAG HOT WATER BOTTLE</td>\n",
       "      <td>6</td>\n",
       "      <td>29-Nov-16</td>\n",
       "      <td>3.39</td>\n",
       "      <td>17850.0</td>\n",
       "      <td>United Kingdom</td>\n",
       "    </tr>\n",
       "    <tr>\n",
       "      <th>4</th>\n",
       "      <td>536365</td>\n",
       "      <td>84029E</td>\n",
       "      <td>RED WOOLLY HOTTIE WHITE HEART.</td>\n",
       "      <td>6</td>\n",
       "      <td>29-Nov-16</td>\n",
       "      <td>3.39</td>\n",
       "      <td>17850.0</td>\n",
       "      <td>United Kingdom</td>\n",
       "    </tr>\n",
       "  </tbody>\n",
       "</table>\n",
       "</div>"
      ],
      "text/plain": [
       "  invoice_no stock_code                          description  quantity  \\\n",
       "0     536365     85123A   WHITE HANGING HEART T-LIGHT HOLDER         6   \n",
       "1     536365      71053                  WHITE METAL LANTERN         6   \n",
       "2     536365     84406B       CREAM CUPID HEARTS COAT HANGER         8   \n",
       "3     536365     84029G  KNITTED UNION FLAG HOT WATER BOTTLE         6   \n",
       "4     536365     84029E       RED WOOLLY HOTTIE WHITE HEART.         6   \n",
       "\n",
       "  invoice_date  unit_price  customer_id         country  \n",
       "0    29-Nov-16        2.55      17850.0  United Kingdom  \n",
       "1    29-Nov-16        3.39      17850.0  United Kingdom  \n",
       "2    29-Nov-16        2.75      17850.0  United Kingdom  \n",
       "3    29-Nov-16        3.39      17850.0  United Kingdom  \n",
       "4    29-Nov-16        3.39      17850.0  United Kingdom  "
      ]
     },
     "execution_count": 10,
     "metadata": {},
     "output_type": "execute_result"
    }
   ],
   "source": [
    "df1.head()"
   ]
  },
  {
   "cell_type": "markdown",
   "id": "d8367eef",
   "metadata": {},
   "source": [
    "# Data types"
   ]
  },
  {
   "cell_type": "code",
   "execution_count": 11,
   "id": "1dbfb941",
   "metadata": {
    "ExecuteTime": {
     "end_time": "2022-12-29T13:34:59.833625Z",
     "start_time": "2022-12-29T13:34:59.818914Z"
    }
   },
   "outputs": [
    {
     "data": {
      "text/plain": [
       "invoice_no       object\n",
       "stock_code       object\n",
       "description      object\n",
       "quantity          int64\n",
       "invoice_date     object\n",
       "unit_price      float64\n",
       "customer_id     float64\n",
       "country          object\n",
       "dtype: object"
      ]
     },
     "execution_count": 11,
     "metadata": {},
     "output_type": "execute_result"
    }
   ],
   "source": [
    "df1.dtypes"
   ]
  },
  {
   "cell_type": "markdown",
   "id": "e5e85287",
   "metadata": {},
   "source": [
    "# Checking NA"
   ]
  },
  {
   "cell_type": "code",
   "execution_count": 12,
   "id": "9a7d6a3d",
   "metadata": {
    "ExecuteTime": {
     "end_time": "2022-12-29T13:35:00.248471Z",
     "start_time": "2022-12-29T13:34:59.838677Z"
    }
   },
   "outputs": [
    {
     "data": {
      "text/plain": [
       "invoice_no       0.000000\n",
       "stock_code       0.000000\n",
       "description      0.268311\n",
       "quantity         0.000000\n",
       "invoice_date     0.000000\n",
       "unit_price       0.000000\n",
       "customer_id     24.926694\n",
       "country          0.000000\n",
       "dtype: float64"
      ]
     },
     "execution_count": 12,
     "metadata": {},
     "output_type": "execute_result"
    }
   ],
   "source": [
    "df1.isnull().sum()/len(df_raw)*100"
   ]
  },
  {
   "cell_type": "markdown",
   "id": "b9ae9d28",
   "metadata": {},
   "source": [
    "## replace NA"
   ]
  },
  {
   "cell_type": "code",
   "execution_count": 13,
   "id": "b9d77d14",
   "metadata": {
    "ExecuteTime": {
     "end_time": "2022-12-29T13:35:00.330436Z",
     "start_time": "2022-12-29T13:35:00.253565Z"
    }
   },
   "outputs": [
    {
     "data": {
      "text/html": [
       "<div>\n",
       "<style scoped>\n",
       "    .dataframe tbody tr th:only-of-type {\n",
       "        vertical-align: middle;\n",
       "    }\n",
       "\n",
       "    .dataframe tbody tr th {\n",
       "        vertical-align: top;\n",
       "    }\n",
       "\n",
       "    .dataframe thead th {\n",
       "        text-align: right;\n",
       "    }\n",
       "</style>\n",
       "<table border=\"1\" class=\"dataframe\">\n",
       "  <thead>\n",
       "    <tr style=\"text-align: right;\">\n",
       "      <th></th>\n",
       "      <th>invoice_no</th>\n",
       "      <th>stock_code</th>\n",
       "      <th>description</th>\n",
       "      <th>quantity</th>\n",
       "      <th>invoice_date</th>\n",
       "      <th>unit_price</th>\n",
       "      <th>customer_id</th>\n",
       "      <th>country</th>\n",
       "    </tr>\n",
       "  </thead>\n",
       "  <tbody>\n",
       "    <tr>\n",
       "      <th>622</th>\n",
       "      <td>536414</td>\n",
       "      <td>22139</td>\n",
       "      <td>NaN</td>\n",
       "      <td>56</td>\n",
       "      <td>29-Nov-16</td>\n",
       "      <td>0.00</td>\n",
       "      <td>NaN</td>\n",
       "      <td>United Kingdom</td>\n",
       "    </tr>\n",
       "    <tr>\n",
       "      <th>1443</th>\n",
       "      <td>536544</td>\n",
       "      <td>21773</td>\n",
       "      <td>DECORATIVE ROSE BATHROOM BOTTLE</td>\n",
       "      <td>1</td>\n",
       "      <td>29-Nov-16</td>\n",
       "      <td>2.51</td>\n",
       "      <td>NaN</td>\n",
       "      <td>United Kingdom</td>\n",
       "    </tr>\n",
       "    <tr>\n",
       "      <th>1444</th>\n",
       "      <td>536544</td>\n",
       "      <td>21774</td>\n",
       "      <td>DECORATIVE CATS BATHROOM BOTTLE</td>\n",
       "      <td>2</td>\n",
       "      <td>29-Nov-16</td>\n",
       "      <td>2.51</td>\n",
       "      <td>NaN</td>\n",
       "      <td>United Kingdom</td>\n",
       "    </tr>\n",
       "    <tr>\n",
       "      <th>1445</th>\n",
       "      <td>536544</td>\n",
       "      <td>21786</td>\n",
       "      <td>POLKADOT RAIN HAT</td>\n",
       "      <td>4</td>\n",
       "      <td>29-Nov-16</td>\n",
       "      <td>0.85</td>\n",
       "      <td>NaN</td>\n",
       "      <td>United Kingdom</td>\n",
       "    </tr>\n",
       "    <tr>\n",
       "      <th>1446</th>\n",
       "      <td>536544</td>\n",
       "      <td>21787</td>\n",
       "      <td>RAIN PONCHO RETROSPOT</td>\n",
       "      <td>2</td>\n",
       "      <td>29-Nov-16</td>\n",
       "      <td>1.66</td>\n",
       "      <td>NaN</td>\n",
       "      <td>United Kingdom</td>\n",
       "    </tr>\n",
       "  </tbody>\n",
       "</table>\n",
       "</div>"
      ],
      "text/plain": [
       "     invoice_no stock_code                      description  quantity  \\\n",
       "622      536414      22139                              NaN        56   \n",
       "1443     536544      21773  DECORATIVE ROSE BATHROOM BOTTLE         1   \n",
       "1444     536544      21774  DECORATIVE CATS BATHROOM BOTTLE         2   \n",
       "1445     536544      21786               POLKADOT RAIN HAT          4   \n",
       "1446     536544      21787            RAIN PONCHO RETROSPOT         2   \n",
       "\n",
       "     invoice_date  unit_price  customer_id         country  \n",
       "622     29-Nov-16        0.00          NaN  United Kingdom  \n",
       "1443    29-Nov-16        2.51          NaN  United Kingdom  \n",
       "1444    29-Nov-16        2.51          NaN  United Kingdom  \n",
       "1445    29-Nov-16        0.85          NaN  United Kingdom  \n",
       "1446    29-Nov-16        1.66          NaN  United Kingdom  "
      ]
     },
     "execution_count": 13,
     "metadata": {},
     "output_type": "execute_result"
    }
   ],
   "source": [
    "df_missing = df1.loc[df1['customer_id'].isna(),:]\n",
    "df_missing.head()"
   ]
  },
  {
   "cell_type": "code",
   "execution_count": 14,
   "id": "d7f172b7",
   "metadata": {
    "ExecuteTime": {
     "end_time": "2022-12-29T13:35:00.453573Z",
     "start_time": "2022-12-29T13:35:00.343544Z"
    }
   },
   "outputs": [
    {
     "data": {
      "text/html": [
       "<div>\n",
       "<style scoped>\n",
       "    .dataframe tbody tr th:only-of-type {\n",
       "        vertical-align: middle;\n",
       "    }\n",
       "\n",
       "    .dataframe tbody tr th {\n",
       "        vertical-align: top;\n",
       "    }\n",
       "\n",
       "    .dataframe thead th {\n",
       "        text-align: right;\n",
       "    }\n",
       "</style>\n",
       "<table border=\"1\" class=\"dataframe\">\n",
       "  <thead>\n",
       "    <tr style=\"text-align: right;\">\n",
       "      <th></th>\n",
       "      <th>invoice_no</th>\n",
       "      <th>stock_code</th>\n",
       "      <th>description</th>\n",
       "      <th>quantity</th>\n",
       "      <th>invoice_date</th>\n",
       "      <th>unit_price</th>\n",
       "      <th>customer_id</th>\n",
       "      <th>country</th>\n",
       "    </tr>\n",
       "  </thead>\n",
       "  <tbody>\n",
       "    <tr>\n",
       "      <th>0</th>\n",
       "      <td>536365</td>\n",
       "      <td>85123A</td>\n",
       "      <td>WHITE HANGING HEART T-LIGHT HOLDER</td>\n",
       "      <td>6</td>\n",
       "      <td>29-Nov-16</td>\n",
       "      <td>2.55</td>\n",
       "      <td>17850.0</td>\n",
       "      <td>United Kingdom</td>\n",
       "    </tr>\n",
       "    <tr>\n",
       "      <th>1</th>\n",
       "      <td>536365</td>\n",
       "      <td>71053</td>\n",
       "      <td>WHITE METAL LANTERN</td>\n",
       "      <td>6</td>\n",
       "      <td>29-Nov-16</td>\n",
       "      <td>3.39</td>\n",
       "      <td>17850.0</td>\n",
       "      <td>United Kingdom</td>\n",
       "    </tr>\n",
       "    <tr>\n",
       "      <th>2</th>\n",
       "      <td>536365</td>\n",
       "      <td>84406B</td>\n",
       "      <td>CREAM CUPID HEARTS COAT HANGER</td>\n",
       "      <td>8</td>\n",
       "      <td>29-Nov-16</td>\n",
       "      <td>2.75</td>\n",
       "      <td>17850.0</td>\n",
       "      <td>United Kingdom</td>\n",
       "    </tr>\n",
       "    <tr>\n",
       "      <th>3</th>\n",
       "      <td>536365</td>\n",
       "      <td>84029G</td>\n",
       "      <td>KNITTED UNION FLAG HOT WATER BOTTLE</td>\n",
       "      <td>6</td>\n",
       "      <td>29-Nov-16</td>\n",
       "      <td>3.39</td>\n",
       "      <td>17850.0</td>\n",
       "      <td>United Kingdom</td>\n",
       "    </tr>\n",
       "    <tr>\n",
       "      <th>4</th>\n",
       "      <td>536365</td>\n",
       "      <td>84029E</td>\n",
       "      <td>RED WOOLLY HOTTIE WHITE HEART.</td>\n",
       "      <td>6</td>\n",
       "      <td>29-Nov-16</td>\n",
       "      <td>3.39</td>\n",
       "      <td>17850.0</td>\n",
       "      <td>United Kingdom</td>\n",
       "    </tr>\n",
       "    <tr>\n",
       "      <th>...</th>\n",
       "      <td>...</td>\n",
       "      <td>...</td>\n",
       "      <td>...</td>\n",
       "      <td>...</td>\n",
       "      <td>...</td>\n",
       "      <td>...</td>\n",
       "      <td>...</td>\n",
       "      <td>...</td>\n",
       "    </tr>\n",
       "    <tr>\n",
       "      <th>541904</th>\n",
       "      <td>581587</td>\n",
       "      <td>22613</td>\n",
       "      <td>PACK OF 20 SPACEBOY NAPKINS</td>\n",
       "      <td>12</td>\n",
       "      <td>7-Dec-17</td>\n",
       "      <td>0.85</td>\n",
       "      <td>12680.0</td>\n",
       "      <td>France</td>\n",
       "    </tr>\n",
       "    <tr>\n",
       "      <th>541905</th>\n",
       "      <td>581587</td>\n",
       "      <td>22899</td>\n",
       "      <td>CHILDREN'S APRON DOLLY GIRL</td>\n",
       "      <td>6</td>\n",
       "      <td>7-Dec-17</td>\n",
       "      <td>2.10</td>\n",
       "      <td>12680.0</td>\n",
       "      <td>France</td>\n",
       "    </tr>\n",
       "    <tr>\n",
       "      <th>541906</th>\n",
       "      <td>581587</td>\n",
       "      <td>23254</td>\n",
       "      <td>CHILDRENS CUTLERY DOLLY GIRL</td>\n",
       "      <td>4</td>\n",
       "      <td>7-Dec-17</td>\n",
       "      <td>4.15</td>\n",
       "      <td>12680.0</td>\n",
       "      <td>France</td>\n",
       "    </tr>\n",
       "    <tr>\n",
       "      <th>541907</th>\n",
       "      <td>581587</td>\n",
       "      <td>23255</td>\n",
       "      <td>CHILDRENS CUTLERY CIRCUS PARADE</td>\n",
       "      <td>4</td>\n",
       "      <td>7-Dec-17</td>\n",
       "      <td>4.15</td>\n",
       "      <td>12680.0</td>\n",
       "      <td>France</td>\n",
       "    </tr>\n",
       "    <tr>\n",
       "      <th>541908</th>\n",
       "      <td>581587</td>\n",
       "      <td>22138</td>\n",
       "      <td>BAKING SET 9 PIECE RETROSPOT</td>\n",
       "      <td>3</td>\n",
       "      <td>7-Dec-17</td>\n",
       "      <td>4.95</td>\n",
       "      <td>12680.0</td>\n",
       "      <td>France</td>\n",
       "    </tr>\n",
       "  </tbody>\n",
       "</table>\n",
       "<p>406829 rows × 8 columns</p>\n",
       "</div>"
      ],
      "text/plain": [
       "       invoice_no stock_code                          description  quantity  \\\n",
       "0          536365     85123A   WHITE HANGING HEART T-LIGHT HOLDER         6   \n",
       "1          536365      71053                  WHITE METAL LANTERN         6   \n",
       "2          536365     84406B       CREAM CUPID HEARTS COAT HANGER         8   \n",
       "3          536365     84029G  KNITTED UNION FLAG HOT WATER BOTTLE         6   \n",
       "4          536365     84029E       RED WOOLLY HOTTIE WHITE HEART.         6   \n",
       "...           ...        ...                                  ...       ...   \n",
       "541904     581587      22613          PACK OF 20 SPACEBOY NAPKINS        12   \n",
       "541905     581587      22899         CHILDREN'S APRON DOLLY GIRL          6   \n",
       "541906     581587      23254        CHILDRENS CUTLERY DOLLY GIRL          4   \n",
       "541907     581587      23255      CHILDRENS CUTLERY CIRCUS PARADE         4   \n",
       "541908     581587      22138        BAKING SET 9 PIECE RETROSPOT          3   \n",
       "\n",
       "       invoice_date  unit_price  customer_id         country  \n",
       "0         29-Nov-16        2.55      17850.0  United Kingdom  \n",
       "1         29-Nov-16        3.39      17850.0  United Kingdom  \n",
       "2         29-Nov-16        2.75      17850.0  United Kingdom  \n",
       "3         29-Nov-16        3.39      17850.0  United Kingdom  \n",
       "4         29-Nov-16        3.39      17850.0  United Kingdom  \n",
       "...             ...         ...          ...             ...  \n",
       "541904     7-Dec-17        0.85      12680.0          France  \n",
       "541905     7-Dec-17        2.10      12680.0          France  \n",
       "541906     7-Dec-17        4.15      12680.0          France  \n",
       "541907     7-Dec-17        4.15      12680.0          France  \n",
       "541908     7-Dec-17        4.95      12680.0          France  \n",
       "\n",
       "[406829 rows x 8 columns]"
      ]
     },
     "execution_count": 14,
     "metadata": {},
     "output_type": "execute_result"
    }
   ],
   "source": [
    "df_not_missing = df1.loc[~df1['customer_id'].isna(),:]\n",
    "df_not_missing"
   ]
  },
  {
   "cell_type": "code",
   "execution_count": 15,
   "id": "34669423",
   "metadata": {
    "ExecuteTime": {
     "end_time": "2022-12-29T13:35:01.043765Z",
     "start_time": "2022-12-29T13:35:00.453573Z"
    }
   },
   "outputs": [],
   "source": [
    "# create reference\n",
    "df_backup = pd.DataFrame(df_missing['invoice_no'].drop_duplicates())\n",
    "df_backup['customer_id'] = np.arange(19000,19000+len(df_backup),1)\n",
    "\n",
    "#merge original with reference\n",
    "df1 = pd.merge(df1,df_backup,on='invoice_no',how='left')\n",
    "\n",
    "#coalesce\n",
    "df1['customer_id'] = df1['customer_id_x'].combine_first(df1['customer_id_y'])\n",
    "\n",
    "df1 = df1.drop(columns=['customer_id_x','customer_id_y'])"
   ]
  },
  {
   "cell_type": "code",
   "execution_count": 16,
   "id": "08a43ef7",
   "metadata": {
    "ExecuteTime": {
     "end_time": "2022-12-29T13:35:01.323777Z",
     "start_time": "2022-12-29T13:35:01.048776Z"
    }
   },
   "outputs": [
    {
     "data": {
      "text/plain": [
       "invoice_no         0\n",
       "stock_code         0\n",
       "description     1454\n",
       "quantity           0\n",
       "invoice_date       0\n",
       "unit_price         0\n",
       "country            0\n",
       "customer_id        0\n",
       "dtype: int64"
      ]
     },
     "execution_count": 16,
     "metadata": {},
     "output_type": "execute_result"
    }
   ],
   "source": [
    "df1.isnull().sum()"
   ]
  },
  {
   "cell_type": "code",
   "execution_count": 17,
   "id": "d5d6a0e9",
   "metadata": {
    "ExecuteTime": {
     "end_time": "2022-12-29T13:35:01.363652Z",
     "start_time": "2022-12-29T13:35:01.323777Z"
    }
   },
   "outputs": [
    {
     "data": {
      "text/html": [
       "<div>\n",
       "<style scoped>\n",
       "    .dataframe tbody tr th:only-of-type {\n",
       "        vertical-align: middle;\n",
       "    }\n",
       "\n",
       "    .dataframe tbody tr th {\n",
       "        vertical-align: top;\n",
       "    }\n",
       "\n",
       "    .dataframe thead th {\n",
       "        text-align: right;\n",
       "    }\n",
       "</style>\n",
       "<table border=\"1\" class=\"dataframe\">\n",
       "  <thead>\n",
       "    <tr style=\"text-align: right;\">\n",
       "      <th></th>\n",
       "      <th>invoice_no</th>\n",
       "      <th>customer_id</th>\n",
       "    </tr>\n",
       "  </thead>\n",
       "  <tbody>\n",
       "    <tr>\n",
       "      <th>622</th>\n",
       "      <td>536414</td>\n",
       "      <td>19000</td>\n",
       "    </tr>\n",
       "    <tr>\n",
       "      <th>1443</th>\n",
       "      <td>536544</td>\n",
       "      <td>19001</td>\n",
       "    </tr>\n",
       "    <tr>\n",
       "      <th>1970</th>\n",
       "      <td>536545</td>\n",
       "      <td>19002</td>\n",
       "    </tr>\n",
       "    <tr>\n",
       "      <th>1971</th>\n",
       "      <td>536546</td>\n",
       "      <td>19003</td>\n",
       "    </tr>\n",
       "    <tr>\n",
       "      <th>1972</th>\n",
       "      <td>536547</td>\n",
       "      <td>19004</td>\n",
       "    </tr>\n",
       "  </tbody>\n",
       "</table>\n",
       "</div>"
      ],
      "text/plain": [
       "     invoice_no  customer_id\n",
       "622      536414        19000\n",
       "1443     536544        19001\n",
       "1970     536545        19002\n",
       "1971     536546        19003\n",
       "1972     536547        19004"
      ]
     },
     "execution_count": 17,
     "metadata": {},
     "output_type": "execute_result"
    }
   ],
   "source": [
    "df_backup.head()"
   ]
  },
  {
   "cell_type": "code",
   "execution_count": 18,
   "id": "4c7b0814",
   "metadata": {
    "ExecuteTime": {
     "end_time": "2022-12-29T13:35:01.403608Z",
     "start_time": "2022-12-29T13:35:01.368659Z"
    }
   },
   "outputs": [
    {
     "data": {
      "text/plain": [
       "0.0"
      ]
     },
     "execution_count": 18,
     "metadata": {},
     "output_type": "execute_result"
    }
   ],
   "source": [
    "1- df1.shape[0]/df_raw.shape[0]"
   ]
  },
  {
   "cell_type": "code",
   "execution_count": 19,
   "id": "a8f1a9d0",
   "metadata": {
    "ExecuteTime": {
     "end_time": "2022-12-29T13:35:01.623342Z",
     "start_time": "2022-12-29T13:35:01.408616Z"
    }
   },
   "outputs": [
    {
     "data": {
      "text/plain": [
       "invoice_no         0\n",
       "stock_code         0\n",
       "description     1454\n",
       "quantity           0\n",
       "invoice_date       0\n",
       "unit_price         0\n",
       "country            0\n",
       "customer_id        0\n",
       "dtype: int64"
      ]
     },
     "execution_count": 19,
     "metadata": {},
     "output_type": "execute_result"
    }
   ],
   "source": [
    "df1.isnull().sum()"
   ]
  },
  {
   "cell_type": "markdown",
   "id": "080c7975",
   "metadata": {},
   "source": [
    "# Changing types"
   ]
  },
  {
   "cell_type": "code",
   "execution_count": 20,
   "id": "ae5056f1",
   "metadata": {
    "ExecuteTime": {
     "end_time": "2022-12-29T13:35:01.783559Z",
     "start_time": "2022-12-29T13:35:01.628358Z"
    }
   },
   "outputs": [],
   "source": [
    "df1['invoice_date'] = pd.to_datetime(df1['invoice_date'],format='%d-%b-%y')"
   ]
  },
  {
   "cell_type": "code",
   "execution_count": 21,
   "id": "63ec3ee2",
   "metadata": {
    "ExecuteTime": {
     "end_time": "2022-12-29T13:35:01.798681Z",
     "start_time": "2022-12-29T13:35:01.788566Z"
    }
   },
   "outputs": [],
   "source": [
    "#df1['invoice_no'].astype(int)"
   ]
  },
  {
   "cell_type": "code",
   "execution_count": 22,
   "id": "9e55b839",
   "metadata": {
    "ExecuteTime": {
     "end_time": "2022-12-29T13:35:01.848354Z",
     "start_time": "2022-12-29T13:35:01.803708Z"
    }
   },
   "outputs": [
    {
     "data": {
      "text/plain": [
       "invoice_no              object\n",
       "stock_code              object\n",
       "description             object\n",
       "quantity                 int64\n",
       "invoice_date    datetime64[ns]\n",
       "unit_price             float64\n",
       "country                 object\n",
       "customer_id            float64\n",
       "dtype: object"
      ]
     },
     "execution_count": 22,
     "metadata": {},
     "output_type": "execute_result"
    }
   ],
   "source": [
    "df1.dtypes"
   ]
  },
  {
   "cell_type": "markdown",
   "id": "e07392f5",
   "metadata": {},
   "source": [
    "'Invoice_no' possui letras em algumas linhas, necessita de limpeza mais detalhada"
   ]
  },
  {
   "cell_type": "markdown",
   "id": "8f81594c",
   "metadata": {},
   "source": [
    "# Data description"
   ]
  },
  {
   "cell_type": "code",
   "execution_count": 23,
   "id": "e3fed166",
   "metadata": {
    "ExecuteTime": {
     "end_time": "2022-12-29T13:35:01.878447Z",
     "start_time": "2022-12-29T13:35:01.853386Z"
    }
   },
   "outputs": [
    {
     "data": {
      "text/html": [
       "<div>\n",
       "<style scoped>\n",
       "    .dataframe tbody tr th:only-of-type {\n",
       "        vertical-align: middle;\n",
       "    }\n",
       "\n",
       "    .dataframe tbody tr th {\n",
       "        vertical-align: top;\n",
       "    }\n",
       "\n",
       "    .dataframe thead th {\n",
       "        text-align: right;\n",
       "    }\n",
       "</style>\n",
       "<table border=\"1\" class=\"dataframe\">\n",
       "  <thead>\n",
       "    <tr style=\"text-align: right;\">\n",
       "      <th></th>\n",
       "      <th>invoice_no</th>\n",
       "      <th>stock_code</th>\n",
       "      <th>description</th>\n",
       "      <th>quantity</th>\n",
       "      <th>invoice_date</th>\n",
       "      <th>unit_price</th>\n",
       "      <th>country</th>\n",
       "      <th>customer_id</th>\n",
       "    </tr>\n",
       "  </thead>\n",
       "  <tbody>\n",
       "    <tr>\n",
       "      <th>0</th>\n",
       "      <td>536365</td>\n",
       "      <td>85123A</td>\n",
       "      <td>WHITE HANGING HEART T-LIGHT HOLDER</td>\n",
       "      <td>6</td>\n",
       "      <td>2016-11-29</td>\n",
       "      <td>2.55</td>\n",
       "      <td>United Kingdom</td>\n",
       "      <td>17850.0</td>\n",
       "    </tr>\n",
       "    <tr>\n",
       "      <th>1</th>\n",
       "      <td>536365</td>\n",
       "      <td>71053</td>\n",
       "      <td>WHITE METAL LANTERN</td>\n",
       "      <td>6</td>\n",
       "      <td>2016-11-29</td>\n",
       "      <td>3.39</td>\n",
       "      <td>United Kingdom</td>\n",
       "      <td>17850.0</td>\n",
       "    </tr>\n",
       "    <tr>\n",
       "      <th>2</th>\n",
       "      <td>536365</td>\n",
       "      <td>84406B</td>\n",
       "      <td>CREAM CUPID HEARTS COAT HANGER</td>\n",
       "      <td>8</td>\n",
       "      <td>2016-11-29</td>\n",
       "      <td>2.75</td>\n",
       "      <td>United Kingdom</td>\n",
       "      <td>17850.0</td>\n",
       "    </tr>\n",
       "    <tr>\n",
       "      <th>3</th>\n",
       "      <td>536365</td>\n",
       "      <td>84029G</td>\n",
       "      <td>KNITTED UNION FLAG HOT WATER BOTTLE</td>\n",
       "      <td>6</td>\n",
       "      <td>2016-11-29</td>\n",
       "      <td>3.39</td>\n",
       "      <td>United Kingdom</td>\n",
       "      <td>17850.0</td>\n",
       "    </tr>\n",
       "    <tr>\n",
       "      <th>4</th>\n",
       "      <td>536365</td>\n",
       "      <td>84029E</td>\n",
       "      <td>RED WOOLLY HOTTIE WHITE HEART.</td>\n",
       "      <td>6</td>\n",
       "      <td>2016-11-29</td>\n",
       "      <td>3.39</td>\n",
       "      <td>United Kingdom</td>\n",
       "      <td>17850.0</td>\n",
       "    </tr>\n",
       "  </tbody>\n",
       "</table>\n",
       "</div>"
      ],
      "text/plain": [
       "  invoice_no stock_code                          description  quantity  \\\n",
       "0     536365     85123A   WHITE HANGING HEART T-LIGHT HOLDER         6   \n",
       "1     536365      71053                  WHITE METAL LANTERN         6   \n",
       "2     536365     84406B       CREAM CUPID HEARTS COAT HANGER         8   \n",
       "3     536365     84029G  KNITTED UNION FLAG HOT WATER BOTTLE         6   \n",
       "4     536365     84029E       RED WOOLLY HOTTIE WHITE HEART.         6   \n",
       "\n",
       "  invoice_date  unit_price         country  customer_id  \n",
       "0   2016-11-29        2.55  United Kingdom      17850.0  \n",
       "1   2016-11-29        3.39  United Kingdom      17850.0  \n",
       "2   2016-11-29        2.75  United Kingdom      17850.0  \n",
       "3   2016-11-29        3.39  United Kingdom      17850.0  \n",
       "4   2016-11-29        3.39  United Kingdom      17850.0  "
      ]
     },
     "execution_count": 23,
     "metadata": {},
     "output_type": "execute_result"
    }
   ],
   "source": [
    "df1.head()"
   ]
  },
  {
   "cell_type": "markdown",
   "id": "8d556f7e",
   "metadata": {},
   "source": [
    "'invoice_no', : categorical atributtes\n",
    "\n",
    "'stock_code': categorical atributtes\n",
    "\n",
    "'description': categorical atributtes\n",
    "\n",
    "'quantity': numerical atributtes\n",
    "\n",
    "'invoice_date': numerical atributtes\n",
    "\n",
    "'unit_price': numerical atributtes\n",
    "\n",
    "'customer_id': categorical atributtes\n",
    "\n",
    "'country': categorical atributtes"
   ]
  },
  {
   "cell_type": "code",
   "execution_count": 24,
   "id": "b5a83755",
   "metadata": {
    "ExecuteTime": {
     "end_time": "2022-12-29T13:35:01.973333Z",
     "start_time": "2022-12-29T13:35:01.883498Z"
    }
   },
   "outputs": [],
   "source": [
    "num_atributtes = df1[['quantity','unit_price','invoice_date']]\n",
    "cat_atributtes = df1[['customer_id','description','country','invoice_no','stock_code']]"
   ]
  },
  {
   "cell_type": "markdown",
   "id": "ceb7a275",
   "metadata": {},
   "source": [
    "## numerical statistcs"
   ]
  },
  {
   "cell_type": "code",
   "execution_count": 25,
   "id": "ddb3d6f9",
   "metadata": {
    "ExecuteTime": {
     "end_time": "2022-12-29T13:35:02.213819Z",
     "start_time": "2022-12-29T13:35:01.978343Z"
    }
   },
   "outputs": [
    {
     "data": {
      "text/html": [
       "<div>\n",
       "<style scoped>\n",
       "    .dataframe tbody tr th:only-of-type {\n",
       "        vertical-align: middle;\n",
       "    }\n",
       "\n",
       "    .dataframe tbody tr th {\n",
       "        vertical-align: top;\n",
       "    }\n",
       "\n",
       "    .dataframe thead th {\n",
       "        text-align: right;\n",
       "    }\n",
       "</style>\n",
       "<table border=\"1\" class=\"dataframe\">\n",
       "  <thead>\n",
       "    <tr style=\"text-align: right;\">\n",
       "      <th></th>\n",
       "      <th>min</th>\n",
       "      <th>max</th>\n",
       "      <th>range</th>\n",
       "      <th>mean</th>\n",
       "      <th>median</th>\n",
       "      <th>std</th>\n",
       "      <th>skew</th>\n",
       "      <th>kurtosis</th>\n",
       "    </tr>\n",
       "  </thead>\n",
       "  <tbody>\n",
       "    <tr>\n",
       "      <th>quantity</th>\n",
       "      <td>-80995.0</td>\n",
       "      <td>80995.0</td>\n",
       "      <td>161990.0</td>\n",
       "      <td>9.55225</td>\n",
       "      <td>3.0</td>\n",
       "      <td>218.081158</td>\n",
       "      <td>-0.264076</td>\n",
       "      <td>119769.160031</td>\n",
       "    </tr>\n",
       "    <tr>\n",
       "      <th>unit_price</th>\n",
       "      <td>-11062.06</td>\n",
       "      <td>38970.0</td>\n",
       "      <td>50032.06</td>\n",
       "      <td>4.611114</td>\n",
       "      <td>2.08</td>\n",
       "      <td>96.759853</td>\n",
       "      <td>186.506972</td>\n",
       "      <td>59005.719097</td>\n",
       "    </tr>\n",
       "    <tr>\n",
       "      <th>invoice_date</th>\n",
       "      <td>2016-11-29 00:00:00</td>\n",
       "      <td>2017-12-07 00:00:00</td>\n",
       "      <td>373 days 00:00:00</td>\n",
       "      <td>2017-07-02 00:00:13.073782016</td>\n",
       "      <td>2017-07-17 00:00:00</td>\n",
       "      <td>115 days 21:02:59.177457004</td>\n",
       "      <td>NaN</td>\n",
       "      <td>NaN</td>\n",
       "    </tr>\n",
       "  </tbody>\n",
       "</table>\n",
       "</div>"
      ],
      "text/plain": [
       "                              min                  max              range  \\\n",
       "quantity                 -80995.0              80995.0           161990.0   \n",
       "unit_price              -11062.06              38970.0           50032.06   \n",
       "invoice_date  2016-11-29 00:00:00  2017-12-07 00:00:00  373 days 00:00:00   \n",
       "\n",
       "                                       mean               median  \\\n",
       "quantity                            9.55225                  3.0   \n",
       "unit_price                         4.611114                 2.08   \n",
       "invoice_date  2017-07-02 00:00:13.073782016  2017-07-17 00:00:00   \n",
       "\n",
       "                                      std        skew       kurtosis  \n",
       "quantity                       218.081158   -0.264076  119769.160031  \n",
       "unit_price                      96.759853  186.506972   59005.719097  \n",
       "invoice_date  115 days 21:02:59.177457004         NaN            NaN  "
      ]
     },
     "execution_count": 25,
     "metadata": {},
     "output_type": "execute_result"
    }
   ],
   "source": [
    "num_statistcs = num_atributtes.agg(['min','max','mean','median','std','skew','kurtosis']).T\n",
    "num_statistcs['range'] = num_statistcs['max'] - num_statistcs['min']\n",
    "num_statistcs= num_statistcs[['min','max','range','mean','median','std','skew','kurtosis']]\n",
    "num_statistcs"
   ]
  },
  {
   "cell_type": "markdown",
   "id": "175be646",
   "metadata": {},
   "source": [
    "1. - Quantity negativa (pode ser devolução)\n",
    "2. - Preço unitário igual a zero (promoção?)"
   ]
  },
  {
   "cell_type": "markdown",
   "id": "6f5cb5ad",
   "metadata": {},
   "source": [
    "## Categorical statistcs"
   ]
  },
  {
   "cell_type": "code",
   "execution_count": 26,
   "id": "906869d9",
   "metadata": {
    "ExecuteTime": {
     "end_time": "2022-12-29T13:35:02.593799Z",
     "start_time": "2022-12-29T13:35:02.218325Z"
    },
    "scrolled": true
   },
   "outputs": [
    {
     "data": {
      "text/plain": [
       "customer_id     8082\n",
       "description     4224\n",
       "country           38\n",
       "invoice_no     25900\n",
       "stock_code      4070\n",
       "dtype: int64"
      ]
     },
     "execution_count": 26,
     "metadata": {},
     "output_type": "execute_result"
    }
   ],
   "source": [
    "cat_atributtes.apply(lambda x: x.unique().shape[0])"
   ]
  },
  {
   "cell_type": "code",
   "execution_count": 27,
   "id": "452490fe",
   "metadata": {
    "ExecuteTime": {
     "end_time": "2022-12-29T13:35:03.718765Z",
     "start_time": "2022-12-29T13:35:02.598827Z"
    }
   },
   "outputs": [
    {
     "data": {
      "text/html": [
       "<div>\n",
       "<style scoped>\n",
       "    .dataframe tbody tr th:only-of-type {\n",
       "        vertical-align: middle;\n",
       "    }\n",
       "\n",
       "    .dataframe tbody tr th {\n",
       "        vertical-align: top;\n",
       "    }\n",
       "\n",
       "    .dataframe thead th {\n",
       "        text-align: right;\n",
       "    }\n",
       "</style>\n",
       "<table border=\"1\" class=\"dataframe\">\n",
       "  <thead>\n",
       "    <tr style=\"text-align: right;\">\n",
       "      <th></th>\n",
       "      <th>invoice_no</th>\n",
       "      <th>stock_code</th>\n",
       "      <th>description</th>\n",
       "      <th>quantity</th>\n",
       "      <th>invoice_date</th>\n",
       "      <th>unit_price</th>\n",
       "      <th>country</th>\n",
       "      <th>customer_id</th>\n",
       "    </tr>\n",
       "  </thead>\n",
       "  <tbody>\n",
       "    <tr>\n",
       "      <th>141</th>\n",
       "      <td>C536379</td>\n",
       "      <td>D</td>\n",
       "      <td>Discount</td>\n",
       "      <td>-1</td>\n",
       "      <td>2016-11-29</td>\n",
       "      <td>27.50</td>\n",
       "      <td>United Kingdom</td>\n",
       "      <td>14527.0</td>\n",
       "    </tr>\n",
       "    <tr>\n",
       "      <th>154</th>\n",
       "      <td>C536383</td>\n",
       "      <td>35004C</td>\n",
       "      <td>SET OF 3 COLOURED  FLYING DUCKS</td>\n",
       "      <td>-1</td>\n",
       "      <td>2016-11-29</td>\n",
       "      <td>4.65</td>\n",
       "      <td>United Kingdom</td>\n",
       "      <td>15311.0</td>\n",
       "    </tr>\n",
       "    <tr>\n",
       "      <th>235</th>\n",
       "      <td>C536391</td>\n",
       "      <td>22556</td>\n",
       "      <td>PLASTERS IN TIN CIRCUS PARADE</td>\n",
       "      <td>-12</td>\n",
       "      <td>2016-11-29</td>\n",
       "      <td>1.65</td>\n",
       "      <td>United Kingdom</td>\n",
       "      <td>17548.0</td>\n",
       "    </tr>\n",
       "    <tr>\n",
       "      <th>236</th>\n",
       "      <td>C536391</td>\n",
       "      <td>21984</td>\n",
       "      <td>PACK OF 12 PINK PAISLEY TISSUES</td>\n",
       "      <td>-24</td>\n",
       "      <td>2016-11-29</td>\n",
       "      <td>0.29</td>\n",
       "      <td>United Kingdom</td>\n",
       "      <td>17548.0</td>\n",
       "    </tr>\n",
       "    <tr>\n",
       "      <th>237</th>\n",
       "      <td>C536391</td>\n",
       "      <td>21983</td>\n",
       "      <td>PACK OF 12 BLUE PAISLEY TISSUES</td>\n",
       "      <td>-24</td>\n",
       "      <td>2016-11-29</td>\n",
       "      <td>0.29</td>\n",
       "      <td>United Kingdom</td>\n",
       "      <td>17548.0</td>\n",
       "    </tr>\n",
       "    <tr>\n",
       "      <th>...</th>\n",
       "      <td>...</td>\n",
       "      <td>...</td>\n",
       "      <td>...</td>\n",
       "      <td>...</td>\n",
       "      <td>...</td>\n",
       "      <td>...</td>\n",
       "      <td>...</td>\n",
       "      <td>...</td>\n",
       "    </tr>\n",
       "    <tr>\n",
       "      <th>540449</th>\n",
       "      <td>C581490</td>\n",
       "      <td>23144</td>\n",
       "      <td>ZINC T-LIGHT HOLDER STARS SMALL</td>\n",
       "      <td>-11</td>\n",
       "      <td>2017-12-07</td>\n",
       "      <td>0.83</td>\n",
       "      <td>United Kingdom</td>\n",
       "      <td>14397.0</td>\n",
       "    </tr>\n",
       "    <tr>\n",
       "      <th>541541</th>\n",
       "      <td>C581499</td>\n",
       "      <td>M</td>\n",
       "      <td>Manual</td>\n",
       "      <td>-1</td>\n",
       "      <td>2017-12-07</td>\n",
       "      <td>224.69</td>\n",
       "      <td>United Kingdom</td>\n",
       "      <td>15498.0</td>\n",
       "    </tr>\n",
       "    <tr>\n",
       "      <th>541715</th>\n",
       "      <td>C581568</td>\n",
       "      <td>21258</td>\n",
       "      <td>VICTORIAN SEWING BOX LARGE</td>\n",
       "      <td>-5</td>\n",
       "      <td>2017-12-07</td>\n",
       "      <td>10.95</td>\n",
       "      <td>United Kingdom</td>\n",
       "      <td>15311.0</td>\n",
       "    </tr>\n",
       "    <tr>\n",
       "      <th>541716</th>\n",
       "      <td>C581569</td>\n",
       "      <td>84978</td>\n",
       "      <td>HANGING HEART JAR T-LIGHT HOLDER</td>\n",
       "      <td>-1</td>\n",
       "      <td>2017-12-07</td>\n",
       "      <td>1.25</td>\n",
       "      <td>United Kingdom</td>\n",
       "      <td>17315.0</td>\n",
       "    </tr>\n",
       "    <tr>\n",
       "      <th>541717</th>\n",
       "      <td>C581569</td>\n",
       "      <td>20979</td>\n",
       "      <td>36 PENCILS TUBE RED RETROSPOT</td>\n",
       "      <td>-5</td>\n",
       "      <td>2017-12-07</td>\n",
       "      <td>1.25</td>\n",
       "      <td>United Kingdom</td>\n",
       "      <td>17315.0</td>\n",
       "    </tr>\n",
       "  </tbody>\n",
       "</table>\n",
       "<p>9291 rows × 8 columns</p>\n",
       "</div>"
      ],
      "text/plain": [
       "       invoice_no stock_code                       description  quantity  \\\n",
       "141       C536379          D                          Discount        -1   \n",
       "154       C536383     35004C   SET OF 3 COLOURED  FLYING DUCKS        -1   \n",
       "235       C536391      22556    PLASTERS IN TIN CIRCUS PARADE        -12   \n",
       "236       C536391      21984  PACK OF 12 PINK PAISLEY TISSUES        -24   \n",
       "237       C536391      21983  PACK OF 12 BLUE PAISLEY TISSUES        -24   \n",
       "...           ...        ...                               ...       ...   \n",
       "540449    C581490      23144   ZINC T-LIGHT HOLDER STARS SMALL       -11   \n",
       "541541    C581499          M                            Manual        -1   \n",
       "541715    C581568      21258        VICTORIAN SEWING BOX LARGE        -5   \n",
       "541716    C581569      84978  HANGING HEART JAR T-LIGHT HOLDER        -1   \n",
       "541717    C581569      20979     36 PENCILS TUBE RED RETROSPOT        -5   \n",
       "\n",
       "       invoice_date  unit_price         country  customer_id  \n",
       "141      2016-11-29       27.50  United Kingdom      14527.0  \n",
       "154      2016-11-29        4.65  United Kingdom      15311.0  \n",
       "235      2016-11-29        1.65  United Kingdom      17548.0  \n",
       "236      2016-11-29        0.29  United Kingdom      17548.0  \n",
       "237      2016-11-29        0.29  United Kingdom      17548.0  \n",
       "...             ...         ...             ...          ...  \n",
       "540449   2017-12-07        0.83  United Kingdom      14397.0  \n",
       "541541   2017-12-07      224.69  United Kingdom      15498.0  \n",
       "541715   2017-12-07       10.95  United Kingdom      15311.0  \n",
       "541716   2017-12-07        1.25  United Kingdom      17315.0  \n",
       "541717   2017-12-07        1.25  United Kingdom      17315.0  \n",
       "\n",
       "[9291 rows x 8 columns]"
      ]
     },
     "execution_count": 27,
     "metadata": {},
     "output_type": "execute_result"
    }
   ],
   "source": [
    "# Invoice no\n",
    "df_letter_invoice = df1.loc[df1['invoice_no'].apply(lambda x: bool(re.search('[^0-9]+',x))),:]\n",
    "df_letter_invoice"
   ]
  },
  {
   "cell_type": "code",
   "execution_count": 28,
   "id": "2e8176f0",
   "metadata": {
    "ExecuteTime": {
     "end_time": "2022-12-29T13:35:03.743865Z",
     "start_time": "2022-12-29T13:35:03.718765Z"
    }
   },
   "outputs": [
    {
     "data": {
      "text/plain": [
       "9291"
      ]
     },
     "execution_count": 28,
     "metadata": {},
     "output_type": "execute_result"
    }
   ],
   "source": [
    "len(df_letter_invoice)"
   ]
  },
  {
   "cell_type": "markdown",
   "id": "c06dda0b",
   "metadata": {},
   "source": [
    "Todas os pedidos que possuem letra no 'invoice_no', também possuem valores positivos de quantidade"
   ]
  },
  {
   "cell_type": "code",
   "execution_count": 29,
   "id": "a5085d9d",
   "metadata": {
    "ExecuteTime": {
     "end_time": "2022-12-29T13:35:03.763457Z",
     "start_time": "2022-12-29T13:35:03.743865Z"
    }
   },
   "outputs": [
    {
     "data": {
      "text/plain": [
       "10624"
      ]
     },
     "execution_count": 29,
     "metadata": {},
     "output_type": "execute_result"
    }
   ],
   "source": [
    "len(df1[df1['quantity']<0])"
   ]
  },
  {
   "cell_type": "markdown",
   "id": "b4358f54",
   "metadata": {},
   "source": [
    "A quantidade de pedidos que tem 'quantity' menor ou igual a zero é igual a quantidade de pedidos que possuem letra no código 'invoice_no' "
   ]
  },
  {
   "cell_type": "markdown",
   "id": "d71c47fd",
   "metadata": {},
   "source": [
    "Logo se supõem que pedidos com letras no 'inovice_no' são devoluções"
   ]
  },
  {
   "cell_type": "code",
   "execution_count": 30,
   "id": "50b84492",
   "metadata": {
    "ExecuteTime": {
     "end_time": "2022-12-29T13:35:04.663620Z",
     "start_time": "2022-12-29T13:35:03.768468Z"
    }
   },
   "outputs": [
    {
     "data": {
      "text/plain": [
       "array(['POST', 'D', 'DOT', 'M', 'S', 'AMAZONFEE', 'm', 'DCGSSBOY',\n",
       "       'DCGSSGIRL', 'PADS', 'B', 'CRUK'], dtype=object)"
      ]
     },
     "execution_count": 30,
     "metadata": {},
     "output_type": "execute_result"
    }
   ],
   "source": [
    "# stock code\n",
    "cat_atributtes.loc[cat_atributtes['stock_code'].apply(lambda x: bool(re.search('^[a-zA-Z]+$',x))),'stock_code'].unique()"
   ]
  },
  {
   "cell_type": "code",
   "execution_count": 31,
   "id": "8be4c732",
   "metadata": {
    "ExecuteTime": {
     "end_time": "2022-12-29T13:35:04.683699Z",
     "start_time": "2022-12-29T13:35:04.668626Z"
    }
   },
   "outputs": [],
   "source": [
    "# description\n",
    "# remoção da descrição"
   ]
  },
  {
   "cell_type": "code",
   "execution_count": 32,
   "id": "338f2463",
   "metadata": {
    "ExecuteTime": {
     "end_time": "2022-12-29T13:35:04.813414Z",
     "start_time": "2022-12-29T13:35:04.683699Z"
    },
    "scrolled": true
   },
   "outputs": [
    {
     "data": {
      "text/plain": [
       "array(['United Kingdom', 'France', 'Australia', 'Netherlands', 'Germany',\n",
       "       'Norway', 'EIRE', 'Switzerland', 'Spain', 'Poland', 'Portugal',\n",
       "       'Italy', 'Belgium', 'Lithuania', 'Japan', 'Iceland',\n",
       "       'Channel Islands', 'Denmark', 'Cyprus', 'Sweden', 'Austria',\n",
       "       'Israel', 'Finland', 'Bahrain', 'Greece', 'Hong Kong', 'Singapore',\n",
       "       'Lebanon', 'United Arab Emirates', 'Saudi Arabia',\n",
       "       'Czech Republic', 'Canada', 'Unspecified', 'Brazil', 'USA',\n",
       "       'European Community', 'Malta', 'RSA'], dtype=object)"
      ]
     },
     "execution_count": 32,
     "metadata": {},
     "output_type": "execute_result"
    }
   ],
   "source": [
    "cat_atributtes['country'].unique()"
   ]
  },
  {
   "cell_type": "code",
   "execution_count": 33,
   "id": "346da12b",
   "metadata": {
    "ExecuteTime": {
     "end_time": "2022-12-29T13:35:04.913671Z",
     "start_time": "2022-12-29T13:35:04.818423Z"
    }
   },
   "outputs": [
    {
     "data": {
      "text/plain": [
       "United Kingdom          0.914320\n",
       "Germany                 0.017521\n",
       "France                  0.015790\n",
       "EIRE                    0.015124\n",
       "Spain                   0.004674\n",
       "Netherlands             0.004375\n",
       "Belgium                 0.003818\n",
       "Switzerland             0.003694\n",
       "Portugal                0.002803\n",
       "Australia               0.002323\n",
       "Norway                  0.002004\n",
       "Italy                   0.001482\n",
       "Channel Islands         0.001399\n",
       "Finland                 0.001283\n",
       "Cyprus                  0.001148\n",
       "Sweden                  0.000853\n",
       "Unspecified             0.000823\n",
       "Austria                 0.000740\n",
       "Denmark                 0.000718\n",
       "Japan                   0.000661\n",
       "Poland                  0.000629\n",
       "Israel                  0.000548\n",
       "USA                     0.000537\n",
       "Hong Kong               0.000531\n",
       "Singapore               0.000423\n",
       "Iceland                 0.000336\n",
       "Canada                  0.000279\n",
       "Greece                  0.000269\n",
       "Malta                   0.000234\n",
       "United Arab Emirates    0.000125\n",
       "European Community      0.000113\n",
       "RSA                     0.000107\n",
       "Lebanon                 0.000083\n",
       "Lithuania               0.000065\n",
       "Brazil                  0.000059\n",
       "Czech Republic          0.000055\n",
       "Bahrain                 0.000035\n",
       "Saudi Arabia            0.000018\n",
       "Name: country, dtype: float64"
      ]
     },
     "execution_count": 33,
     "metadata": {},
     "output_type": "execute_result"
    }
   ],
   "source": [
    "cat_atributtes['country'].value_counts(normalize=True)"
   ]
  },
  {
   "cell_type": "markdown",
   "id": "fe1c2e23",
   "metadata": {},
   "source": [
    "Remover 'European Community' e 'Unspecified'"
   ]
  },
  {
   "cell_type": "markdown",
   "id": "d2f6101a",
   "metadata": {},
   "source": [
    "# Filter"
   ]
  },
  {
   "cell_type": "code",
   "execution_count": 34,
   "id": "1d92031a",
   "metadata": {
    "ExecuteTime": {
     "end_time": "2022-12-29T13:35:04.993903Z",
     "start_time": "2022-12-29T13:35:04.933761Z"
    }
   },
   "outputs": [],
   "source": [
    "df2 = df1.copy()"
   ]
  },
  {
   "cell_type": "code",
   "execution_count": 35,
   "id": "be095a71",
   "metadata": {
    "ExecuteTime": {
     "end_time": "2022-12-29T13:35:05.433419Z",
     "start_time": "2022-12-29T13:35:04.997922Z"
    }
   },
   "outputs": [],
   "source": [
    "# unit price > 0.0\n",
    "df2 = df2.loc[df2['unit_price'] > 0.040,:]\n",
    "\n",
    "#stock code != ['POST','D','M','DOT','CRUK','C2']\n",
    "df2 = df2[~df2['stock_code'].isin(['POST', 'D', 'DOT', 'M', 'S', 'AMAZONFEE', 'm', 'DCGSSBOY','DCGSSGIRL', 'PADS', 'B', 'CRUK','C2'])]\n",
    "\n",
    "# description\n",
    "df2.drop(columns='description',inplace=True)\n",
    "\n",
    "# country\n",
    "df2 = df2[~df2['country'].isin(['European Community','Unspecified'])]\n",
    "\n",
    "\n",
    "df2 = df2[~df2['customer_id'].isin([16446])]\n",
    "\n",
    "\n",
    "# description\n",
    "## quantity - Negative numbers means product returns\n",
    "df_returns = df2.loc[df2['quantity']<0,:]\n",
    "df_purchase = df2.loc[df2['quantity']>0,:]"
   ]
  },
  {
   "cell_type": "markdown",
   "id": "97cf879e",
   "metadata": {},
   "source": [
    "# Features enginering"
   ]
  },
  {
   "cell_type": "code",
   "execution_count": 36,
   "id": "999bc141",
   "metadata": {
    "ExecuteTime": {
     "end_time": "2022-12-29T13:35:05.473671Z",
     "start_time": "2022-12-29T13:35:05.433419Z"
    }
   },
   "outputs": [],
   "source": [
    "df3 = df2.copy()"
   ]
  },
  {
   "cell_type": "code",
   "execution_count": 37,
   "id": "7f22b215",
   "metadata": {
    "ExecuteTime": {
     "end_time": "2022-12-29T13:35:05.513455Z",
     "start_time": "2022-12-29T13:35:05.478679Z"
    }
   },
   "outputs": [
    {
     "data": {
      "text/html": [
       "<div>\n",
       "<style scoped>\n",
       "    .dataframe tbody tr th:only-of-type {\n",
       "        vertical-align: middle;\n",
       "    }\n",
       "\n",
       "    .dataframe tbody tr th {\n",
       "        vertical-align: top;\n",
       "    }\n",
       "\n",
       "    .dataframe thead th {\n",
       "        text-align: right;\n",
       "    }\n",
       "</style>\n",
       "<table border=\"1\" class=\"dataframe\">\n",
       "  <thead>\n",
       "    <tr style=\"text-align: right;\">\n",
       "      <th></th>\n",
       "      <th>invoice_no</th>\n",
       "      <th>stock_code</th>\n",
       "      <th>quantity</th>\n",
       "      <th>invoice_date</th>\n",
       "      <th>unit_price</th>\n",
       "      <th>country</th>\n",
       "      <th>customer_id</th>\n",
       "    </tr>\n",
       "  </thead>\n",
       "  <tbody>\n",
       "    <tr>\n",
       "      <th>0</th>\n",
       "      <td>536365</td>\n",
       "      <td>85123A</td>\n",
       "      <td>6</td>\n",
       "      <td>2016-11-29</td>\n",
       "      <td>2.55</td>\n",
       "      <td>United Kingdom</td>\n",
       "      <td>17850.0</td>\n",
       "    </tr>\n",
       "    <tr>\n",
       "      <th>1</th>\n",
       "      <td>536365</td>\n",
       "      <td>71053</td>\n",
       "      <td>6</td>\n",
       "      <td>2016-11-29</td>\n",
       "      <td>3.39</td>\n",
       "      <td>United Kingdom</td>\n",
       "      <td>17850.0</td>\n",
       "    </tr>\n",
       "    <tr>\n",
       "      <th>2</th>\n",
       "      <td>536365</td>\n",
       "      <td>84406B</td>\n",
       "      <td>8</td>\n",
       "      <td>2016-11-29</td>\n",
       "      <td>2.75</td>\n",
       "      <td>United Kingdom</td>\n",
       "      <td>17850.0</td>\n",
       "    </tr>\n",
       "    <tr>\n",
       "      <th>3</th>\n",
       "      <td>536365</td>\n",
       "      <td>84029G</td>\n",
       "      <td>6</td>\n",
       "      <td>2016-11-29</td>\n",
       "      <td>3.39</td>\n",
       "      <td>United Kingdom</td>\n",
       "      <td>17850.0</td>\n",
       "    </tr>\n",
       "    <tr>\n",
       "      <th>4</th>\n",
       "      <td>536365</td>\n",
       "      <td>84029E</td>\n",
       "      <td>6</td>\n",
       "      <td>2016-11-29</td>\n",
       "      <td>3.39</td>\n",
       "      <td>United Kingdom</td>\n",
       "      <td>17850.0</td>\n",
       "    </tr>\n",
       "  </tbody>\n",
       "</table>\n",
       "</div>"
      ],
      "text/plain": [
       "  invoice_no stock_code  quantity invoice_date  unit_price         country  \\\n",
       "0     536365     85123A         6   2016-11-29        2.55  United Kingdom   \n",
       "1     536365      71053         6   2016-11-29        3.39  United Kingdom   \n",
       "2     536365     84406B         8   2016-11-29        2.75  United Kingdom   \n",
       "3     536365     84029G         6   2016-11-29        3.39  United Kingdom   \n",
       "4     536365     84029E         6   2016-11-29        3.39  United Kingdom   \n",
       "\n",
       "   customer_id  \n",
       "0      17850.0  \n",
       "1      17850.0  \n",
       "2      17850.0  \n",
       "3      17850.0  \n",
       "4      17850.0  "
      ]
     },
     "execution_count": 37,
     "metadata": {},
     "output_type": "execute_result"
    }
   ],
   "source": [
    "df3.head()"
   ]
  },
  {
   "cell_type": "markdown",
   "id": "b4fbc182",
   "metadata": {},
   "source": [
    "## Feature creation"
   ]
  },
  {
   "cell_type": "code",
   "execution_count": 38,
   "id": "23139921",
   "metadata": {
    "ExecuteTime": {
     "end_time": "2022-12-29T13:35:05.533524Z",
     "start_time": "2022-12-29T13:35:05.513455Z"
    }
   },
   "outputs": [],
   "source": [
    "df_ref = pd.DataFrame(df3['customer_id'])"
   ]
  },
  {
   "cell_type": "code",
   "execution_count": 39,
   "id": "3e236d94",
   "metadata": {
    "ExecuteTime": {
     "end_time": "2022-12-29T13:35:05.613405Z",
     "start_time": "2022-12-29T13:35:05.533524Z"
    }
   },
   "outputs": [],
   "source": [
    "df_ref =  df_ref.drop_duplicates(ignore_index=True)"
   ]
  },
  {
   "cell_type": "markdown",
   "id": "df272d12",
   "metadata": {},
   "source": [
    "### Receita bruta"
   ]
  },
  {
   "cell_type": "markdown",
   "id": "6405f5b5",
   "metadata": {},
   "source": [
    "**Gross Revenue**"
   ]
  },
  {
   "cell_type": "code",
   "execution_count": 40,
   "id": "9526b96d",
   "metadata": {
    "ExecuteTime": {
     "end_time": "2022-12-29T13:35:05.778470Z",
     "start_time": "2022-12-29T13:35:05.618412Z"
    }
   },
   "outputs": [
    {
     "name": "stderr",
     "output_type": "stream",
     "text": [
      "C:\\Users\\Lavin\\anaconda3\\envs\\insiders_clustering\\lib\\site-packages\\pandas\\core\\indexing.py:1667: SettingWithCopyWarning: \n",
      "A value is trying to be set on a copy of a slice from a DataFrame.\n",
      "Try using .loc[row_indexer,col_indexer] = value instead\n",
      "\n",
      "See the caveats in the documentation: https://pandas.pydata.org/pandas-docs/stable/user_guide/indexing.html#returning-a-view-versus-a-copy\n",
      "  self.obj[key] = value\n"
     ]
    }
   ],
   "source": [
    "df_purchase.loc[:,'gross_revenue'] = df_purchase.loc[:,'quantity'] * df_purchase.loc[:,'unit_price']\n",
    "df_monetary = df_purchase[['customer_id','gross_revenue']].groupby('customer_id').sum().reset_index()\n",
    "df_ref = pd.merge(df_ref,df_monetary,on='customer_id',how='left')"
   ]
  },
  {
   "cell_type": "markdown",
   "id": "8f6aaae5",
   "metadata": {},
   "source": [
    "### Rencencia - dias da ultima compra"
   ]
  },
  {
   "cell_type": "code",
   "execution_count": 41,
   "id": "33bc8d00",
   "metadata": {
    "ExecuteTime": {
     "end_time": "2022-12-29T13:35:05.930715Z",
     "start_time": "2022-12-29T13:35:05.813341Z"
    }
   },
   "outputs": [],
   "source": [
    "df_recency = df_purchase[['customer_id','invoice_date']].groupby('customer_id').max().reset_index()\n",
    "df_recency['recency_days'] = (df2['invoice_date'].max()- df_recency['invoice_date']).dt.days\n",
    "df_recency = df_recency.drop(columns = 'invoice_date')\n",
    "df_ref = pd.merge(df_ref,df_recency,on='customer_id',how='left')"
   ]
  },
  {
   "cell_type": "markdown",
   "id": "baf3c714",
   "metadata": {},
   "source": [
    "### Quantidade de compras"
   ]
  },
  {
   "cell_type": "code",
   "execution_count": 42,
   "id": "26431ebd",
   "metadata": {
    "ExecuteTime": {
     "end_time": "2022-12-29T13:35:06.143819Z",
     "start_time": "2022-12-29T13:35:05.933759Z"
    }
   },
   "outputs": [],
   "source": [
    "df_purc_quant = (df_purchase[['customer_id','invoice_no']].drop_duplicates()\n",
    "                                                         .groupby('customer_id')\n",
    "                                                         .count()\n",
    "                                                         .reset_index()\n",
    "                                                         .rename(columns = {'invoice_no':'qtde_invoice'}))\n",
    "df_ref = pd.merge(df_ref,df_purc_quant,on='customer_id',how='left')"
   ]
  },
  {
   "cell_type": "markdown",
   "id": "120bb411",
   "metadata": {},
   "source": [
    "### Quantidade de itens comprados"
   ]
  },
  {
   "cell_type": "code",
   "execution_count": 43,
   "id": "b35b9c88",
   "metadata": {
    "ExecuteTime": {
     "end_time": "2022-12-29T13:35:06.223807Z",
     "start_time": "2022-12-29T13:35:06.143819Z"
    }
   },
   "outputs": [],
   "source": [
    "df_item_quant = (df_purchase[['customer_id','quantity']].groupby('customer_id')\n",
    "                                                       .sum()\n",
    "                                                       .reset_index()\n",
    "                                                       .rename(columns = {'quantity':'qtde_items'}))\n",
    "df_ref = pd.merge(df_ref,df_item_quant,on='customer_id',how='left')"
   ]
  },
  {
   "cell_type": "markdown",
   "id": "415da035",
   "metadata": {},
   "source": [
    "### Quantidade de produtos comprados"
   ]
  },
  {
   "cell_type": "code",
   "execution_count": 44,
   "id": "91ec18e7",
   "metadata": {
    "ExecuteTime": {
     "end_time": "2022-12-29T13:35:06.614072Z",
     "start_time": "2022-12-29T13:35:06.228815Z"
    }
   },
   "outputs": [],
   "source": [
    "df_prod_quant = (df_purchase[['customer_id','stock_code']].groupby('customer_id')\n",
    "                                                       .count()\n",
    "                                                       .reset_index()\n",
    "                                                       .rename(columns = {'stock_code':'qtde_products'}))\n",
    "df_ref = pd.merge(df_ref,df_prod_quant,on='customer_id',how='left')"
   ]
  },
  {
   "cell_type": "markdown",
   "id": "b8b0456a",
   "metadata": {},
   "source": [
    "### Quantidade  de produtos comprados por cesta (basket size)"
   ]
  },
  {
   "cell_type": "code",
   "execution_count": 45,
   "id": "8c62df4a",
   "metadata": {
    "ExecuteTime": {
     "end_time": "2022-12-29T13:35:06.953896Z",
     "start_time": "2022-12-29T13:35:06.618176Z"
    }
   },
   "outputs": [],
   "source": [
    "df_aux = (df_purchase.loc[:,['customer_id','invoice_no','quantity']].groupby('customer_id')\n",
    "                                                          .agg(n_purchase = ('invoice_no','nunique'),\n",
    "                                                               n_products = ('quantity','sum'))\n",
    "                                                          .reset_index())\n",
    "\n",
    "df_aux['avg_basket_size'] = df_aux['n_products']/df_aux['n_purchase']\n",
    "\n",
    "#merge\n",
    "df_ref = pd.merge(df_ref,df_aux[['avg_basket_size','customer_id']],on='customer_id',how='left')"
   ]
  },
  {
   "cell_type": "markdown",
   "id": "f37c514d",
   "metadata": {},
   "source": [
    "### Quantidade  de produtos unicos comprados por compra (basket size)"
   ]
  },
  {
   "cell_type": "code",
   "execution_count": 46,
   "id": "a43def73",
   "metadata": {
    "ExecuteTime": {
     "end_time": "2022-12-29T13:35:07.214144Z",
     "start_time": "2022-12-29T13:35:06.953896Z"
    }
   },
   "outputs": [],
   "source": [
    "df_aux = (df_purchase.loc[:,['customer_id','invoice_no','stock_code']].groupby('customer_id')\n",
    "                                                          .agg(n_purchase = ('invoice_no','nunique'),\n",
    "                                                               n_products = ('stock_code','count'))\n",
    "                                                          .reset_index())\n",
    "\n",
    "df_aux['avg_unique_basket_size'] = df_aux['n_products']/df_aux['n_purchase']\n",
    "\n",
    "#merge\n",
    "df_ref = pd.merge(df_ref,df_aux[['avg_unique_basket_size','customer_id']],on='customer_id',how='left')"
   ]
  },
  {
   "cell_type": "markdown",
   "id": "010223e7",
   "metadata": {},
   "source": [
    "### Frequência"
   ]
  },
  {
   "cell_type": "markdown",
   "id": "570a6772",
   "metadata": {},
   "source": [
    "**Frequência**"
   ]
  },
  {
   "cell_type": "code",
   "execution_count": 47,
   "id": "d08b1850",
   "metadata": {
    "ExecuteTime": {
     "end_time": "2022-12-29T13:35:08.953227Z",
     "start_time": "2022-12-29T13:35:07.214144Z"
    }
   },
   "outputs": [],
   "source": [
    "df_aux = (df3[['customer_id','invoice_no','invoice_date']].drop_duplicates()\n",
    "                                                          .groupby('customer_id')\n",
    "                                                          .agg(max_ = ('invoice_date','max'),\n",
    "                                                               min_ = ('invoice_date','min'),\n",
    "                                                               days_ = ('invoice_date',lambda x:(x.max()-x.min()).days+1),\n",
    "                                                               buy_  = ('invoice_date','count'))\n",
    "                                                          .reset_index())\n",
    "                                                          \n",
    "\n",
    "df_aux['freq'] = df_aux.apply(lambda x: x['buy_']/x['days_'] if x['days_'] !=0 else 0,axis=1)\n",
    "df_ref = pd.merge(df_ref,df_aux[['customer_id','freq']],on='customer_id',how='left')"
   ]
  },
  {
   "cell_type": "code",
   "execution_count": 48,
   "id": "0e15f8be",
   "metadata": {
    "ExecuteTime": {
     "end_time": "2022-12-29T13:35:08.988638Z",
     "start_time": "2022-12-29T13:35:08.953227Z"
    }
   },
   "outputs": [
    {
     "data": {
      "text/plain": [
       "customer_id                0\n",
       "gross_revenue             91\n",
       "recency_days              91\n",
       "qtde_invoice              91\n",
       "qtde_items                91\n",
       "qtde_products             91\n",
       "avg_basket_size           91\n",
       "avg_unique_basket_size    91\n",
       "freq                       0\n",
       "dtype: int64"
      ]
     },
     "execution_count": 48,
     "metadata": {},
     "output_type": "execute_result"
    }
   ],
   "source": [
    "df_ref.isnull().sum()"
   ]
  },
  {
   "cell_type": "markdown",
   "id": "99e75246",
   "metadata": {},
   "source": [
    "### Valor médio do ticket"
   ]
  },
  {
   "cell_type": "markdown",
   "id": "678e2e09",
   "metadata": {},
   "source": [
    "**Average ticket**"
   ]
  },
  {
   "cell_type": "code",
   "execution_count": 49,
   "id": "9a4ab2bc",
   "metadata": {
    "ExecuteTime": {
     "end_time": "2022-12-29T13:35:09.083677Z",
     "start_time": "2022-12-29T13:35:08.993664Z"
    }
   },
   "outputs": [],
   "source": [
    "df_avg_ticket = df_purchase[['customer_id','gross_revenue']].groupby('customer_id').mean().reset_index().rename(columns={'gross_revenue':'avg_ticket'})\n",
    "df_ref = pd.merge(df_ref,df_avg_ticket,on='customer_id',how='left')"
   ]
  },
  {
   "cell_type": "markdown",
   "id": "73ade562",
   "metadata": {},
   "source": [
    "### Média de recência em dias"
   ]
  },
  {
   "cell_type": "code",
   "execution_count": 50,
   "id": "3dc3edf2",
   "metadata": {
    "ExecuteTime": {
     "end_time": "2022-12-29T13:35:10.333816Z",
     "start_time": "2022-12-29T13:35:09.083677Z"
    }
   },
   "outputs": [
    {
     "data": {
      "text/html": [
       "<div>\n",
       "<style scoped>\n",
       "    .dataframe tbody tr th:only-of-type {\n",
       "        vertical-align: middle;\n",
       "    }\n",
       "\n",
       "    .dataframe tbody tr th {\n",
       "        vertical-align: top;\n",
       "    }\n",
       "\n",
       "    .dataframe thead th {\n",
       "        text-align: right;\n",
       "    }\n",
       "</style>\n",
       "<table border=\"1\" class=\"dataframe\">\n",
       "  <thead>\n",
       "    <tr style=\"text-align: right;\">\n",
       "      <th></th>\n",
       "      <th>customer_id</th>\n",
       "      <th>gross_revenue</th>\n",
       "      <th>recency_days</th>\n",
       "      <th>qtde_invoice</th>\n",
       "      <th>qtde_items</th>\n",
       "      <th>qtde_products</th>\n",
       "      <th>avg_basket_size</th>\n",
       "      <th>avg_unique_basket_size</th>\n",
       "      <th>freq</th>\n",
       "      <th>avg_ticket</th>\n",
       "      <th>avg_rec_days</th>\n",
       "    </tr>\n",
       "  </thead>\n",
       "  <tbody>\n",
       "    <tr>\n",
       "      <th>0</th>\n",
       "      <td>17850.0</td>\n",
       "      <td>5391.21</td>\n",
       "      <td>372.0</td>\n",
       "      <td>34.0</td>\n",
       "      <td>1733.0</td>\n",
       "      <td>297.0</td>\n",
       "      <td>50.970588</td>\n",
       "      <td>8.735294</td>\n",
       "      <td>0.486111</td>\n",
       "      <td>18.152222</td>\n",
       "      <td>35.500000</td>\n",
       "    </tr>\n",
       "    <tr>\n",
       "      <th>1</th>\n",
       "      <td>13047.0</td>\n",
       "      <td>3232.59</td>\n",
       "      <td>56.0</td>\n",
       "      <td>9.0</td>\n",
       "      <td>1390.0</td>\n",
       "      <td>171.0</td>\n",
       "      <td>154.444444</td>\n",
       "      <td>19.000000</td>\n",
       "      <td>0.048780</td>\n",
       "      <td>18.904035</td>\n",
       "      <td>27.250000</td>\n",
       "    </tr>\n",
       "    <tr>\n",
       "      <th>2</th>\n",
       "      <td>12583.0</td>\n",
       "      <td>6705.38</td>\n",
       "      <td>2.0</td>\n",
       "      <td>15.0</td>\n",
       "      <td>5028.0</td>\n",
       "      <td>232.0</td>\n",
       "      <td>335.200000</td>\n",
       "      <td>15.466667</td>\n",
       "      <td>0.045699</td>\n",
       "      <td>28.902500</td>\n",
       "      <td>23.187500</td>\n",
       "    </tr>\n",
       "    <tr>\n",
       "      <th>3</th>\n",
       "      <td>13748.0</td>\n",
       "      <td>948.25</td>\n",
       "      <td>95.0</td>\n",
       "      <td>5.0</td>\n",
       "      <td>439.0</td>\n",
       "      <td>28.0</td>\n",
       "      <td>87.800000</td>\n",
       "      <td>5.600000</td>\n",
       "      <td>0.017921</td>\n",
       "      <td>33.866071</td>\n",
       "      <td>92.666667</td>\n",
       "    </tr>\n",
       "    <tr>\n",
       "      <th>4</th>\n",
       "      <td>15100.0</td>\n",
       "      <td>876.00</td>\n",
       "      <td>333.0</td>\n",
       "      <td>3.0</td>\n",
       "      <td>80.0</td>\n",
       "      <td>3.0</td>\n",
       "      <td>26.666667</td>\n",
       "      <td>1.000000</td>\n",
       "      <td>0.136364</td>\n",
       "      <td>292.000000</td>\n",
       "      <td>8.600000</td>\n",
       "    </tr>\n",
       "  </tbody>\n",
       "</table>\n",
       "</div>"
      ],
      "text/plain": [
       "   customer_id  gross_revenue  recency_days  qtde_invoice  qtde_items  \\\n",
       "0      17850.0        5391.21         372.0          34.0      1733.0   \n",
       "1      13047.0        3232.59          56.0           9.0      1390.0   \n",
       "2      12583.0        6705.38           2.0          15.0      5028.0   \n",
       "3      13748.0         948.25          95.0           5.0       439.0   \n",
       "4      15100.0         876.00         333.0           3.0        80.0   \n",
       "\n",
       "   qtde_products  avg_basket_size  avg_unique_basket_size      freq  \\\n",
       "0          297.0        50.970588                8.735294  0.486111   \n",
       "1          171.0       154.444444               19.000000  0.048780   \n",
       "2          232.0       335.200000               15.466667  0.045699   \n",
       "3           28.0        87.800000                5.600000  0.017921   \n",
       "4            3.0        26.666667                1.000000  0.136364   \n",
       "\n",
       "   avg_ticket  avg_rec_days  \n",
       "0   18.152222     35.500000  \n",
       "1   18.904035     27.250000  \n",
       "2   28.902500     23.187500  \n",
       "3   33.866071     92.666667  \n",
       "4  292.000000      8.600000  "
      ]
     },
     "execution_count": 50,
     "metadata": {},
     "output_type": "execute_result"
    }
   ],
   "source": [
    "df_aux = df3.loc[:,['customer_id','invoice_date']].drop_duplicates().sort_values(['customer_id','invoice_date'],ascending=['False','False'])\n",
    "df_aux['next_customer_id'] = df_aux['customer_id'].shift()\n",
    "df_aux['prev_invoice_date'] = df_aux['invoice_date'].shift()\n",
    "df_aux['avg_rec_days'] = df_aux.apply(lambda x: (x['invoice_date'] - x['prev_invoice_date']).days if (x['next_customer_id'] == x['customer_id']) else np.nan, axis=1)\n",
    "df_aux = df_aux.drop(columns=['invoice_date','next_customer_id','prev_invoice_date']).dropna()\n",
    "df_avf_rec = df_aux.groupby('customer_id').mean().reset_index()\n",
    "df_avf_rec.head()\n",
    "\n",
    "# merge\n",
    "df_ref = pd.merge(df_ref,df_avf_rec, on = 'customer_id',how='left')\n",
    "df_ref.head()"
   ]
  },
  {
   "cell_type": "markdown",
   "id": "f4f18cf9",
   "metadata": {},
   "source": [
    "### Devoluções"
   ]
  },
  {
   "cell_type": "markdown",
   "id": "489c30be",
   "metadata": {},
   "source": [
    "**Returns**"
   ]
  },
  {
   "cell_type": "code",
   "execution_count": 51,
   "id": "d8ef1863",
   "metadata": {
    "ExecuteTime": {
     "end_time": "2022-12-29T13:35:10.373542Z",
     "start_time": "2022-12-29T13:35:10.333816Z"
    }
   },
   "outputs": [],
   "source": [
    "df_avg_returns = df_returns[['customer_id','quantity']].drop_duplicates().groupby('customer_id').sum().abs().reset_index().rename(columns={'quantity':'qtde_returns'})\n",
    "df_ref = pd.merge(df_ref,df_avg_returns,on='customer_id',how='left')\n",
    "df_ref.loc[df_ref['qtde_returns'].isna(),'qtde_returns'] = 0"
   ]
  },
  {
   "cell_type": "code",
   "execution_count": 52,
   "id": "a6291471",
   "metadata": {
    "ExecuteTime": {
     "end_time": "2022-12-29T13:35:10.393551Z",
     "start_time": "2022-12-29T13:35:10.373542Z"
    }
   },
   "outputs": [
    {
     "data": {
      "text/plain": [
       "customer_id                  0\n",
       "gross_revenue               91\n",
       "recency_days                91\n",
       "qtde_invoice                91\n",
       "qtde_items                  91\n",
       "qtde_products               91\n",
       "avg_basket_size             91\n",
       "avg_unique_basket_size      91\n",
       "freq                         0\n",
       "avg_ticket                  91\n",
       "avg_rec_days              2816\n",
       "qtde_returns                 0\n",
       "dtype: int64"
      ]
     },
     "execution_count": 52,
     "metadata": {},
     "output_type": "execute_result"
    }
   ],
   "source": [
    "df_ref.isnull().sum()"
   ]
  },
  {
   "cell_type": "code",
   "execution_count": 53,
   "id": "5841fa15",
   "metadata": {
    "ExecuteTime": {
     "end_time": "2022-12-29T13:35:10.433742Z",
     "start_time": "2022-12-29T13:35:10.393551Z"
    }
   },
   "outputs": [],
   "source": [
    "df_ref = df_ref.dropna()"
   ]
  },
  {
   "cell_type": "code",
   "execution_count": 54,
   "id": "fb65b5ae",
   "metadata": {
    "ExecuteTime": {
     "end_time": "2022-12-29T13:35:10.473784Z",
     "start_time": "2022-12-29T13:35:10.433742Z"
    },
    "scrolled": false
   },
   "outputs": [
    {
     "data": {
      "text/html": [
       "<div>\n",
       "<style scoped>\n",
       "    .dataframe tbody tr th:only-of-type {\n",
       "        vertical-align: middle;\n",
       "    }\n",
       "\n",
       "    .dataframe tbody tr th {\n",
       "        vertical-align: top;\n",
       "    }\n",
       "\n",
       "    .dataframe thead th {\n",
       "        text-align: right;\n",
       "    }\n",
       "</style>\n",
       "<table border=\"1\" class=\"dataframe\">\n",
       "  <thead>\n",
       "    <tr style=\"text-align: right;\">\n",
       "      <th></th>\n",
       "      <th>customer_id</th>\n",
       "      <th>gross_revenue</th>\n",
       "      <th>recency_days</th>\n",
       "      <th>qtde_invoice</th>\n",
       "      <th>qtde_items</th>\n",
       "      <th>qtde_products</th>\n",
       "      <th>avg_basket_size</th>\n",
       "      <th>avg_unique_basket_size</th>\n",
       "      <th>freq</th>\n",
       "      <th>avg_ticket</th>\n",
       "      <th>avg_rec_days</th>\n",
       "      <th>qtde_returns</th>\n",
       "    </tr>\n",
       "  </thead>\n",
       "  <tbody>\n",
       "    <tr>\n",
       "      <th>0</th>\n",
       "      <td>17850.0</td>\n",
       "      <td>5391.21</td>\n",
       "      <td>372.0</td>\n",
       "      <td>34.0</td>\n",
       "      <td>1733.0</td>\n",
       "      <td>297.0</td>\n",
       "      <td>50.970588</td>\n",
       "      <td>8.735294</td>\n",
       "      <td>0.486111</td>\n",
       "      <td>18.152222</td>\n",
       "      <td>35.500000</td>\n",
       "      <td>21.0</td>\n",
       "    </tr>\n",
       "    <tr>\n",
       "      <th>1</th>\n",
       "      <td>13047.0</td>\n",
       "      <td>3232.59</td>\n",
       "      <td>56.0</td>\n",
       "      <td>9.0</td>\n",
       "      <td>1390.0</td>\n",
       "      <td>171.0</td>\n",
       "      <td>154.444444</td>\n",
       "      <td>19.000000</td>\n",
       "      <td>0.048780</td>\n",
       "      <td>18.904035</td>\n",
       "      <td>27.250000</td>\n",
       "      <td>6.0</td>\n",
       "    </tr>\n",
       "    <tr>\n",
       "      <th>2</th>\n",
       "      <td>12583.0</td>\n",
       "      <td>6705.38</td>\n",
       "      <td>2.0</td>\n",
       "      <td>15.0</td>\n",
       "      <td>5028.0</td>\n",
       "      <td>232.0</td>\n",
       "      <td>335.200000</td>\n",
       "      <td>15.466667</td>\n",
       "      <td>0.045699</td>\n",
       "      <td>28.902500</td>\n",
       "      <td>23.187500</td>\n",
       "      <td>50.0</td>\n",
       "    </tr>\n",
       "    <tr>\n",
       "      <th>3</th>\n",
       "      <td>13748.0</td>\n",
       "      <td>948.25</td>\n",
       "      <td>95.0</td>\n",
       "      <td>5.0</td>\n",
       "      <td>439.0</td>\n",
       "      <td>28.0</td>\n",
       "      <td>87.800000</td>\n",
       "      <td>5.600000</td>\n",
       "      <td>0.017921</td>\n",
       "      <td>33.866071</td>\n",
       "      <td>92.666667</td>\n",
       "      <td>0.0</td>\n",
       "    </tr>\n",
       "    <tr>\n",
       "      <th>4</th>\n",
       "      <td>15100.0</td>\n",
       "      <td>876.00</td>\n",
       "      <td>333.0</td>\n",
       "      <td>3.0</td>\n",
       "      <td>80.0</td>\n",
       "      <td>3.0</td>\n",
       "      <td>26.666667</td>\n",
       "      <td>1.000000</td>\n",
       "      <td>0.136364</td>\n",
       "      <td>292.000000</td>\n",
       "      <td>8.600000</td>\n",
       "      <td>22.0</td>\n",
       "    </tr>\n",
       "  </tbody>\n",
       "</table>\n",
       "</div>"
      ],
      "text/plain": [
       "   customer_id  gross_revenue  recency_days  qtde_invoice  qtde_items  \\\n",
       "0      17850.0        5391.21         372.0          34.0      1733.0   \n",
       "1      13047.0        3232.59          56.0           9.0      1390.0   \n",
       "2      12583.0        6705.38           2.0          15.0      5028.0   \n",
       "3      13748.0         948.25          95.0           5.0       439.0   \n",
       "4      15100.0         876.00         333.0           3.0        80.0   \n",
       "\n",
       "   qtde_products  avg_basket_size  avg_unique_basket_size      freq  \\\n",
       "0          297.0        50.970588                8.735294  0.486111   \n",
       "1          171.0       154.444444               19.000000  0.048780   \n",
       "2          232.0       335.200000               15.466667  0.045699   \n",
       "3           28.0        87.800000                5.600000  0.017921   \n",
       "4            3.0        26.666667                1.000000  0.136364   \n",
       "\n",
       "   avg_ticket  avg_rec_days  qtde_returns  \n",
       "0   18.152222     35.500000          21.0  \n",
       "1   18.904035     27.250000           6.0  \n",
       "2   28.902500     23.187500          50.0  \n",
       "3   33.866071     92.666667           0.0  \n",
       "4  292.000000      8.600000          22.0  "
      ]
     },
     "execution_count": 54,
     "metadata": {},
     "output_type": "execute_result"
    }
   ],
   "source": [
    "df_ref.head()"
   ]
  },
  {
   "cell_type": "code",
   "execution_count": 55,
   "id": "c09e48bb",
   "metadata": {
    "ExecuteTime": {
     "end_time": "2022-12-29T13:35:10.493688Z",
     "start_time": "2022-12-29T13:35:10.473784Z"
    }
   },
   "outputs": [],
   "source": [
    "df4 = df_ref.copy()"
   ]
  },
  {
   "cell_type": "markdown",
   "id": "399b9466",
   "metadata": {},
   "source": [
    "# EDA"
   ]
  },
  {
   "cell_type": "code",
   "execution_count": 56,
   "id": "6fa2d6c4",
   "metadata": {
    "ExecuteTime": {
     "end_time": "2022-12-29T13:35:10.513486Z",
     "start_time": "2022-12-29T13:35:10.498697Z"
    }
   },
   "outputs": [],
   "source": [
    "df5 = df4.copy()"
   ]
  },
  {
   "cell_type": "code",
   "execution_count": 57,
   "id": "643d69d5",
   "metadata": {
    "ExecuteTime": {
     "end_time": "2022-12-29T13:35:10.573679Z",
     "start_time": "2022-12-29T13:35:10.518492Z"
    }
   },
   "outputs": [
    {
     "data": {
      "text/html": [
       "<div>\n",
       "<style scoped>\n",
       "    .dataframe tbody tr th:only-of-type {\n",
       "        vertical-align: middle;\n",
       "    }\n",
       "\n",
       "    .dataframe tbody tr th {\n",
       "        vertical-align: top;\n",
       "    }\n",
       "\n",
       "    .dataframe thead th {\n",
       "        text-align: right;\n",
       "    }\n",
       "</style>\n",
       "<table border=\"1\" class=\"dataframe\">\n",
       "  <thead>\n",
       "    <tr style=\"text-align: right;\">\n",
       "      <th></th>\n",
       "      <th>customer_id</th>\n",
       "      <th>gross_revenue</th>\n",
       "      <th>recency_days</th>\n",
       "      <th>qtde_invoice</th>\n",
       "      <th>qtde_items</th>\n",
       "      <th>qtde_products</th>\n",
       "      <th>avg_basket_size</th>\n",
       "      <th>avg_unique_basket_size</th>\n",
       "      <th>freq</th>\n",
       "      <th>avg_ticket</th>\n",
       "      <th>avg_rec_days</th>\n",
       "      <th>qtde_returns</th>\n",
       "    </tr>\n",
       "  </thead>\n",
       "  <tbody>\n",
       "    <tr>\n",
       "      <th>0</th>\n",
       "      <td>17850.0</td>\n",
       "      <td>5391.21</td>\n",
       "      <td>372.0</td>\n",
       "      <td>34.0</td>\n",
       "      <td>1733.0</td>\n",
       "      <td>297.0</td>\n",
       "      <td>50.970588</td>\n",
       "      <td>8.735294</td>\n",
       "      <td>0.486111</td>\n",
       "      <td>18.152222</td>\n",
       "      <td>35.500000</td>\n",
       "      <td>21.0</td>\n",
       "    </tr>\n",
       "    <tr>\n",
       "      <th>1</th>\n",
       "      <td>13047.0</td>\n",
       "      <td>3232.59</td>\n",
       "      <td>56.0</td>\n",
       "      <td>9.0</td>\n",
       "      <td>1390.0</td>\n",
       "      <td>171.0</td>\n",
       "      <td>154.444444</td>\n",
       "      <td>19.000000</td>\n",
       "      <td>0.048780</td>\n",
       "      <td>18.904035</td>\n",
       "      <td>27.250000</td>\n",
       "      <td>6.0</td>\n",
       "    </tr>\n",
       "    <tr>\n",
       "      <th>2</th>\n",
       "      <td>12583.0</td>\n",
       "      <td>6705.38</td>\n",
       "      <td>2.0</td>\n",
       "      <td>15.0</td>\n",
       "      <td>5028.0</td>\n",
       "      <td>232.0</td>\n",
       "      <td>335.200000</td>\n",
       "      <td>15.466667</td>\n",
       "      <td>0.045699</td>\n",
       "      <td>28.902500</td>\n",
       "      <td>23.187500</td>\n",
       "      <td>50.0</td>\n",
       "    </tr>\n",
       "    <tr>\n",
       "      <th>3</th>\n",
       "      <td>13748.0</td>\n",
       "      <td>948.25</td>\n",
       "      <td>95.0</td>\n",
       "      <td>5.0</td>\n",
       "      <td>439.0</td>\n",
       "      <td>28.0</td>\n",
       "      <td>87.800000</td>\n",
       "      <td>5.600000</td>\n",
       "      <td>0.017921</td>\n",
       "      <td>33.866071</td>\n",
       "      <td>92.666667</td>\n",
       "      <td>0.0</td>\n",
       "    </tr>\n",
       "    <tr>\n",
       "      <th>4</th>\n",
       "      <td>15100.0</td>\n",
       "      <td>876.00</td>\n",
       "      <td>333.0</td>\n",
       "      <td>3.0</td>\n",
       "      <td>80.0</td>\n",
       "      <td>3.0</td>\n",
       "      <td>26.666667</td>\n",
       "      <td>1.000000</td>\n",
       "      <td>0.136364</td>\n",
       "      <td>292.000000</td>\n",
       "      <td>8.600000</td>\n",
       "      <td>22.0</td>\n",
       "    </tr>\n",
       "  </tbody>\n",
       "</table>\n",
       "</div>"
      ],
      "text/plain": [
       "   customer_id  gross_revenue  recency_days  qtde_invoice  qtde_items  \\\n",
       "0      17850.0        5391.21         372.0          34.0      1733.0   \n",
       "1      13047.0        3232.59          56.0           9.0      1390.0   \n",
       "2      12583.0        6705.38           2.0          15.0      5028.0   \n",
       "3      13748.0         948.25          95.0           5.0       439.0   \n",
       "4      15100.0         876.00         333.0           3.0        80.0   \n",
       "\n",
       "   qtde_products  avg_basket_size  avg_unique_basket_size      freq  \\\n",
       "0          297.0        50.970588                8.735294  0.486111   \n",
       "1          171.0       154.444444               19.000000  0.048780   \n",
       "2          232.0       335.200000               15.466667  0.045699   \n",
       "3           28.0        87.800000                5.600000  0.017921   \n",
       "4            3.0        26.666667                1.000000  0.136364   \n",
       "\n",
       "   avg_ticket  avg_rec_days  qtde_returns  \n",
       "0   18.152222     35.500000          21.0  \n",
       "1   18.904035     27.250000           6.0  \n",
       "2   28.902500     23.187500          50.0  \n",
       "3   33.866071     92.666667           0.0  \n",
       "4  292.000000      8.600000          22.0  "
      ]
     },
     "execution_count": 57,
     "metadata": {},
     "output_type": "execute_result"
    }
   ],
   "source": [
    "df5.head()"
   ]
  },
  {
   "cell_type": "markdown",
   "id": "aa25cdd2",
   "metadata": {},
   "source": [
    "## Univariate analysis"
   ]
  },
  {
   "cell_type": "markdown",
   "id": "b126520f",
   "metadata": {},
   "source": [
    "Clusters coeses - separados\n",
    "métricas de variabilidade - min,max,range (dispersão)\n",
    "                          - média e mediana\n",
    "                          - desvio padrão e variância\n",
    "                          - coeficiente de variação (desvio padrão / média)"
   ]
  },
  {
   "cell_type": "code",
   "execution_count": 58,
   "id": "c46697a0",
   "metadata": {
    "ExecuteTime": {
     "end_time": "2022-12-29T13:35:10.588801Z",
     "start_time": "2022-12-29T13:35:10.573679Z"
    },
    "scrolled": true
   },
   "outputs": [],
   "source": [
    "# profile = ProfileReport(df5)\n",
    "# profile.to_file('output_v2.html')"
   ]
  },
  {
   "cell_type": "markdown",
   "id": "9abd25a2",
   "metadata": {},
   "source": [
    "**gross_revenue**\n",
    "    \n",
    "    - Possivel outiler no valor: 279138.02 \n",
    "    - variabilidade\n",
    "\n",
    "**recency_days**\n",
    "\n",
    "    - variabilidade\n",
    "\n",
    "**qtde_invoice:**\n",
    "\n",
    "    - variabilidade\n",
    "\n",
    "**qtde_items**\n",
    "\n",
    "    - possivel outlier no valor: 196844\n",
    "    - variabilidade\n",
    "\n",
    "**qtde_products:**\n",
    "\n",
    "    - Possivel outlier no valor: 7837 \n",
    "    - variablidade\n",
    "\n",
    "**avg_basket_size:**\n",
    "\n",
    "    - Possivel outlier no valor: 40498.5  \n",
    "    - variablidade\n",
    "\n",
    "**avg_unique_basket_size:**\n",
    "\n",
    "    - baixa variabilidade\n",
    "\n",
    "**freq:**\n",
    "\n",
    "    - variablidade\n",
    "\n",
    "**avg_ticket:**\n",
    "\n",
    "    - Possivel outiler no valor: 56157.5 \n",
    "    - alta variabilidade\n",
    "\n",
    "**avg_rec_days:**\n",
    "\n",
    "    - baixa variabilidade\n",
    "\n",
    "**qtde_returns:**\n",
    "\n",
    "    - Possivel outlier nos valores: 80995,9014 \n",
    "    - Alta variabilidade\n"
   ]
  },
  {
   "cell_type": "code",
   "execution_count": 59,
   "id": "bd3497dd",
   "metadata": {
    "ExecuteTime": {
     "end_time": "2022-12-29T13:35:10.648415Z",
     "start_time": "2022-12-29T13:35:10.593832Z"
    },
    "scrolled": true
   },
   "outputs": [
    {
     "data": {
      "text/html": [
       "<div>\n",
       "<style scoped>\n",
       "    .dataframe tbody tr th:only-of-type {\n",
       "        vertical-align: middle;\n",
       "    }\n",
       "\n",
       "    .dataframe tbody tr th {\n",
       "        vertical-align: top;\n",
       "    }\n",
       "\n",
       "    .dataframe thead th {\n",
       "        text-align: right;\n",
       "    }\n",
       "</style>\n",
       "<table border=\"1\" class=\"dataframe\">\n",
       "  <thead>\n",
       "    <tr style=\"text-align: right;\">\n",
       "      <th></th>\n",
       "      <th>customer_id</th>\n",
       "      <th>gross_revenue</th>\n",
       "      <th>recency_days</th>\n",
       "      <th>qtde_invoice</th>\n",
       "      <th>qtde_items</th>\n",
       "      <th>qtde_products</th>\n",
       "      <th>avg_basket_size</th>\n",
       "      <th>avg_unique_basket_size</th>\n",
       "      <th>freq</th>\n",
       "      <th>avg_ticket</th>\n",
       "      <th>avg_rec_days</th>\n",
       "      <th>qtde_returns</th>\n",
       "    </tr>\n",
       "  </thead>\n",
       "  <tbody>\n",
       "    <tr>\n",
       "      <th>1017</th>\n",
       "      <td>14646.0</td>\n",
       "      <td>279138.02</td>\n",
       "      <td>1.0</td>\n",
       "      <td>72.0</td>\n",
       "      <td>196844.0</td>\n",
       "      <td>2060.0</td>\n",
       "      <td>2733.944444</td>\n",
       "      <td>28.611111</td>\n",
       "      <td>0.206215</td>\n",
       "      <td>135.503893</td>\n",
       "      <td>7.844444</td>\n",
       "      <td>144.0</td>\n",
       "    </tr>\n",
       "  </tbody>\n",
       "</table>\n",
       "</div>"
      ],
      "text/plain": [
       "      customer_id  gross_revenue  recency_days  qtde_invoice  qtde_items  \\\n",
       "1017      14646.0      279138.02           1.0          72.0    196844.0   \n",
       "\n",
       "      qtde_products  avg_basket_size  avg_unique_basket_size      freq  \\\n",
       "1017         2060.0      2733.944444               28.611111  0.206215   \n",
       "\n",
       "      avg_ticket  avg_rec_days  qtde_returns  \n",
       "1017  135.503893      7.844444         144.0  "
      ]
     },
     "execution_count": 59,
     "metadata": {},
     "output_type": "execute_result"
    }
   ],
   "source": [
    "df5[df5['gross_revenue']==279138.02 ]"
   ]
  },
  {
   "cell_type": "code",
   "execution_count": 60,
   "id": "ce882469",
   "metadata": {
    "ExecuteTime": {
     "end_time": "2022-12-29T13:35:10.693822Z",
     "start_time": "2022-12-29T13:35:10.648415Z"
    },
    "scrolled": true
   },
   "outputs": [
    {
     "data": {
      "text/html": [
       "<div>\n",
       "<style scoped>\n",
       "    .dataframe tbody tr th:only-of-type {\n",
       "        vertical-align: middle;\n",
       "    }\n",
       "\n",
       "    .dataframe tbody tr th {\n",
       "        vertical-align: top;\n",
       "    }\n",
       "\n",
       "    .dataframe thead th {\n",
       "        text-align: right;\n",
       "    }\n",
       "</style>\n",
       "<table border=\"1\" class=\"dataframe\">\n",
       "  <thead>\n",
       "    <tr style=\"text-align: right;\">\n",
       "      <th></th>\n",
       "      <th>customer_id</th>\n",
       "      <th>gross_revenue</th>\n",
       "      <th>recency_days</th>\n",
       "      <th>qtde_invoice</th>\n",
       "      <th>qtde_items</th>\n",
       "      <th>qtde_products</th>\n",
       "      <th>avg_basket_size</th>\n",
       "      <th>avg_unique_basket_size</th>\n",
       "      <th>freq</th>\n",
       "      <th>avg_ticket</th>\n",
       "      <th>avg_rec_days</th>\n",
       "      <th>qtde_returns</th>\n",
       "    </tr>\n",
       "  </thead>\n",
       "  <tbody>\n",
       "    <tr>\n",
       "      <th>1017</th>\n",
       "      <td>14646.0</td>\n",
       "      <td>279138.02</td>\n",
       "      <td>1.0</td>\n",
       "      <td>72.0</td>\n",
       "      <td>196844.0</td>\n",
       "      <td>2060.0</td>\n",
       "      <td>2733.944444</td>\n",
       "      <td>28.611111</td>\n",
       "      <td>0.206215</td>\n",
       "      <td>135.503893</td>\n",
       "      <td>7.844444</td>\n",
       "      <td>144.0</td>\n",
       "    </tr>\n",
       "  </tbody>\n",
       "</table>\n",
       "</div>"
      ],
      "text/plain": [
       "      customer_id  gross_revenue  recency_days  qtde_invoice  qtde_items  \\\n",
       "1017      14646.0      279138.02           1.0          72.0    196844.0   \n",
       "\n",
       "      qtde_products  avg_basket_size  avg_unique_basket_size      freq  \\\n",
       "1017         2060.0      2733.944444               28.611111  0.206215   \n",
       "\n",
       "      avg_ticket  avg_rec_days  qtde_returns  \n",
       "1017  135.503893      7.844444         144.0  "
      ]
     },
     "execution_count": 60,
     "metadata": {},
     "output_type": "execute_result"
    }
   ],
   "source": [
    "df5[df5['qtde_items']==196844 ]"
   ]
  },
  {
   "cell_type": "code",
   "execution_count": 61,
   "id": "9966919a",
   "metadata": {
    "ExecuteTime": {
     "end_time": "2022-12-29T13:35:10.753631Z",
     "start_time": "2022-12-29T13:35:10.698828Z"
    },
    "scrolled": false
   },
   "outputs": [
    {
     "data": {
      "text/html": [
       "<div>\n",
       "<style scoped>\n",
       "    .dataframe tbody tr th:only-of-type {\n",
       "        vertical-align: middle;\n",
       "    }\n",
       "\n",
       "    .dataframe tbody tr th {\n",
       "        vertical-align: top;\n",
       "    }\n",
       "\n",
       "    .dataframe thead th {\n",
       "        text-align: right;\n",
       "    }\n",
       "</style>\n",
       "<table border=\"1\" class=\"dataframe\">\n",
       "  <thead>\n",
       "    <tr style=\"text-align: right;\">\n",
       "      <th></th>\n",
       "      <th>customer_id</th>\n",
       "      <th>gross_revenue</th>\n",
       "      <th>recency_days</th>\n",
       "      <th>qtde_invoice</th>\n",
       "      <th>qtde_items</th>\n",
       "      <th>qtde_products</th>\n",
       "      <th>avg_basket_size</th>\n",
       "      <th>avg_unique_basket_size</th>\n",
       "      <th>freq</th>\n",
       "      <th>avg_ticket</th>\n",
       "      <th>avg_rec_days</th>\n",
       "      <th>qtde_returns</th>\n",
       "    </tr>\n",
       "  </thead>\n",
       "  <tbody>\n",
       "    <tr>\n",
       "      <th>68</th>\n",
       "      <td>17841.0</td>\n",
       "      <td>40959.72</td>\n",
       "      <td>1.0</td>\n",
       "      <td>124.0</td>\n",
       "      <td>22853.0</td>\n",
       "      <td>7837.0</td>\n",
       "      <td>184.298387</td>\n",
       "      <td>63.201613</td>\n",
       "      <td>0.453083</td>\n",
       "      <td>5.226454</td>\n",
       "      <td>3.321429</td>\n",
       "      <td>38.0</td>\n",
       "    </tr>\n",
       "  </tbody>\n",
       "</table>\n",
       "</div>"
      ],
      "text/plain": [
       "    customer_id  gross_revenue  recency_days  qtde_invoice  qtde_items  \\\n",
       "68      17841.0       40959.72           1.0         124.0     22853.0   \n",
       "\n",
       "    qtde_products  avg_basket_size  avg_unique_basket_size      freq  \\\n",
       "68         7837.0       184.298387               63.201613  0.453083   \n",
       "\n",
       "    avg_ticket  avg_rec_days  qtde_returns  \n",
       "68    5.226454      3.321429          38.0  "
      ]
     },
     "execution_count": 61,
     "metadata": {},
     "output_type": "execute_result"
    }
   ],
   "source": [
    "df5[df5['qtde_products']==7837]"
   ]
  },
  {
   "cell_type": "code",
   "execution_count": 62,
   "id": "d98b8999",
   "metadata": {
    "ExecuteTime": {
     "end_time": "2022-12-29T13:35:10.773519Z",
     "start_time": "2022-12-29T13:35:10.753631Z"
    },
    "scrolled": true
   },
   "outputs": [
    {
     "data": {
      "text/html": [
       "<div>\n",
       "<style scoped>\n",
       "    .dataframe tbody tr th:only-of-type {\n",
       "        vertical-align: middle;\n",
       "    }\n",
       "\n",
       "    .dataframe tbody tr th {\n",
       "        vertical-align: top;\n",
       "    }\n",
       "\n",
       "    .dataframe thead th {\n",
       "        text-align: right;\n",
       "    }\n",
       "</style>\n",
       "<table border=\"1\" class=\"dataframe\">\n",
       "  <thead>\n",
       "    <tr style=\"text-align: right;\">\n",
       "      <th></th>\n",
       "      <th>customer_id</th>\n",
       "      <th>gross_revenue</th>\n",
       "      <th>recency_days</th>\n",
       "      <th>qtde_invoice</th>\n",
       "      <th>qtde_items</th>\n",
       "      <th>qtde_products</th>\n",
       "      <th>avg_basket_size</th>\n",
       "      <th>avg_unique_basket_size</th>\n",
       "      <th>freq</th>\n",
       "      <th>avg_ticket</th>\n",
       "      <th>avg_rec_days</th>\n",
       "      <th>qtde_returns</th>\n",
       "    </tr>\n",
       "  </thead>\n",
       "  <tbody>\n",
       "  </tbody>\n",
       "</table>\n",
       "</div>"
      ],
      "text/plain": [
       "Empty DataFrame\n",
       "Columns: [customer_id, gross_revenue, recency_days, qtde_invoice, qtde_items, qtde_products, avg_basket_size, avg_unique_basket_size, freq, avg_ticket, avg_rec_days, qtde_returns]\n",
       "Index: []"
      ]
     },
     "execution_count": 62,
     "metadata": {},
     "output_type": "execute_result"
    }
   ],
   "source": [
    "df5[df5['avg_basket_size']==40498.5]"
   ]
  },
  {
   "cell_type": "code",
   "execution_count": 63,
   "id": "ab27641c",
   "metadata": {
    "ExecuteTime": {
     "end_time": "2022-12-29T13:35:10.813705Z",
     "start_time": "2022-12-29T13:35:10.778528Z"
    },
    "scrolled": true
   },
   "outputs": [
    {
     "data": {
      "text/html": [
       "<div>\n",
       "<style scoped>\n",
       "    .dataframe tbody tr th:only-of-type {\n",
       "        vertical-align: middle;\n",
       "    }\n",
       "\n",
       "    .dataframe tbody tr th {\n",
       "        vertical-align: top;\n",
       "    }\n",
       "\n",
       "    .dataframe thead th {\n",
       "        text-align: right;\n",
       "    }\n",
       "</style>\n",
       "<table border=\"1\" class=\"dataframe\">\n",
       "  <thead>\n",
       "    <tr style=\"text-align: right;\">\n",
       "      <th></th>\n",
       "      <th>customer_id</th>\n",
       "      <th>gross_revenue</th>\n",
       "      <th>recency_days</th>\n",
       "      <th>qtde_invoice</th>\n",
       "      <th>qtde_items</th>\n",
       "      <th>qtde_products</th>\n",
       "      <th>avg_basket_size</th>\n",
       "      <th>avg_unique_basket_size</th>\n",
       "      <th>freq</th>\n",
       "      <th>avg_ticket</th>\n",
       "      <th>avg_rec_days</th>\n",
       "      <th>qtde_returns</th>\n",
       "    </tr>\n",
       "  </thead>\n",
       "  <tbody>\n",
       "    <tr>\n",
       "      <th>1262</th>\n",
       "      <td>15749.0</td>\n",
       "      <td>44534.3</td>\n",
       "      <td>235.0</td>\n",
       "      <td>3.0</td>\n",
       "      <td>18028.0</td>\n",
       "      <td>10.0</td>\n",
       "      <td>6009.333333</td>\n",
       "      <td>3.333333</td>\n",
       "      <td>0.040816</td>\n",
       "      <td>4453.43</td>\n",
       "      <td>97.0</td>\n",
       "      <td>9014.0</td>\n",
       "    </tr>\n",
       "  </tbody>\n",
       "</table>\n",
       "</div>"
      ],
      "text/plain": [
       "      customer_id  gross_revenue  recency_days  qtde_invoice  qtde_items  \\\n",
       "1262      15749.0        44534.3         235.0           3.0     18028.0   \n",
       "\n",
       "      qtde_products  avg_basket_size  avg_unique_basket_size      freq  \\\n",
       "1262           10.0      6009.333333                3.333333  0.040816   \n",
       "\n",
       "      avg_ticket  avg_rec_days  qtde_returns  \n",
       "1262     4453.43          97.0        9014.0  "
      ]
     },
     "execution_count": 63,
     "metadata": {},
     "output_type": "execute_result"
    }
   ],
   "source": [
    "df5[df5['qtde_returns']==9014]\n",
    "#df3[df3['customer_id']==15749]"
   ]
  },
  {
   "cell_type": "code",
   "execution_count": 64,
   "id": "3d94f170",
   "metadata": {
    "ExecuteTime": {
     "end_time": "2022-12-29T13:35:10.853632Z",
     "start_time": "2022-12-29T13:35:10.818715Z"
    },
    "scrolled": true
   },
   "outputs": [
    {
     "data": {
      "text/html": [
       "<div>\n",
       "<style scoped>\n",
       "    .dataframe tbody tr th:only-of-type {\n",
       "        vertical-align: middle;\n",
       "    }\n",
       "\n",
       "    .dataframe tbody tr th {\n",
       "        vertical-align: top;\n",
       "    }\n",
       "\n",
       "    .dataframe thead th {\n",
       "        text-align: right;\n",
       "    }\n",
       "</style>\n",
       "<table border=\"1\" class=\"dataframe\">\n",
       "  <thead>\n",
       "    <tr style=\"text-align: right;\">\n",
       "      <th></th>\n",
       "      <th>customer_id</th>\n",
       "      <th>gross_revenue</th>\n",
       "      <th>recency_days</th>\n",
       "      <th>qtde_invoice</th>\n",
       "      <th>qtde_items</th>\n",
       "      <th>qtde_products</th>\n",
       "      <th>avg_basket_size</th>\n",
       "      <th>avg_unique_basket_size</th>\n",
       "      <th>freq</th>\n",
       "      <th>avg_ticket</th>\n",
       "      <th>avg_rec_days</th>\n",
       "      <th>qtde_returns</th>\n",
       "    </tr>\n",
       "  </thead>\n",
       "  <tbody>\n",
       "  </tbody>\n",
       "</table>\n",
       "</div>"
      ],
      "text/plain": [
       "Empty DataFrame\n",
       "Columns: [customer_id, gross_revenue, recency_days, qtde_invoice, qtde_items, qtde_products, avg_basket_size, avg_unique_basket_size, freq, avg_ticket, avg_rec_days, qtde_returns]\n",
       "Index: []"
      ]
     },
     "execution_count": 64,
     "metadata": {},
     "output_type": "execute_result"
    }
   ],
   "source": [
    "df5[df5['qtde_returns']==80995]"
   ]
  },
  {
   "cell_type": "code",
   "execution_count": 65,
   "id": "a96060b5",
   "metadata": {
    "ExecuteTime": {
     "end_time": "2022-12-29T13:35:10.873588Z",
     "start_time": "2022-12-29T13:35:10.858647Z"
    },
    "scrolled": false
   },
   "outputs": [],
   "source": [
    "#df5[df5['avg_ticket']==56157.5 ]\n",
    "#df3[df3['customer_id']==16446 ]"
   ]
  },
  {
   "cell_type": "markdown",
   "id": "88a0e5be",
   "metadata": {},
   "source": [
    "Retirar o customer 16446"
   ]
  },
  {
   "cell_type": "markdown",
   "id": "c092d797",
   "metadata": {},
   "source": [
    "## Bivariate analysis"
   ]
  },
  {
   "cell_type": "code",
   "execution_count": 66,
   "id": "6c77c020",
   "metadata": {
    "ExecuteTime": {
     "end_time": "2022-12-29T13:35:10.893690Z",
     "start_time": "2022-12-29T13:35:10.878596Z"
    }
   },
   "outputs": [],
   "source": [
    "df_aux = df5.drop(columns='customer_id')"
   ]
  },
  {
   "cell_type": "code",
   "execution_count": null,
   "id": "8523f015",
   "metadata": {
    "ExecuteTime": {
     "start_time": "2022-12-29T13:34:48.098Z"
    },
    "scrolled": true
   },
   "outputs": [
    {
     "ename": "KeyboardInterrupt",
     "evalue": "",
     "output_type": "error",
     "traceback": [
      "\u001b[1;31m---------------------------------------------------------------------------\u001b[0m",
      "\u001b[1;31mKeyboardInterrupt\u001b[0m                         Traceback (most recent call last)",
      "Cell \u001b[1;32mIn [67], line 1\u001b[0m\n\u001b[1;32m----> 1\u001b[0m \u001b[43msns\u001b[49m\u001b[38;5;241;43m.\u001b[39;49m\u001b[43mpairplot\u001b[49m\u001b[43m(\u001b[49m\u001b[43mdf_aux\u001b[49m\u001b[43m)\u001b[49m\n",
      "File \u001b[1;32m~\\anaconda3\\envs\\insiders_clustering\\lib\\site-packages\\seaborn\\_decorators.py:46\u001b[0m, in \u001b[0;36m_deprecate_positional_args.<locals>.inner_f\u001b[1;34m(*args, **kwargs)\u001b[0m\n\u001b[0;32m     36\u001b[0m     warnings\u001b[38;5;241m.\u001b[39mwarn(\n\u001b[0;32m     37\u001b[0m         \u001b[38;5;124m\"\u001b[39m\u001b[38;5;124mPass the following variable\u001b[39m\u001b[38;5;132;01m{}\u001b[39;00m\u001b[38;5;124m as \u001b[39m\u001b[38;5;132;01m{}\u001b[39;00m\u001b[38;5;124mkeyword arg\u001b[39m\u001b[38;5;132;01m{}\u001b[39;00m\u001b[38;5;124m: \u001b[39m\u001b[38;5;132;01m{}\u001b[39;00m\u001b[38;5;124m. \u001b[39m\u001b[38;5;124m\"\u001b[39m\n\u001b[0;32m     38\u001b[0m         \u001b[38;5;124m\"\u001b[39m\u001b[38;5;124mFrom version 0.12, the only valid positional argument \u001b[39m\u001b[38;5;124m\"\u001b[39m\n\u001b[1;32m   (...)\u001b[0m\n\u001b[0;32m     43\u001b[0m         \u001b[38;5;167;01mFutureWarning\u001b[39;00m\n\u001b[0;32m     44\u001b[0m     )\n\u001b[0;32m     45\u001b[0m kwargs\u001b[38;5;241m.\u001b[39mupdate({k: arg \u001b[38;5;28;01mfor\u001b[39;00m k, arg \u001b[38;5;129;01min\u001b[39;00m \u001b[38;5;28mzip\u001b[39m(sig\u001b[38;5;241m.\u001b[39mparameters, args)})\n\u001b[1;32m---> 46\u001b[0m \u001b[38;5;28;01mreturn\u001b[39;00m \u001b[43mf\u001b[49m\u001b[43m(\u001b[49m\u001b[38;5;241;43m*\u001b[39;49m\u001b[38;5;241;43m*\u001b[39;49m\u001b[43mkwargs\u001b[49m\u001b[43m)\u001b[49m\n",
      "File \u001b[1;32m~\\anaconda3\\envs\\insiders_clustering\\lib\\site-packages\\seaborn\\axisgrid.py:2156\u001b[0m, in \u001b[0;36mpairplot\u001b[1;34m(data, hue, hue_order, palette, vars, x_vars, y_vars, kind, diag_kind, markers, height, aspect, corner, dropna, plot_kws, diag_kws, grid_kws, size)\u001b[0m\n\u001b[0;32m   2153\u001b[0m \u001b[38;5;28;01mif\u001b[39;00m hue \u001b[38;5;129;01mis\u001b[39;00m \u001b[38;5;129;01mnot\u001b[39;00m \u001b[38;5;28;01mNone\u001b[39;00m:\n\u001b[0;32m   2154\u001b[0m     grid\u001b[38;5;241m.\u001b[39madd_legend()\n\u001b[1;32m-> 2156\u001b[0m \u001b[43mgrid\u001b[49m\u001b[38;5;241;43m.\u001b[39;49m\u001b[43mtight_layout\u001b[49m\u001b[43m(\u001b[49m\u001b[43m)\u001b[49m\n\u001b[0;32m   2158\u001b[0m \u001b[38;5;28;01mreturn\u001b[39;00m grid\n",
      "File \u001b[1;32m~\\anaconda3\\envs\\insiders_clustering\\lib\\site-packages\\seaborn\\axisgrid.py:88\u001b[0m, in \u001b[0;36mGrid.tight_layout\u001b[1;34m(self, *args, **kwargs)\u001b[0m\n\u001b[0;32m     86\u001b[0m \u001b[38;5;28;01mif\u001b[39;00m \u001b[38;5;28mself\u001b[39m\u001b[38;5;241m.\u001b[39m_tight_layout_pad \u001b[38;5;129;01mis\u001b[39;00m \u001b[38;5;129;01mnot\u001b[39;00m \u001b[38;5;28;01mNone\u001b[39;00m:\n\u001b[0;32m     87\u001b[0m     kwargs\u001b[38;5;241m.\u001b[39msetdefault(\u001b[38;5;124m\"\u001b[39m\u001b[38;5;124mpad\u001b[39m\u001b[38;5;124m\"\u001b[39m, \u001b[38;5;28mself\u001b[39m\u001b[38;5;241m.\u001b[39m_tight_layout_pad)\n\u001b[1;32m---> 88\u001b[0m \u001b[38;5;28;43mself\u001b[39;49m\u001b[38;5;241;43m.\u001b[39;49m\u001b[43m_figure\u001b[49m\u001b[38;5;241;43m.\u001b[39;49m\u001b[43mtight_layout\u001b[49m\u001b[43m(\u001b[49m\u001b[38;5;241;43m*\u001b[39;49m\u001b[43margs\u001b[49m\u001b[43m,\u001b[49m\u001b[43m \u001b[49m\u001b[38;5;241;43m*\u001b[39;49m\u001b[38;5;241;43m*\u001b[39;49m\u001b[43mkwargs\u001b[49m\u001b[43m)\u001b[49m\n",
      "File \u001b[1;32m~\\anaconda3\\envs\\insiders_clustering\\lib\\site-packages\\matplotlib\\figure.py:3224\u001b[0m, in \u001b[0;36mFigure.tight_layout\u001b[1;34m(self, pad, h_pad, w_pad, rect)\u001b[0m\n\u001b[0;32m   3222\u001b[0m renderer \u001b[38;5;241m=\u001b[39m get_renderer(\u001b[38;5;28mself\u001b[39m)\n\u001b[0;32m   3223\u001b[0m \u001b[38;5;28;01mwith\u001b[39;00m \u001b[38;5;28mgetattr\u001b[39m(renderer, \u001b[38;5;124m\"\u001b[39m\u001b[38;5;124m_draw_disabled\u001b[39m\u001b[38;5;124m\"\u001b[39m, nullcontext)():\n\u001b[1;32m-> 3224\u001b[0m     kwargs \u001b[38;5;241m=\u001b[39m \u001b[43mget_tight_layout_figure\u001b[49m\u001b[43m(\u001b[49m\n\u001b[0;32m   3225\u001b[0m \u001b[43m        \u001b[49m\u001b[38;5;28;43mself\u001b[39;49m\u001b[43m,\u001b[49m\u001b[43m \u001b[49m\u001b[38;5;28;43mself\u001b[39;49m\u001b[38;5;241;43m.\u001b[39;49m\u001b[43maxes\u001b[49m\u001b[43m,\u001b[49m\u001b[43m \u001b[49m\u001b[43msubplotspec_list\u001b[49m\u001b[43m,\u001b[49m\u001b[43m \u001b[49m\u001b[43mrenderer\u001b[49m\u001b[43m,\u001b[49m\n\u001b[0;32m   3226\u001b[0m \u001b[43m        \u001b[49m\u001b[43mpad\u001b[49m\u001b[38;5;241;43m=\u001b[39;49m\u001b[43mpad\u001b[49m\u001b[43m,\u001b[49m\u001b[43m \u001b[49m\u001b[43mh_pad\u001b[49m\u001b[38;5;241;43m=\u001b[39;49m\u001b[43mh_pad\u001b[49m\u001b[43m,\u001b[49m\u001b[43m \u001b[49m\u001b[43mw_pad\u001b[49m\u001b[38;5;241;43m=\u001b[39;49m\u001b[43mw_pad\u001b[49m\u001b[43m,\u001b[49m\u001b[43m \u001b[49m\u001b[43mrect\u001b[49m\u001b[38;5;241;43m=\u001b[39;49m\u001b[43mrect\u001b[49m\u001b[43m)\u001b[49m\n\u001b[0;32m   3227\u001b[0m \u001b[38;5;28;01mif\u001b[39;00m kwargs:\n\u001b[0;32m   3228\u001b[0m     \u001b[38;5;28mself\u001b[39m\u001b[38;5;241m.\u001b[39msubplots_adjust(\u001b[38;5;241m*\u001b[39m\u001b[38;5;241m*\u001b[39mkwargs)\n",
      "File \u001b[1;32m~\\anaconda3\\envs\\insiders_clustering\\lib\\site-packages\\matplotlib\\tight_layout.py:347\u001b[0m, in \u001b[0;36mget_tight_layout_figure\u001b[1;34m(fig, axes_list, subplotspec_list, renderer, pad, h_pad, w_pad, rect)\u001b[0m\n\u001b[0;32m    344\u001b[0m     \u001b[38;5;28;01mif\u001b[39;00m top \u001b[38;5;129;01mis\u001b[39;00m \u001b[38;5;129;01mnot\u001b[39;00m \u001b[38;5;28;01mNone\u001b[39;00m:\n\u001b[0;32m    345\u001b[0m         top \u001b[38;5;241m-\u001b[39m\u001b[38;5;241m=\u001b[39m (\u001b[38;5;241m1\u001b[39m \u001b[38;5;241m-\u001b[39m kwargs[\u001b[38;5;124m\"\u001b[39m\u001b[38;5;124mtop\u001b[39m\u001b[38;5;124m\"\u001b[39m])\n\u001b[1;32m--> 347\u001b[0m     kwargs \u001b[38;5;241m=\u001b[39m \u001b[43m_auto_adjust_subplotpars\u001b[49m\u001b[43m(\u001b[49m\u001b[43mfig\u001b[49m\u001b[43m,\u001b[49m\u001b[43m \u001b[49m\u001b[43mrenderer\u001b[49m\u001b[43m,\u001b[49m\n\u001b[0;32m    348\u001b[0m \u001b[43m                                      \u001b[49m\u001b[43mshape\u001b[49m\u001b[38;5;241;43m=\u001b[39;49m\u001b[43m(\u001b[49m\u001b[43mmax_nrows\u001b[49m\u001b[43m,\u001b[49m\u001b[43m \u001b[49m\u001b[43mmax_ncols\u001b[49m\u001b[43m)\u001b[49m\u001b[43m,\u001b[49m\n\u001b[0;32m    349\u001b[0m \u001b[43m                                      \u001b[49m\u001b[43mspan_pairs\u001b[49m\u001b[38;5;241;43m=\u001b[39;49m\u001b[43mspan_pairs\u001b[49m\u001b[43m,\u001b[49m\n\u001b[0;32m    350\u001b[0m \u001b[43m                                      \u001b[49m\u001b[43msubplot_list\u001b[49m\u001b[38;5;241;43m=\u001b[39;49m\u001b[43msubplot_list\u001b[49m\u001b[43m,\u001b[49m\n\u001b[0;32m    351\u001b[0m \u001b[43m                                      \u001b[49m\u001b[43max_bbox_list\u001b[49m\u001b[38;5;241;43m=\u001b[39;49m\u001b[43max_bbox_list\u001b[49m\u001b[43m,\u001b[49m\n\u001b[0;32m    352\u001b[0m \u001b[43m                                      \u001b[49m\u001b[43mpad\u001b[49m\u001b[38;5;241;43m=\u001b[39;49m\u001b[43mpad\u001b[49m\u001b[43m,\u001b[49m\u001b[43m \u001b[49m\u001b[43mh_pad\u001b[49m\u001b[38;5;241;43m=\u001b[39;49m\u001b[43mh_pad\u001b[49m\u001b[43m,\u001b[49m\u001b[43m \u001b[49m\u001b[43mw_pad\u001b[49m\u001b[38;5;241;43m=\u001b[39;49m\u001b[43mw_pad\u001b[49m\u001b[43m,\u001b[49m\n\u001b[0;32m    353\u001b[0m \u001b[43m                                      \u001b[49m\u001b[43mrect\u001b[49m\u001b[38;5;241;43m=\u001b[39;49m\u001b[43m(\u001b[49m\u001b[43mleft\u001b[49m\u001b[43m,\u001b[49m\u001b[43m \u001b[49m\u001b[43mbottom\u001b[49m\u001b[43m,\u001b[49m\u001b[43m \u001b[49m\u001b[43mright\u001b[49m\u001b[43m,\u001b[49m\u001b[43m \u001b[49m\u001b[43mtop\u001b[49m\u001b[43m)\u001b[49m\u001b[43m)\u001b[49m\n\u001b[0;32m    355\u001b[0m \u001b[38;5;28;01mreturn\u001b[39;00m kwargs\n",
      "File \u001b[1;32m~\\anaconda3\\envs\\insiders_clustering\\lib\\site-packages\\matplotlib\\tight_layout.py:82\u001b[0m, in \u001b[0;36m_auto_adjust_subplotpars\u001b[1;34m(fig, renderer, shape, span_pairs, subplot_list, ax_bbox_list, pad, h_pad, w_pad, rect)\u001b[0m\n\u001b[0;32m     80\u001b[0m \u001b[38;5;28;01mif\u001b[39;00m ax\u001b[38;5;241m.\u001b[39mget_visible():\n\u001b[0;32m     81\u001b[0m     \u001b[38;5;28;01mtry\u001b[39;00m:\n\u001b[1;32m---> 82\u001b[0m         bb \u001b[38;5;241m+\u001b[39m\u001b[38;5;241m=\u001b[39m [\u001b[43max\u001b[49m\u001b[38;5;241;43m.\u001b[39;49m\u001b[43mget_tightbbox\u001b[49m\u001b[43m(\u001b[49m\u001b[43mrenderer\u001b[49m\u001b[43m,\u001b[49m\u001b[43m \u001b[49m\u001b[43mfor_layout_only\u001b[49m\u001b[38;5;241;43m=\u001b[39;49m\u001b[38;5;28;43;01mTrue\u001b[39;49;00m\u001b[43m)\u001b[49m]\n\u001b[0;32m     83\u001b[0m     \u001b[38;5;28;01mexcept\u001b[39;00m \u001b[38;5;167;01mTypeError\u001b[39;00m:\n\u001b[0;32m     84\u001b[0m         bb \u001b[38;5;241m+\u001b[39m\u001b[38;5;241m=\u001b[39m [ax\u001b[38;5;241m.\u001b[39mget_tightbbox(renderer)]\n",
      "File \u001b[1;32m~\\anaconda3\\envs\\insiders_clustering\\lib\\site-packages\\matplotlib\\axes\\_base.py:4669\u001b[0m, in \u001b[0;36m_AxesBase.get_tightbbox\u001b[1;34m(self, renderer, call_axes_locator, bbox_extra_artists, for_layout_only)\u001b[0m\n\u001b[0;32m   4667\u001b[0m clip_extent \u001b[38;5;241m=\u001b[39m a\u001b[38;5;241m.\u001b[39m_get_clipping_extent_bbox()\n\u001b[0;32m   4668\u001b[0m \u001b[38;5;28;01mif\u001b[39;00m clip_extent \u001b[38;5;129;01mis\u001b[39;00m \u001b[38;5;129;01mnot\u001b[39;00m \u001b[38;5;28;01mNone\u001b[39;00m:\n\u001b[1;32m-> 4669\u001b[0m     clip_extent \u001b[38;5;241m=\u001b[39m \u001b[43mmtransforms\u001b[49m\u001b[38;5;241;43m.\u001b[39;49m\u001b[43mBbox\u001b[49m\u001b[38;5;241;43m.\u001b[39;49m\u001b[43mintersection\u001b[49m\u001b[43m(\u001b[49m\n\u001b[0;32m   4670\u001b[0m \u001b[43m        \u001b[49m\u001b[43mclip_extent\u001b[49m\u001b[43m,\u001b[49m\u001b[43m \u001b[49m\u001b[43maxbbox\u001b[49m\u001b[43m)\u001b[49m\n\u001b[0;32m   4671\u001b[0m     \u001b[38;5;28;01mif\u001b[39;00m np\u001b[38;5;241m.\u001b[39mall(clip_extent\u001b[38;5;241m.\u001b[39mextents \u001b[38;5;241m==\u001b[39m axbbox\u001b[38;5;241m.\u001b[39mextents):\n\u001b[0;32m   4672\u001b[0m         \u001b[38;5;66;03m# clip extent is inside the Axes bbox so don't check\u001b[39;00m\n\u001b[0;32m   4673\u001b[0m         \u001b[38;5;66;03m# this artist\u001b[39;00m\n\u001b[0;32m   4674\u001b[0m         \u001b[38;5;28;01mcontinue\u001b[39;00m\n",
      "File \u001b[1;32m~\\anaconda3\\envs\\insiders_clustering\\lib\\site-packages\\matplotlib\\transforms.py:683\u001b[0m, in \u001b[0;36mBboxBase.intersection\u001b[1;34m(bbox1, bbox2)\u001b[0m\n\u001b[0;32m    681\u001b[0m y0 \u001b[38;5;241m=\u001b[39m np\u001b[38;5;241m.\u001b[39mmaximum(bbox1\u001b[38;5;241m.\u001b[39mymin, bbox2\u001b[38;5;241m.\u001b[39mymin)\n\u001b[0;32m    682\u001b[0m y1 \u001b[38;5;241m=\u001b[39m np\u001b[38;5;241m.\u001b[39mminimum(bbox1\u001b[38;5;241m.\u001b[39mymax, bbox2\u001b[38;5;241m.\u001b[39mymax)\n\u001b[1;32m--> 683\u001b[0m \u001b[38;5;28;01mreturn\u001b[39;00m \u001b[43mBbox\u001b[49m\u001b[43m(\u001b[49m\u001b[43m[\u001b[49m\u001b[43m[\u001b[49m\u001b[43mx0\u001b[49m\u001b[43m,\u001b[49m\u001b[43m \u001b[49m\u001b[43my0\u001b[49m\u001b[43m]\u001b[49m\u001b[43m,\u001b[49m\u001b[43m \u001b[49m\u001b[43m[\u001b[49m\u001b[43mx1\u001b[49m\u001b[43m,\u001b[49m\u001b[43m \u001b[49m\u001b[43my1\u001b[49m\u001b[43m]\u001b[49m\u001b[43m]\u001b[49m\u001b[43m)\u001b[49m \u001b[38;5;28;01mif\u001b[39;00m x0 \u001b[38;5;241m<\u001b[39m\u001b[38;5;241m=\u001b[39m x1 \u001b[38;5;129;01mand\u001b[39;00m y0 \u001b[38;5;241m<\u001b[39m\u001b[38;5;241m=\u001b[39m y1 \u001b[38;5;28;01melse\u001b[39;00m \u001b[38;5;28;01mNone\u001b[39;00m\n",
      "File \u001b[1;32m~\\anaconda3\\envs\\insiders_clustering\\lib\\site-packages\\matplotlib\\transforms.py:785\u001b[0m, in \u001b[0;36mBbox.__init__\u001b[1;34m(self, points, **kwargs)\u001b[0m\n\u001b[0;32m    781\u001b[0m \u001b[38;5;28mself\u001b[39m\u001b[38;5;241m.\u001b[39m_ignore \u001b[38;5;241m=\u001b[39m \u001b[38;5;28;01mTrue\u001b[39;00m\n\u001b[0;32m    782\u001b[0m \u001b[38;5;66;03m# it is helpful in some contexts to know if the bbox is a\u001b[39;00m\n\u001b[0;32m    783\u001b[0m \u001b[38;5;66;03m# default or has been mutated; we store the orig points to\u001b[39;00m\n\u001b[0;32m    784\u001b[0m \u001b[38;5;66;03m# support the mutated methods\u001b[39;00m\n\u001b[1;32m--> 785\u001b[0m \u001b[38;5;28mself\u001b[39m\u001b[38;5;241m.\u001b[39m_points_orig \u001b[38;5;241m=\u001b[39m \u001b[38;5;28;43mself\u001b[39;49m\u001b[38;5;241;43m.\u001b[39;49m\u001b[43m_points\u001b[49m\u001b[38;5;241;43m.\u001b[39;49m\u001b[43mcopy\u001b[49m\u001b[43m(\u001b[49m\u001b[43m)\u001b[49m\n",
      "\u001b[1;31mKeyboardInterrupt\u001b[0m: "
     ]
    }
   ],
   "source": [
    "sns.pairplot(df_aux)"
   ]
  },
  {
   "cell_type": "markdown",
   "id": "7a19bf07",
   "metadata": {},
   "source": [
    "## Estudo do Espaço"
   ]
  },
  {
   "cell_type": "code",
   "execution_count": null,
   "id": "a4f78a94",
   "metadata": {
    "ExecuteTime": {
     "start_time": "2022-12-29T13:34:48.105Z"
    }
   },
   "outputs": [],
   "source": [
    "cols_select = ['gross_revenue', 'recency_days', 'qtde_products', 'freq', 'qtde_returns']"
   ]
  },
  {
   "cell_type": "code",
   "execution_count": null,
   "id": "9bc5f7fe",
   "metadata": {
    "ExecuteTime": {
     "start_time": "2022-12-29T13:34:48.109Z"
    }
   },
   "outputs": [],
   "source": [
    "df_aux = df_aux[cols_select]"
   ]
  },
  {
   "cell_type": "code",
   "execution_count": null,
   "id": "8970d41a",
   "metadata": {
    "ExecuteTime": {
     "start_time": "2022-12-29T13:34:48.116Z"
    },
    "scrolled": false
   },
   "outputs": [],
   "source": [
    "df_aux.columns"
   ]
  },
  {
   "cell_type": "code",
   "execution_count": null,
   "id": "176213a1",
   "metadata": {
    "ExecuteTime": {
     "start_time": "2022-12-29T13:34:48.122Z"
    }
   },
   "outputs": [],
   "source": [
    "df_aux.head()"
   ]
  },
  {
   "cell_type": "code",
   "execution_count": null,
   "id": "39c450cf",
   "metadata": {
    "ExecuteTime": {
     "start_time": "2022-12-29T13:34:48.126Z"
    }
   },
   "outputs": [],
   "source": [
    "mm = MinMaxScaler()\n",
    "\n",
    "df_aux['gross_revenue'] = mm.fit_transform(df_aux[['gross_revenue']])\n",
    "df_aux['recency_days'] = mm.fit_transform(df_aux[['recency_days']])\n",
    "# df_aux['qtde_invoice'] = mm.fit_transform(df_aux[['qtde_invoice']])\n",
    "# df_aux['qtde_items'] = mm.fit_transform(df_aux[['qtde_items']])\n",
    "df_aux['qtde_products'] = mm.fit_transform(df_aux[['qtde_products']])\n",
    "# df_aux['avg_basket_size'] = mm.fit_transform(df_aux[['avg_basket_size']])\n",
    "# df_aux['avg_unique_basket_size'] = mm.fit_transform(df_aux[['avg_unique_basket_size']])\n",
    "df_aux['freq'] = ss.fit_transform(df_aux[['freq']])\n",
    "# df_aux['avg_rec_days'] = mm.fit_transform(df_aux[['avg_rec_days']])\n",
    "df_aux['qtde_returns'] = mm.fit_transform(df_aux[['qtde_returns']])\n",
    "# df_aux['avg_ticket'] = mm.fit_transform(df_aux[['avg_ticket']])"
   ]
  },
  {
   "cell_type": "code",
   "execution_count": null,
   "id": "ea0896ec",
   "metadata": {
    "ExecuteTime": {
     "start_time": "2022-12-29T13:34:48.132Z"
    }
   },
   "outputs": [],
   "source": [
    "X = df_aux.copy()"
   ]
  },
  {
   "cell_type": "markdown",
   "id": "1bf79ccc",
   "metadata": {},
   "source": [
    "### PCA"
   ]
  },
  {
   "cell_type": "code",
   "execution_count": null,
   "id": "308bd629",
   "metadata": {
    "ExecuteTime": {
     "start_time": "2022-12-29T13:34:48.139Z"
    }
   },
   "outputs": [],
   "source": [
    "from sklearn import decomposition as  dcp"
   ]
  },
  {
   "cell_type": "code",
   "execution_count": null,
   "id": "19dd8c76",
   "metadata": {
    "ExecuteTime": {
     "start_time": "2022-12-29T13:34:48.143Z"
    }
   },
   "outputs": [],
   "source": [
    "pca = dcp.PCA(n_components = X.shape[1])\n",
    "principal_component = pca.fit_transform(X)\n",
    "\n",
    "\n",
    "#pcs componentes\n",
    "df_pca = pd.DataFrame(principal_component)\n",
    "\n",
    "# plot explained variable\n",
    "features = range(pca.n_components_)\n",
    "plt.bar(features, pca.explained_variance_ratio_,color='yellow');"
   ]
  },
  {
   "cell_type": "code",
   "execution_count": null,
   "id": "0c0f1c7f",
   "metadata": {
    "ExecuteTime": {
     "start_time": "2022-12-29T13:34:48.150Z"
    }
   },
   "outputs": [],
   "source": [
    "sns.scatterplot(x=0,y=1,data=df_pca);"
   ]
  },
  {
   "cell_type": "markdown",
   "id": "41ef6e8d",
   "metadata": {},
   "source": [
    "### UMAP"
   ]
  },
  {
   "cell_type": "code",
   "execution_count": null,
   "id": "86343ff1",
   "metadata": {
    "ExecuteTime": {
     "start_time": "2022-12-29T13:34:48.162Z"
    }
   },
   "outputs": [],
   "source": [
    "import umap.umap_ as umap\n",
    "reducer = umap.UMAP(random_state=42)\n",
    "embedding = reducer.fit_transform(X)\n",
    "\n",
    "\n",
    "#embedding\n",
    "\n",
    "df_pca['embedding_x'] = embedding[:,0]\n",
    "df_pca['embedding_y'] = embedding[:,1]\n",
    "\n",
    "\n",
    "sns.scatterplot(x='embedding_x', y ='embedding_y',data=df_pca);"
   ]
  },
  {
   "cell_type": "markdown",
   "id": "b01a2f3a",
   "metadata": {},
   "source": [
    "### t-sne"
   ]
  },
  {
   "cell_type": "code",
   "execution_count": null,
   "id": "32d84818",
   "metadata": {
    "ExecuteTime": {
     "start_time": "2022-12-29T13:34:48.170Z"
    }
   },
   "outputs": [],
   "source": [
    "from sklearn.manifold import TSNE"
   ]
  },
  {
   "cell_type": "code",
   "execution_count": null,
   "id": "bf5d9c67",
   "metadata": {
    "ExecuteTime": {
     "start_time": "2022-12-29T13:34:48.175Z"
    }
   },
   "outputs": [],
   "source": [
    "reducer = TSNE(n_components=2,n_jobs=-1,random_state=42)\n",
    "embedding = reducer.fit_transform(X)\n",
    "\n",
    "\n",
    "#embedding\n",
    "df_pca['embedding_x'] = embedding[:,0]\n",
    "df_pca['embedding_y'] = embedding[:,1]\n",
    "\n",
    "\n",
    "sns.scatterplot(x='embedding_x', y ='embedding_y',data=df_pca);"
   ]
  },
  {
   "cell_type": "markdown",
   "id": "fe6205fa",
   "metadata": {},
   "source": [
    "### Tree-based embedding"
   ]
  },
  {
   "cell_type": "code",
   "execution_count": null,
   "id": "d75979f2",
   "metadata": {
    "ExecuteTime": {
     "start_time": "2022-12-29T13:34:48.183Z"
    }
   },
   "outputs": [],
   "source": [
    "X = df_aux.drop(columns=['gross_revenue'],axis=1)\n",
    "y = df_aux['gross_revenue']\n",
    "\n",
    "\n",
    "# model definition\n",
    "rf_model = RandomForestRegressor(n_estimators=100,random_state=42)\n",
    "\n",
    "#model training\n",
    "rf_model.fit(X,y.values)\n",
    "\n",
    "# Leaf\n",
    "df_leaf = pd.DataFrame(rf_model.apply(X))\n",
    "#dataframe Leaf"
   ]
  },
  {
   "cell_type": "code",
   "execution_count": null,
   "id": "f01662b5",
   "metadata": {
    "ExecuteTime": {
     "start_time": "2022-12-29T13:34:48.190Z"
    },
    "scrolled": true
   },
   "outputs": [],
   "source": [
    "df_leaf.head()"
   ]
  },
  {
   "cell_type": "code",
   "execution_count": null,
   "id": "e7039731",
   "metadata": {
    "ExecuteTime": {
     "start_time": "2022-12-29T13:34:48.194Z"
    }
   },
   "outputs": [],
   "source": [
    "import umap.umap_ as umap"
   ]
  },
  {
   "cell_type": "code",
   "execution_count": null,
   "id": "d8706815",
   "metadata": {
    "ExecuteTime": {
     "start_time": "2022-12-29T13:34:48.200Z"
    }
   },
   "outputs": [],
   "source": [
    "reducer = umap.UMAP(random_state=42)\n",
    "embedding = reducer.fit_transform(df_leaf)\n",
    "\n",
    "\n",
    "#embedding\n",
    "df_tree = pd.DataFrame()\n",
    "df_tree['embedding_x'] = embedding[:,0]\n",
    "df_tree['embedding_y'] = embedding[:,1]\n",
    "\n",
    "\n",
    "sns.scatterplot(x='embedding_x', y ='embedding_y',data=df_tree);"
   ]
  },
  {
   "cell_type": "markdown",
   "id": "4fd8bdff",
   "metadata": {},
   "source": [
    "# Data preparation"
   ]
  },
  {
   "cell_type": "markdown",
   "id": "317d5ffe",
   "metadata": {},
   "source": [
    "Distribuição normal e não possui outlier - stardart scaler\n",
    "\n",
    "distribuição normal e possui outilier - robust scaler\n",
    "\n",
    "não distribuição normal - Min max Scaler\n"
   ]
  },
  {
   "cell_type": "markdown",
   "id": "31807c69",
   "metadata": {},
   "source": [
    "**Teste de normalidade**\n",
    "\n",
    "**QQ plot** - Quantile Quantile Plot ( Quatile teorica x Quatile real)\n",
    "\n",
    "**KS Teste** - Kolgomorov Smirnoff ( Teste de Hipótese ) se P-valor > 0.5 Distribuição normal, P-valor < 0.5 - Não distribuição normal"
   ]
  },
  {
   "cell_type": "code",
   "execution_count": null,
   "id": "a981b5c5",
   "metadata": {
    "ExecuteTime": {
     "start_time": "2022-12-29T13:34:48.209Z"
    }
   },
   "outputs": [],
   "source": [
    "df6 = df5.copy()"
   ]
  },
  {
   "cell_type": "code",
   "execution_count": null,
   "id": "7bc16fbc",
   "metadata": {
    "ExecuteTime": {
     "start_time": "2022-12-29T13:34:48.215Z"
    }
   },
   "outputs": [],
   "source": [
    "df6.head()"
   ]
  },
  {
   "cell_type": "code",
   "execution_count": null,
   "id": "3a03c596",
   "metadata": {
    "ExecuteTime": {
     "start_time": "2022-12-29T13:34:48.220Z"
    }
   },
   "outputs": [],
   "source": [
    "mm = MinMaxScaler()\n",
    "#ss = StandardScaler()\n",
    "#rs = RobustScaler()\n",
    "\n",
    "df6['gross_revenue'] = mm.fit_transform(df6[['gross_revenue']])\n",
    "df6['recency_days'] = mm.fit_transform(df6[['recency_days']])\n",
    "df6['qtde_invoice'] = mm.fit_transform(df6[['qtde_invoice']])\n",
    "df6['qtde_items'] = mm.fit_transform(df6[['qtde_items']])\n",
    "df6['qtde_products'] = mm.fit_transform(df6[['qtde_products']])\n",
    "df6['avg_basket_size'] = mm.fit_transform(df6[['avg_basket_size']])\n",
    "df6['avg_unique_basket_size'] = mm.fit_transform(df6[['avg_unique_basket_size']])\n",
    "df6['freq'] = mm.fit_transform(df6[['freq']])\n",
    "df6['avg_rec_days'] = mm.fit_transform(df6[['avg_rec_days']])\n",
    "df6['qtde_returns'] = mm.fit_transform(df6[['qtde_returns']])\n",
    "df6['avg_ticket'] = mm.fit_transform(df6[['avg_ticket']])\n"
   ]
  },
  {
   "cell_type": "code",
   "execution_count": null,
   "id": "72abcfcc",
   "metadata": {
    "ExecuteTime": {
     "start_time": "2022-12-29T13:34:48.226Z"
    }
   },
   "outputs": [],
   "source": [
    "df6.head()"
   ]
  },
  {
   "cell_type": "markdown",
   "id": "d6c370d9",
   "metadata": {},
   "source": [
    "# Feature selection"
   ]
  },
  {
   "cell_type": "code",
   "execution_count": null,
   "id": "6b404eb6",
   "metadata": {
    "ExecuteTime": {
     "start_time": "2022-12-29T13:34:48.236Z"
    }
   },
   "outputs": [],
   "source": [
    "df7 = df6.copy()"
   ]
  },
  {
   "cell_type": "code",
   "execution_count": null,
   "id": "4a3b2787",
   "metadata": {
    "ExecuteTime": {
     "start_time": "2022-12-29T13:34:48.241Z"
    }
   },
   "outputs": [],
   "source": [
    "cols_select = ['customer_id', 'gross_revenue', 'recency_days', 'qtde_products', 'freq', 'qtde_returns']"
   ]
  },
  {
   "cell_type": "code",
   "execution_count": null,
   "id": "cb562131",
   "metadata": {
    "ExecuteTime": {
     "start_time": "2022-12-29T13:34:48.245Z"
    }
   },
   "outputs": [],
   "source": [
    "df7 = df7[cols_select]"
   ]
  },
  {
   "cell_type": "markdown",
   "id": "8ac4a6c3",
   "metadata": {},
   "source": [
    "# Fine tunning"
   ]
  },
  {
   "cell_type": "code",
   "execution_count": null,
   "id": "d463ffdc",
   "metadata": {
    "ExecuteTime": {
     "start_time": "2022-12-29T13:34:48.252Z"
    }
   },
   "outputs": [],
   "source": [
    "#X = df7.drop(columns='customer_id')\n",
    "X = df_tree"
   ]
  },
  {
   "cell_type": "code",
   "execution_count": null,
   "id": "58a7ab60",
   "metadata": {
    "ExecuteTime": {
     "start_time": "2022-12-29T13:34:48.259Z"
    }
   },
   "outputs": [],
   "source": [
    "X.head()"
   ]
  },
  {
   "cell_type": "code",
   "execution_count": null,
   "id": "9743c89e",
   "metadata": {
    "ExecuteTime": {
     "start_time": "2022-12-29T13:34:48.263Z"
    }
   },
   "outputs": [],
   "source": [
    "#clusters = [2,3,4,5,6,7]\n",
    "clusters = np.arange(2,31,1)"
   ]
  },
  {
   "cell_type": "markdown",
   "id": "b1c75052",
   "metadata": {},
   "source": [
    "## K-means"
   ]
  },
  {
   "cell_type": "code",
   "execution_count": null,
   "id": "08fd2552",
   "metadata": {
    "ExecuteTime": {
     "start_time": "2022-12-29T13:34:48.270Z"
    }
   },
   "outputs": [],
   "source": [
    "sil_k = []\n",
    "for k in clusters:\n",
    "    # model definition\n",
    "    k_model = c.KMeans(n_clusters=k)\n",
    "\n",
    "    #model training\n",
    "    k_model.fit(X)\n",
    "\n",
    "    #model predict\n",
    "    labels = k_model.predict(X)\n",
    "\n",
    "    #model performace\n",
    "    sil_k.append(m.silhouette_score(X,labels,metric='euclidean'))"
   ]
  },
  {
   "cell_type": "code",
   "execution_count": null,
   "id": "f2332990",
   "metadata": {
    "ExecuteTime": {
     "start_time": "2022-12-29T13:34:48.277Z"
    }
   },
   "outputs": [],
   "source": [
    "plt.plot(clusters,sil_k,linestyle='--',marker = 'o');\n",
    "plt.xlabel('K');\n",
    "plt.ylabel('SS');\n",
    "plt.title('SS vs K');"
   ]
  },
  {
   "cell_type": "markdown",
   "id": "6ecef62a",
   "metadata": {},
   "source": [
    "## GMM"
   ]
  },
  {
   "cell_type": "code",
   "execution_count": null,
   "id": "4eb711f4",
   "metadata": {
    "ExecuteTime": {
     "start_time": "2022-12-29T13:34:48.285Z"
    }
   },
   "outputs": [],
   "source": [
    "from sklearn import  mixture as mx"
   ]
  },
  {
   "cell_type": "markdown",
   "id": "f5423d05",
   "metadata": {
    "ExecuteTime": {
     "end_time": "2022-12-26T13:14:49.360492Z",
     "start_time": "2022-12-26T13:14:49.350516Z"
    }
   },
   "source": [
    "AIC - ajuste do modelo\n",
    "\n",
    "BIC - ajuste dos parametros"
   ]
  },
  {
   "cell_type": "code",
   "execution_count": null,
   "id": "32443e81",
   "metadata": {
    "ExecuteTime": {
     "start_time": "2022-12-29T13:34:48.289Z"
    }
   },
   "outputs": [],
   "source": [
    "gmm_k = []\n",
    "for k in clusters:\n",
    "    # model definition\n",
    "    gmm_model = mx.GaussianMixture(n_components=k)\n",
    "\n",
    "    #model training\n",
    "    gmm_model.fit(X)\n",
    "\n",
    "    #model predict\n",
    "    labels = gmm_model.predict(X)\n",
    "\n",
    "    #model performace\n",
    "    gmm_k.append(m.silhouette_score(X,labels,metric='euclidean'))"
   ]
  },
  {
   "cell_type": "code",
   "execution_count": null,
   "id": "6791397f",
   "metadata": {
    "ExecuteTime": {
     "start_time": "2022-12-29T13:34:48.295Z"
    }
   },
   "outputs": [],
   "source": [
    "plt.plot(clusters,gmm_k,linestyle='--',marker = 'o');\n",
    "plt.xlabel('K');\n",
    "plt.ylabel('SS');\n",
    "plt.title('GMM - SS vs K');"
   ]
  },
  {
   "cell_type": "markdown",
   "id": "2a8136c6",
   "metadata": {},
   "source": [
    "## H-Clustering"
   ]
  },
  {
   "cell_type": "code",
   "execution_count": null,
   "id": "47335786",
   "metadata": {
    "ExecuteTime": {
     "start_time": "2022-12-29T13:34:48.303Z"
    }
   },
   "outputs": [],
   "source": [
    "from scipy.cluster import hierarchy as hr"
   ]
  },
  {
   "cell_type": "code",
   "execution_count": null,
   "id": "be70ddfd",
   "metadata": {
    "ExecuteTime": {
     "start_time": "2022-12-29T13:34:48.309Z"
    }
   },
   "outputs": [],
   "source": [
    "hc_model = hr.linkage(X,'ward')"
   ]
  },
  {
   "cell_type": "code",
   "execution_count": null,
   "id": "510f9dbf",
   "metadata": {
    "ExecuteTime": {
     "start_time": "2022-12-29T13:34:48.318Z"
    }
   },
   "outputs": [],
   "source": [
    "hr.dendrogram(hc_model,\n",
    "             leaf_rotation=90,\n",
    "             leaf_font_size=8)\n",
    "plt.plot();"
   ]
  },
  {
   "cell_type": "code",
   "execution_count": null,
   "id": "c2af694a",
   "metadata": {
    "ExecuteTime": {
     "start_time": "2022-12-29T13:34:48.323Z"
    },
    "scrolled": true
   },
   "outputs": [],
   "source": [
    "hr.dendrogram(hc_model,\n",
    "              truncate_mode='lastp',\n",
    "              p=12,\n",
    "              leaf_rotation=90,\n",
    "              leaf_font_size=8,\n",
    "             show_contracted=True)\n",
    "plt.plot()"
   ]
  },
  {
   "cell_type": "code",
   "execution_count": null,
   "id": "86055517",
   "metadata": {
    "ExecuteTime": {
     "start_time": "2022-12-29T13:34:48.327Z"
    }
   },
   "outputs": [],
   "source": [
    "hc_k = []\n",
    "for k in clusters:\n",
    "    # model definition\n",
    "    hc_model = hr.linkage(X,'ward')\n",
    "\n",
    "    #model predict\n",
    "    labels = hr.fcluster(hc_model,k,criterion='maxclust')\n",
    "\n",
    "    #model performace\n",
    "    hc_k.append(m.silhouette_score(X,labels,metric='euclidean'))"
   ]
  },
  {
   "cell_type": "code",
   "execution_count": null,
   "id": "86bc6994",
   "metadata": {
    "ExecuteTime": {
     "start_time": "2022-12-29T13:34:48.332Z"
    }
   },
   "outputs": [],
   "source": [
    "plt.plot(clusters,hc_k,linestyle='--',marker = 'o');\n",
    "plt.xlabel('K');\n",
    "plt.ylabel('SS');\n",
    "plt.title('H-Clustering - SS vs K');"
   ]
  },
  {
   "cell_type": "markdown",
   "id": "d5711328",
   "metadata": {},
   "source": [
    "## DBSCAN"
   ]
  },
  {
   "cell_type": "code",
   "execution_count": null,
   "id": "07ed16a2",
   "metadata": {
    "ExecuteTime": {
     "start_time": "2022-12-29T13:34:48.339Z"
    }
   },
   "outputs": [],
   "source": [
    "eps=0.2\n",
    "min_samples = 20\n",
    "#model training e predict\n",
    "dbscan_model = c.DBSCAN(eps=eps,min_samples=min_samples)\n",
    "\n",
    "#model training e predict\n",
    "labels = dbscan_model.fit_predict(X)\n",
    "\n",
    "db_k = m.silhouette_score(X,labels,metric='euclidean')"
   ]
  },
  {
   "cell_type": "code",
   "execution_count": null,
   "id": "615bc4fa",
   "metadata": {
    "ExecuteTime": {
     "start_time": "2022-12-29T13:34:48.346Z"
    }
   },
   "outputs": [],
   "source": [
    "from sklearn.neighbors import NearestNeighbors"
   ]
  },
  {
   "cell_type": "code",
   "execution_count": null,
   "id": "7f305f4c",
   "metadata": {
    "ExecuteTime": {
     "start_time": "2022-12-29T13:34:48.352Z"
    }
   },
   "outputs": [],
   "source": [
    "nei = NearestNeighbors(n_neighbors=min_samples).fit(X)\n",
    "dist, indi = nei.kneighbors(X)"
   ]
  },
  {
   "cell_type": "code",
   "execution_count": null,
   "id": "0e8767c2",
   "metadata": {
    "ExecuteTime": {
     "start_time": "2022-12-29T13:34:48.359Z"
    }
   },
   "outputs": [],
   "source": [
    "dist = np.sort(dist,axis=0)\n",
    "dist = dist[:,1]\n",
    "plt.plot(dist);"
   ]
  },
  {
   "cell_type": "code",
   "execution_count": null,
   "id": "bb84664c",
   "metadata": {
    "ExecuteTime": {
     "start_time": "2022-12-29T13:34:48.363Z"
    }
   },
   "outputs": [],
   "source": [
    "db_k = [db_k,0.00,0.00,0.00,0.00,0.00]"
   ]
  },
  {
   "cell_type": "code",
   "execution_count": null,
   "id": "22dbec6c",
   "metadata": {
    "ExecuteTime": {
     "start_time": "2022-12-29T13:34:48.369Z"
    }
   },
   "outputs": [],
   "source": [
    "db_k"
   ]
  },
  {
   "cell_type": "markdown",
   "id": "d2ff6a05",
   "metadata": {},
   "source": [
    "## Results"
   ]
  },
  {
   "cell_type": "code",
   "execution_count": null,
   "id": "261ee50b",
   "metadata": {
    "ExecuteTime": {
     "start_time": "2022-12-29T13:34:48.380Z"
    },
    "scrolled": true
   },
   "outputs": [],
   "source": [
    "# Model name | k=2 | k=3 | k=4 | k=5\n",
    "# Kmeans        ss    ss    ss    ss\n",
    "# GMM           ss    ss    ss    ss\n",
    "# HC            ss    ss    ss    ss\n",
    "# DBSCAN        ss    ss    ss    ss\n",
    "\n",
    "df_results = pd.DataFrame({\n",
    "    'Kmeans': sil_k,\n",
    "    'GMM': gmm_k,\n",
    "    'HC': hc_k,\n",
    "}).T\n",
    "df_results.columns = clusters\n",
    "df_results.style.highlight_max(color='lightgreen',axis=1)"
   ]
  },
  {
   "cell_type": "code",
   "execution_count": null,
   "id": "18d5a224",
   "metadata": {
    "ExecuteTime": {
     "start_time": "2022-12-29T13:34:48.389Z"
    }
   },
   "outputs": [],
   "source": [
    "clusters = np.arange(2,11,1)"
   ]
  },
  {
   "cell_type": "markdown",
   "id": "7c94cd57",
   "metadata": {},
   "source": [
    "## Silhouete analisys"
   ]
  },
  {
   "cell_type": "code",
   "execution_count": null,
   "id": "ff6ef4f2",
   "metadata": {
    "ExecuteTime": {
     "start_time": "2022-12-29T13:34:48.404Z"
    }
   },
   "outputs": [],
   "source": [
    "fig,ax = plt.subplots(5,2)\n",
    "fig.set_size_inches(25,20)\n",
    "\n",
    "for k in clusters:\n",
    "    q,mod = divmod(k,2)\n",
    "    \n",
    "    ax[q-1,mod].set_xlim([-0.1,1])\n",
    "    ax[q-1,mod].set_ylim([0,len(X) + (k+1)*10])\n",
    "    # model definition    \n",
    "    hc_model = hr.linkage(X,'ward')\n",
    "\n",
    "    #model predict    \n",
    "    labels = hr.fcluster(hc_model,k,criterion='maxclust')\n",
    "\n",
    "    #model performace    \n",
    "    hc_k = (m.silhouette_score(X,labels,metric='euclidean'))\n",
    "    print(f'For K = {k} Silhouette: {hc_k}')\n",
    "    \n",
    "    ss_values = m.silhouette_samples(X,labels)\n",
    "    y_lower=10\n",
    "    for i in range(k):\n",
    "\n",
    "        ith_ss_values = ss_values[labels==i]\n",
    "        size_cluster = ith_ss_values.shape[0]\n",
    "        ith_ss_values = np.sort(ith_ss_values)\n",
    "        y_upper = y_lower + size_cluster\n",
    "        ax[q-1,mod].fill_betweenx(np.arange(y_lower,y_upper),0,ith_ss_values)\n",
    "        y_lower = y_upper+10"
   ]
  },
  {
   "cell_type": "code",
   "execution_count": null,
   "id": "806f7bd8",
   "metadata": {
    "ExecuteTime": {
     "start_time": "2022-12-29T13:34:48.410Z"
    }
   },
   "outputs": [],
   "source": [
    "fig,ax = plt.subplots(5,2)\n",
    "fig.set_size_inches(25,20)\n",
    "\n",
    "for k in clusters:\n",
    "    q,mod = divmod(k,2)\n",
    "    \n",
    "    ax[q-1,mod].set_xlim([-0.1,1])\n",
    "    ax[q-1,mod].set_ylim([0,len(X) + (k+1)*10])\n",
    "    # model definition\n",
    "    gmm_model = mx.GaussianMixture(n_components=k)\n",
    "\n",
    "    #model training\n",
    "    gmm_model.fit(X)\n",
    "\n",
    "    #model predict\n",
    "    labels = gmm_model.predict(X)\n",
    "\n",
    "    #model performace\n",
    "    gmm_k = m.silhouette_score(X,labels,metric='euclidean')\n",
    "    print(f'For K = {k} Silhouette: {gmm_k}')\n",
    "    \n",
    "    ss_values = m.silhouette_samples(X,labels)\n",
    "    y_lower=10\n",
    "    for i in range(k):\n",
    "\n",
    "        ith_ss_values = ss_values[labels==i]\n",
    "        size_cluster = ith_ss_values.shape[0]\n",
    "        ith_ss_values = np.sort(ith_ss_values)\n",
    "        y_upper = y_lower + size_cluster\n",
    "        ax[q-1,mod].fill_betweenx(np.arange(y_lower,y_upper),0,ith_ss_values)\n",
    "        y_lower = y_upper+10"
   ]
  },
  {
   "cell_type": "markdown",
   "id": "aff6754a",
   "metadata": {},
   "source": [
    "## Within-Cluster Sum of Square (WSS)"
   ]
  },
  {
   "cell_type": "code",
   "execution_count": null,
   "id": "96b68cb3",
   "metadata": {
    "ExecuteTime": {
     "start_time": "2022-12-29T13:34:48.417Z"
    }
   },
   "outputs": [],
   "source": [
    "wss = []\n",
    "for k in clusters:\n",
    "    # model definition\n",
    "    kmeans = c.KMeans(init='random', n_clusters=k, n_init=10,max_iter=300,random_state=42)\n",
    "    #model training\n",
    "    kmeans.fit(X)\n",
    "    \n",
    "    wss.append(kmeans.inertia_)"
   ]
  },
  {
   "cell_type": "code",
   "execution_count": null,
   "id": "1b86304e",
   "metadata": {
    "ExecuteTime": {
     "start_time": "2022-12-29T13:34:48.423Z"
    },
    "scrolled": true
   },
   "outputs": [],
   "source": [
    "plt.plot(clusters,wss, marker = 'o');\n",
    "plt.xlabel('K');\n",
    "plt.ylabel('Within-Cluster Sum of Square (WSS)');\n",
    "plt.title('WSS vs K');"
   ]
  },
  {
   "cell_type": "markdown",
   "id": "162e9136",
   "metadata": {},
   "source": [
    "Escolher os pontos com maior variação"
   ]
  },
  {
   "cell_type": "code",
   "execution_count": null,
   "id": "0fc2ff1b",
   "metadata": {
    "ExecuteTime": {
     "start_time": "2022-12-29T13:34:48.428Z"
    },
    "scrolled": true
   },
   "outputs": [],
   "source": [
    "kmeans = KElbowVisualizer(c.KMeans(),k=clusters,timings=False)\n",
    "kmeans.fit(X)\n",
    "kmeans.show();"
   ]
  },
  {
   "cell_type": "markdown",
   "id": "67197905",
   "metadata": {},
   "source": [
    "## Sillhouete Score"
   ]
  },
  {
   "cell_type": "code",
   "execution_count": null,
   "id": "d2d18a03",
   "metadata": {
    "ExecuteTime": {
     "start_time": "2022-12-29T13:34:48.436Z"
    }
   },
   "outputs": [],
   "source": [
    "kmeans = KElbowVisualizer(c.KMeans(),k=clusters,metric='silhouette',timings=False)\n",
    "kmeans.fit(X)\n",
    "kmeans.show();"
   ]
  },
  {
   "cell_type": "markdown",
   "id": "c2dd47b3",
   "metadata": {},
   "source": [
    "## Silhouete analisys"
   ]
  },
  {
   "cell_type": "code",
   "execution_count": null,
   "id": "46ee7b8c",
   "metadata": {
    "ExecuteTime": {
     "start_time": "2022-12-29T13:34:48.444Z"
    }
   },
   "outputs": [],
   "source": [
    "fig, ax = plt.subplots(5,2,figsize=(25,18))\n",
    "#k=2\n",
    "for k in clusters:\n",
    "    from sklearn import cluster as c\n",
    "    km = c.KMeans(n_clusters=k,init='random',n_init=10, max_iter=100,random_state=42)\n",
    "    l,c = divmod(k,2)\n",
    "    visualizer = SilhouetteVisualizer(km, color='yellowbrick',ax=ax[l-1][c])\n",
    "    visualizer.fit(X)\n",
    "    visualizer.finalize()"
   ]
  },
  {
   "cell_type": "markdown",
   "id": "8ffc550a",
   "metadata": {
    "ExecuteTime": {
     "end_time": "2022-12-07T15:06:30.220656Z",
     "start_time": "2022-12-07T15:06:30.189417Z"
    }
   },
   "source": [
    "# Model training"
   ]
  },
  {
   "cell_type": "markdown",
   "id": "32c0193b",
   "metadata": {},
   "source": [
    "## K-means"
   ]
  },
  {
   "cell_type": "code",
   "execution_count": null,
   "id": "dca09626",
   "metadata": {
    "ExecuteTime": {
     "start_time": "2022-12-29T13:34:48.452Z"
    }
   },
   "outputs": [],
   "source": [
    "from sklearn import cluster as c"
   ]
  },
  {
   "cell_type": "code",
   "execution_count": null,
   "id": "24f347c6",
   "metadata": {
    "ExecuteTime": {
     "start_time": "2022-12-29T13:34:48.457Z"
    }
   },
   "outputs": [],
   "source": [
    "#model training\n",
    "k = 10\n",
    "kmeans = c.KMeans(init='random',n_clusters=k,n_init=10,max_iter=300,random_state=42)\n",
    "#model training\n",
    "kmeans.fit(X)\n",
    "#clustering\n",
    "labels = kmeans.labels_"
   ]
  },
  {
   "cell_type": "markdown",
   "id": "d6b4ec27",
   "metadata": {
    "ExecuteTime": {
     "end_time": "2022-12-07T15:16:40.448610Z",
     "start_time": "2022-12-07T15:16:40.408761Z"
    }
   },
   "source": [
    "### Cluster validation"
   ]
  },
  {
   "cell_type": "code",
   "execution_count": null,
   "id": "01cf00d4",
   "metadata": {
    "ExecuteTime": {
     "start_time": "2022-12-29T13:34:48.464Z"
    }
   },
   "outputs": [],
   "source": [
    "# WSS\n",
    "print('WSS value',kmeans.inertia_)\n",
    "\n",
    "## SS (Silhouette Score)\n",
    "print('SS value',m.silhouette_score(X,labels,metric='euclidean'))"
   ]
  },
  {
   "cell_type": "markdown",
   "id": "eb039d91",
   "metadata": {},
   "source": [
    "### Cluster analysis"
   ]
  },
  {
   "cell_type": "code",
   "execution_count": null,
   "id": "755f3bc6",
   "metadata": {
    "ExecuteTime": {
     "start_time": "2022-12-29T13:34:48.470Z"
    }
   },
   "outputs": [],
   "source": [
    "df9 = df5.copy()\n",
    "df9['clusters'] = labels"
   ]
  },
  {
   "cell_type": "code",
   "execution_count": null,
   "id": "8e6fb03f",
   "metadata": {
    "ExecuteTime": {
     "start_time": "2022-12-29T13:34:48.477Z"
    },
    "scrolled": true
   },
   "outputs": [],
   "source": [
    "visualizer = SilhouetteVisualizer(kmeans,colors='yellowbrick')\n",
    "visualizer.fit(X)\n",
    "visualizer.finalize()"
   ]
  },
  {
   "cell_type": "code",
   "execution_count": null,
   "id": "bb7f5767",
   "metadata": {
    "ExecuteTime": {
     "start_time": "2022-12-29T13:34:48.481Z"
    }
   },
   "outputs": [],
   "source": [
    "X"
   ]
  },
  {
   "cell_type": "code",
   "execution_count": null,
   "id": "81e168ce",
   "metadata": {
    "ExecuteTime": {
     "start_time": "2022-12-29T13:34:48.486Z"
    },
    "scrolled": true
   },
   "outputs": [],
   "source": [
    "df_aux = X.copy()\n",
    "df_aux['cluster'] = labels\n",
    "sns.scatterplot(x='embedding_x', y='embedding_y',hue='cluster',data=df_aux,palette='deep')"
   ]
  },
  {
   "cell_type": "markdown",
   "id": "9ae0c2b5",
   "metadata": {},
   "source": [
    "### UMAP - t-SNE\n",
    "### Machine leraning - Manifold\n",
    "PCA - Matrix, Espaço de distâncias - 9 condições - Colorários\n",
    "UMAP, T-SNE (2009) - Manifold - Topologia"
   ]
  },
  {
   "cell_type": "markdown",
   "id": "986764eb",
   "metadata": {},
   "source": [
    "**UMAP**"
   ]
  },
  {
   "cell_type": "code",
   "execution_count": null,
   "id": "e3d37099",
   "metadata": {
    "ExecuteTime": {
     "start_time": "2022-12-29T13:34:48.492Z"
    }
   },
   "outputs": [],
   "source": [
    "import umap.umap_ as umap"
   ]
  },
  {
   "cell_type": "code",
   "execution_count": null,
   "id": "76a3e0a9",
   "metadata": {
    "ExecuteTime": {
     "start_time": "2022-12-29T13:34:48.500Z"
    }
   },
   "outputs": [],
   "source": [
    "reducer = umap.UMAP(n_neighbors=100,random_state=42)\n",
    "embedding = reducer.fit_transform(X)"
   ]
  },
  {
   "cell_type": "code",
   "execution_count": null,
   "id": "3cb7e255",
   "metadata": {
    "ExecuteTime": {
     "start_time": "2022-12-29T13:34:48.505Z"
    }
   },
   "outputs": [],
   "source": [
    "df_viz['embedding_x'] = embedding[:,0]\n",
    "df_viz['embedding_y'] = embedding[:,1]\n",
    "\n",
    "sns.scatterplot(x='embedding_x',y='embedding_y',hue='clusters', palette=sns.color_palette('hls',n_colors=len(df_viz['clusters'].unique())),data = df_viz)"
   ]
  },
  {
   "cell_type": "code",
   "execution_count": null,
   "id": "e4f2ab73",
   "metadata": {
    "ExecuteTime": {
     "start_time": "2022-12-29T13:34:48.509Z"
    },
    "scrolled": true
   },
   "outputs": [],
   "source": [
    "#fig = px.scatter_3d(df9,x='recency_days',y='invoice_no',z='gross_revenue',color='clusters')\n",
    "#fig.show()"
   ]
  },
  {
   "cell_type": "markdown",
   "id": "ef5b5da8",
   "metadata": {
    "ExecuteTime": {
     "end_time": "2022-12-07T15:40:51.331384Z",
     "start_time": "2022-12-07T15:40:51.311302Z"
    }
   },
   "source": [
    "### Cluster profile"
   ]
  },
  {
   "cell_type": "code",
   "execution_count": null,
   "id": "bd8abbda",
   "metadata": {
    "ExecuteTime": {
     "start_time": "2022-12-29T13:34:48.519Z"
    }
   },
   "outputs": [],
   "source": [
    "df9.head()"
   ]
  },
  {
   "cell_type": "code",
   "execution_count": null,
   "id": "3941781b",
   "metadata": {
    "ExecuteTime": {
     "start_time": "2022-12-29T13:34:48.525Z"
    }
   },
   "outputs": [],
   "source": [
    "# number of customers\n",
    "df_cluster = df9[['customer_id','clusters']].groupby('clusters').count().reset_index()\n",
    "df_cluster['perc_customer'] = (df_cluster['customer_id']/df_cluster['customer_id'].sum())*100\n",
    "# Avg gross revenue\n",
    "df_avg_gross_revenue = df9[['gross_revenue','clusters']].groupby('clusters').mean().reset_index()\n",
    "df_cluster = pd.merge(df_cluster,df_avg_gross_revenue,how='inner',on='clusters')\n",
    "\n",
    "# avg recency days\n",
    "df_avg_recency_days =  df9[['recency_days','clusters']].groupby('clusters').mean().reset_index()\n",
    "df_cluster = pd.merge(df_cluster,df_avg_recency_days,how='inner',on='clusters')\n",
    "\n",
    "# avg invoice no\n",
    "df_avg_invoice_no =  df9[['qtde_products','clusters']].groupby('clusters').mean().reset_index()\n",
    "df_cluster = pd.merge(df_cluster,df_avg_invoice_no,how='inner',on='clusters')\n",
    "\n",
    "df_ticket =  df9[['freq','clusters']].groupby('clusters').mean().reset_index()\n",
    "df_cluster = pd.merge(df_cluster,df_ticket,how='inner',on='clusters')\n",
    "\n",
    "df_ticket =  df9[['qtde_returns','clusters']].groupby('clusters').mean().reset_index()\n",
    "df_cluster = pd.merge(df_cluster,df_ticket,how='inner',on='clusters')"
   ]
  },
  {
   "cell_type": "code",
   "execution_count": null,
   "id": "79489112",
   "metadata": {
    "ExecuteTime": {
     "start_time": "2022-12-29T13:34:48.534Z"
    },
    "scrolled": false
   },
   "outputs": [],
   "source": [
    "df_cluster.sort_values(by='recency_days',ascending=False)"
   ]
  },
  {
   "cell_type": "markdown",
   "id": "84aa4c7a",
   "metadata": {},
   "source": [
    "## EDA"
   ]
  },
  {
   "cell_type": "markdown",
   "id": "f7c4b475",
   "metadata": {},
   "source": [
    "1. Fenomeno\n",
    "2. Entidade (Customer, Location, Finace, Family)\n",
    "3. Caracteristicas da entidade( Customer = Nome, Idade, Salário, escolaridade"
   ]
  },
  {
   "cell_type": "markdown",
   "id": "f3aaa37c",
   "metadata": {},
   "source": [
    "## Hipóteses"
   ]
  },
  {
   "cell_type": "markdown",
   "id": "bd915fbd",
   "metadata": {},
   "source": [
    "1. Afirmação\n",
    "2. Comparação entre variáveis.\n",
    "3. Calor base de comparação"
   ]
  },
  {
   "cell_type": "markdown",
   "id": "5f382e0d",
   "metadata": {},
   "source": [
    "### Hipóteses Compra"
   ]
  },
  {
   "cell_type": "code",
   "execution_count": null,
   "id": "7dde0d8b",
   "metadata": {},
   "outputs": [],
   "source": []
  },
  {
   "cell_type": "markdown",
   "id": "c2a6b5a2",
   "metadata": {},
   "source": [
    "### Hipóteses Produto"
   ]
  },
  {
   "cell_type": "code",
   "execution_count": null,
   "id": "166fc7b8",
   "metadata": {},
   "outputs": [],
   "source": []
  },
  {
   "cell_type": "markdown",
   "id": "21937263",
   "metadata": {},
   "source": [
    "### Hipóteses Cliente"
   ]
  },
  {
   "cell_type": "code",
   "execution_count": null,
   "id": "2d7b4019",
   "metadata": {},
   "outputs": [],
   "source": []
  }
 ],
 "metadata": {
  "kernelspec": {
   "display_name": "Python 3 (ipykernel)",
   "language": "python",
   "name": "python3"
  },
  "language_info": {
   "codemirror_mode": {
    "name": "ipython",
    "version": 3
   },
   "file_extension": ".py",
   "mimetype": "text/x-python",
   "name": "python",
   "nbconvert_exporter": "python",
   "pygments_lexer": "ipython3",
   "version": "3.8.15"
  }
 },
 "nbformat": 4,
 "nbformat_minor": 5
}
