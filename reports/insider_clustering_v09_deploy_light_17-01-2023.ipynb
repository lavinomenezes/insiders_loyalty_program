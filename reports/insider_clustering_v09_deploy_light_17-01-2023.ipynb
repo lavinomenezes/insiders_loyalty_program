{
 "cells": [
  {
   "cell_type": "markdown",
   "id": "5d17e999",
   "metadata": {
    "papermill": {
     "duration": null,
     "end_time": null,
     "exception": null,
     "start_time": null,
     "status": "completed"
    },
    "tags": []
   },
   "source": [
    "# Imports"
   ]
  },
  {
   "cell_type": "code",
   "execution_count": null,
   "id": "4e8615d5",
   "metadata": {
    "ExecuteTime": {
     "end_time": "2023-01-17T11:26:23.249945Z",
     "start_time": "2023-01-17T11:26:08.102503Z"
    },
    "papermill": {
     "duration": null,
     "end_time": null,
     "exception": null,
     "start_time": null,
     "status": "completed"
    },
    "tags": []
   },
   "outputs": [],
   "source": [
    "import pandas     as pd\n",
    "import numpy      as np\n",
    "import seaborn    as sns\n",
    "import regex      as re\n",
    "import umap.umap_ as umap\n",
    "\n",
    "import inflection\n",
    "from matplotlib              import pyplot        as    plt\n",
    "from plotly                  import express       as    px\n",
    "\n",
    "from sklearn                 import mixture       as    mx\n",
    "from sklearn                 import cluster       as    c\n",
    "from sklearn                 import metrics       as    m\n",
    "from sklearn                 import manifold      as    mn\n",
    "from sklearn                 import decomposition as    dd\n",
    "from scipy.cluster           import hierarchy     as    hr\n",
    "from sklearn.preprocessing   import MinMaxScaler\n",
    "from sklearn.ensemble        import RandomForestRegressor \n"
   ]
  },
  {
   "cell_type": "markdown",
   "id": "6fb30404",
   "metadata": {
    "papermill": {
     "duration": null,
     "end_time": null,
     "exception": null,
     "start_time": null,
     "status": "completed"
    },
    "tags": []
   },
   "source": [
    "# Helper funtions"
   ]
  },
  {
   "cell_type": "code",
   "execution_count": null,
   "id": "07a17d35",
   "metadata": {
    "ExecuteTime": {
     "end_time": "2023-01-17T11:26:23.328322Z",
     "start_time": "2023-01-17T11:26:23.249945Z"
    },
    "papermill": {
     "duration": null,
     "end_time": null,
     "exception": null,
     "start_time": null,
     "status": "completed"
    },
    "tags": []
   },
   "outputs": [],
   "source": [
    "from IPython.core.display    import HTML\n",
    "def jupyter_settings():\n",
    "    %matplotlib inline\n",
    "    %pylab inline\n",
    "    plt.style.use( 'bmh' )\n",
    "    plt.rcParams['figure.figsize'] = [25, 12]\n",
    "    plt.rcParams['font.size'] = 24\n",
    "    display( HTML( '<style>.container { width:100% !important; }</style>') )\n",
    "    sns.set()\n",
    "jupyter_settings()"
   ]
  },
  {
   "cell_type": "markdown",
   "id": "7cfd6327",
   "metadata": {
    "papermill": {
     "duration": null,
     "end_time": null,
     "exception": null,
     "start_time": null,
     "status": "completed"
    },
    "tags": []
   },
   "source": [
    "# load data"
   ]
  },
  {
   "cell_type": "code",
   "execution_count": null,
   "id": "b56483e1",
   "metadata": {
    "ExecuteTime": {
     "end_time": "2023-01-17T11:26:24.167699Z",
     "start_time": "2023-01-17T11:26:23.328322Z"
    },
    "papermill": {
     "duration": null,
     "end_time": null,
     "exception": null,
     "start_time": null,
     "status": "completed"
    },
    "tags": []
   },
   "outputs": [],
   "source": [
    "df_raw = pd.read_csv('C:/Users/Lavin/Documents/Comunidade DS/insiders clustering/data/raw/Ecommerce.csv',encoding= 'unicode_escape')"
   ]
  },
  {
   "cell_type": "code",
   "execution_count": null,
   "id": "c5ee019a",
   "metadata": {
    "ExecuteTime": {
     "end_time": "2023-01-17T11:26:24.230147Z",
     "start_time": "2023-01-17T11:26:24.167699Z"
    },
    "papermill": {
     "duration": null,
     "end_time": null,
     "exception": null,
     "start_time": null,
     "status": "completed"
    },
    "scrolled": true,
    "tags": []
   },
   "outputs": [],
   "source": [
    "df_raw.head()"
   ]
  },
  {
   "cell_type": "code",
   "execution_count": null,
   "id": "4aaaa202",
   "metadata": {
    "ExecuteTime": {
     "end_time": "2023-01-17T11:26:24.267903Z",
     "start_time": "2023-01-17T11:26:24.230147Z"
    },
    "papermill": {
     "duration": null,
     "end_time": null,
     "exception": null,
     "start_time": null,
     "status": "completed"
    },
    "tags": []
   },
   "outputs": [],
   "source": [
    "df1 = df_raw.copy()"
   ]
  },
  {
   "cell_type": "markdown",
   "id": "19dab3df",
   "metadata": {
    "papermill": {
     "duration": null,
     "end_time": null,
     "exception": null,
     "start_time": null,
     "status": "completed"
    },
    "tags": []
   },
   "source": [
    "**data dimensions**"
   ]
  },
  {
   "cell_type": "code",
   "execution_count": null,
   "id": "f206130f",
   "metadata": {
    "ExecuteTime": {
     "end_time": "2023-01-17T11:26:24.299145Z",
     "start_time": "2023-01-17T11:26:24.267903Z"
    },
    "papermill": {
     "duration": null,
     "end_time": null,
     "exception": null,
     "start_time": null,
     "status": "completed"
    },
    "tags": []
   },
   "outputs": [],
   "source": [
    "df1.shape"
   ]
  },
  {
   "cell_type": "markdown",
   "id": "bb72eb2d",
   "metadata": {
    "papermill": {
     "duration": null,
     "end_time": null,
     "exception": null,
     "start_time": null,
     "status": "completed"
    },
    "tags": []
   },
   "source": [
    "**Rename columns**"
   ]
  },
  {
   "cell_type": "code",
   "execution_count": null,
   "id": "5ac5a25a",
   "metadata": {
    "ExecuteTime": {
     "end_time": "2023-01-17T11:26:24.314767Z",
     "start_time": "2023-01-17T11:26:24.299145Z"
    },
    "papermill": {
     "duration": null,
     "end_time": null,
     "exception": null,
     "start_time": null,
     "status": "completed"
    },
    "tags": []
   },
   "outputs": [],
   "source": [
    "old_cols = df1.columns\n",
    "snakecase = lambda x: inflection.underscore(x)\n",
    "new_cols = list(map(snakecase,old_cols))\n",
    "df1.columns = new_cols"
   ]
  },
  {
   "cell_type": "code",
   "execution_count": null,
   "id": "4aaf1ea4",
   "metadata": {
    "ExecuteTime": {
     "end_time": "2023-01-17T11:26:24.352528Z",
     "start_time": "2023-01-17T11:26:24.314767Z"
    },
    "papermill": {
     "duration": null,
     "end_time": null,
     "exception": null,
     "start_time": null,
     "status": "completed"
    },
    "tags": []
   },
   "outputs": [],
   "source": [
    "df1.columns"
   ]
  },
  {
   "cell_type": "markdown",
   "id": "aa9db32f",
   "metadata": {
    "papermill": {
     "duration": null,
     "end_time": null,
     "exception": null,
     "start_time": null,
     "status": "completed"
    },
    "tags": []
   },
   "source": [
    "**delete column**"
   ]
  },
  {
   "cell_type": "code",
   "execution_count": null,
   "id": "937fa595",
   "metadata": {
    "ExecuteTime": {
     "end_time": "2023-01-17T11:26:24.430631Z",
     "start_time": "2023-01-17T11:26:24.352528Z"
    },
    "papermill": {
     "duration": null,
     "end_time": null,
     "exception": null,
     "start_time": null,
     "status": "completed"
    },
    "tags": []
   },
   "outputs": [],
   "source": [
    "df1.drop(columns='unnamed: 8',inplace=True)"
   ]
  },
  {
   "cell_type": "code",
   "execution_count": null,
   "id": "0b7d43ab",
   "metadata": {
    "ExecuteTime": {
     "end_time": "2023-01-17T11:26:24.468386Z",
     "start_time": "2023-01-17T11:26:24.437138Z"
    },
    "papermill": {
     "duration": null,
     "end_time": null,
     "exception": null,
     "start_time": null,
     "status": "completed"
    },
    "scrolled": false,
    "tags": []
   },
   "outputs": [],
   "source": [
    "df1.head()"
   ]
  },
  {
   "cell_type": "markdown",
   "id": "d8367eef",
   "metadata": {
    "papermill": {
     "duration": null,
     "end_time": null,
     "exception": null,
     "start_time": null,
     "status": "completed"
    },
    "tags": []
   },
   "source": [
    "# Data types"
   ]
  },
  {
   "cell_type": "code",
   "execution_count": null,
   "id": "1dbfb941",
   "metadata": {
    "ExecuteTime": {
     "end_time": "2023-01-17T11:26:24.484007Z",
     "start_time": "2023-01-17T11:26:24.468386Z"
    },
    "papermill": {
     "duration": null,
     "end_time": null,
     "exception": null,
     "start_time": null,
     "status": "completed"
    },
    "tags": []
   },
   "outputs": [],
   "source": [
    "df1.dtypes"
   ]
  },
  {
   "cell_type": "markdown",
   "id": "e5e85287",
   "metadata": {
    "papermill": {
     "duration": null,
     "end_time": null,
     "exception": null,
     "start_time": null,
     "status": "completed"
    },
    "tags": []
   },
   "source": [
    "# Checking NA"
   ]
  },
  {
   "cell_type": "code",
   "execution_count": null,
   "id": "9a7d6a3d",
   "metadata": {
    "ExecuteTime": {
     "end_time": "2023-01-17T11:26:24.715753Z",
     "start_time": "2023-01-17T11:26:24.484007Z"
    },
    "papermill": {
     "duration": null,
     "end_time": null,
     "exception": null,
     "start_time": null,
     "status": "completed"
    },
    "tags": []
   },
   "outputs": [],
   "source": [
    "df1.isnull().sum()/len(df_raw)*100"
   ]
  },
  {
   "cell_type": "markdown",
   "id": "b9ae9d28",
   "metadata": {
    "papermill": {
     "duration": null,
     "end_time": null,
     "exception": null,
     "start_time": null,
     "status": "completed"
    },
    "tags": []
   },
   "source": [
    "## replace NA"
   ]
  },
  {
   "cell_type": "code",
   "execution_count": null,
   "id": "b9d77d14",
   "metadata": {
    "ExecuteTime": {
     "end_time": "2023-01-17T11:26:24.769148Z",
     "start_time": "2023-01-17T11:26:24.715753Z"
    },
    "papermill": {
     "duration": null,
     "end_time": null,
     "exception": null,
     "start_time": null,
     "status": "completed"
    },
    "tags": []
   },
   "outputs": [],
   "source": [
    "df_missing = df1.loc[df1['customer_id'].isna(),:]\n",
    "df_missing.head()"
   ]
  },
  {
   "cell_type": "code",
   "execution_count": null,
   "id": "d7f172b7",
   "metadata": {
    "ExecuteTime": {
     "end_time": "2023-01-17T11:26:24.853788Z",
     "start_time": "2023-01-17T11:26:24.769148Z"
    },
    "papermill": {
     "duration": null,
     "end_time": null,
     "exception": null,
     "start_time": null,
     "status": "completed"
    },
    "tags": []
   },
   "outputs": [],
   "source": [
    "df_not_missing = df1.loc[~df1['customer_id'].isna(),:]\n",
    "df_not_missing"
   ]
  },
  {
   "cell_type": "code",
   "execution_count": null,
   "id": "34669423",
   "metadata": {
    "ExecuteTime": {
     "end_time": "2023-01-17T11:26:25.270495Z",
     "start_time": "2023-01-17T11:26:24.853788Z"
    },
    "papermill": {
     "duration": null,
     "end_time": null,
     "exception": null,
     "start_time": null,
     "status": "completed"
    },
    "tags": []
   },
   "outputs": [],
   "source": [
    "# create reference\n",
    "df_backup = pd.DataFrame(df_missing['invoice_no'].drop_duplicates())\n",
    "df_backup['customer_id'] = np.arange(19000,19000+len(df_backup),1)\n",
    "\n",
    "#merge original with reference\n",
    "df1 = pd.merge(df1,df_backup,on='invoice_no',how='left')\n",
    "\n",
    "#coalesce\n",
    "df1['customer_id'] = df1['customer_id_x'].combine_first(df1['customer_id_y'])\n",
    "\n",
    "df1 = df1.drop(columns=['customer_id_x','customer_id_y'])"
   ]
  },
  {
   "cell_type": "code",
   "execution_count": null,
   "id": "08a43ef7",
   "metadata": {
    "ExecuteTime": {
     "end_time": "2023-01-17T11:26:25.417586Z",
     "start_time": "2023-01-17T11:26:25.270495Z"
    },
    "papermill": {
     "duration": null,
     "end_time": null,
     "exception": null,
     "start_time": null,
     "status": "completed"
    },
    "tags": []
   },
   "outputs": [],
   "source": [
    "df1.isnull().sum()"
   ]
  },
  {
   "cell_type": "code",
   "execution_count": null,
   "id": "d5d6a0e9",
   "metadata": {
    "ExecuteTime": {
     "end_time": "2023-01-17T11:26:25.455334Z",
     "start_time": "2023-01-17T11:26:25.417586Z"
    },
    "papermill": {
     "duration": null,
     "end_time": null,
     "exception": null,
     "start_time": null,
     "status": "completed"
    },
    "tags": []
   },
   "outputs": [],
   "source": [
    "df_backup.head()"
   ]
  },
  {
   "cell_type": "code",
   "execution_count": null,
   "id": "4c7b0814",
   "metadata": {
    "ExecuteTime": {
     "end_time": "2023-01-17T11:26:25.470954Z",
     "start_time": "2023-01-17T11:26:25.455334Z"
    },
    "papermill": {
     "duration": null,
     "end_time": null,
     "exception": null,
     "start_time": null,
     "status": "completed"
    },
    "tags": []
   },
   "outputs": [],
   "source": [
    "1- df1.shape[0]/df_raw.shape[0]"
   ]
  },
  {
   "cell_type": "code",
   "execution_count": null,
   "id": "a8f1a9d0",
   "metadata": {
    "ExecuteTime": {
     "end_time": "2023-01-17T11:26:25.655820Z",
     "start_time": "2023-01-17T11:26:25.470954Z"
    },
    "papermill": {
     "duration": null,
     "end_time": null,
     "exception": null,
     "start_time": null,
     "status": "completed"
    },
    "tags": []
   },
   "outputs": [],
   "source": [
    "df1.isnull().sum()"
   ]
  },
  {
   "cell_type": "markdown",
   "id": "080c7975",
   "metadata": {
    "papermill": {
     "duration": null,
     "end_time": null,
     "exception": null,
     "start_time": null,
     "status": "completed"
    },
    "tags": []
   },
   "source": [
    "# Changing types"
   ]
  },
  {
   "cell_type": "code",
   "execution_count": null,
   "id": "ae5056f1",
   "metadata": {
    "ExecuteTime": {
     "end_time": "2023-01-17T11:26:25.787567Z",
     "start_time": "2023-01-17T11:26:25.655820Z"
    },
    "papermill": {
     "duration": null,
     "end_time": null,
     "exception": null,
     "start_time": null,
     "status": "completed"
    },
    "tags": []
   },
   "outputs": [],
   "source": [
    "df1['invoice_date'] = pd.to_datetime(df1['invoice_date'],format='%d-%b-%y')"
   ]
  },
  {
   "cell_type": "code",
   "execution_count": null,
   "id": "63ec3ee2",
   "metadata": {
    "ExecuteTime": {
     "end_time": "2023-01-17T11:26:25.802958Z",
     "start_time": "2023-01-17T11:26:25.787567Z"
    },
    "papermill": {
     "duration": null,
     "end_time": null,
     "exception": null,
     "start_time": null,
     "status": "completed"
    },
    "tags": []
   },
   "outputs": [],
   "source": [
    "#df1['invoice_no'].astype(int)"
   ]
  },
  {
   "cell_type": "code",
   "execution_count": null,
   "id": "9e55b839",
   "metadata": {
    "ExecuteTime": {
     "end_time": "2023-01-17T11:26:25.818538Z",
     "start_time": "2023-01-17T11:26:25.802958Z"
    },
    "papermill": {
     "duration": null,
     "end_time": null,
     "exception": null,
     "start_time": null,
     "status": "completed"
    },
    "tags": []
   },
   "outputs": [],
   "source": [
    "df1.dtypes"
   ]
  },
  {
   "cell_type": "markdown",
   "id": "e07392f5",
   "metadata": {
    "papermill": {
     "duration": null,
     "end_time": null,
     "exception": null,
     "start_time": null,
     "status": "completed"
    },
    "tags": []
   },
   "source": [
    "'Invoice_no' possui letras em algumas linhas, necessita de limpeza mais detalhada"
   ]
  },
  {
   "cell_type": "markdown",
   "id": "8f81594c",
   "metadata": {
    "papermill": {
     "duration": null,
     "end_time": null,
     "exception": null,
     "start_time": null,
     "status": "completed"
    },
    "tags": []
   },
   "source": [
    "# Data description"
   ]
  },
  {
   "cell_type": "code",
   "execution_count": null,
   "id": "e3fed166",
   "metadata": {
    "ExecuteTime": {
     "end_time": "2023-01-17T11:26:25.856307Z",
     "start_time": "2023-01-17T11:26:25.818538Z"
    },
    "papermill": {
     "duration": null,
     "end_time": null,
     "exception": null,
     "start_time": null,
     "status": "completed"
    },
    "tags": []
   },
   "outputs": [],
   "source": [
    "df1.head()"
   ]
  },
  {
   "cell_type": "markdown",
   "id": "8d556f7e",
   "metadata": {
    "papermill": {
     "duration": null,
     "end_time": null,
     "exception": null,
     "start_time": null,
     "status": "completed"
    },
    "tags": []
   },
   "source": [
    "'invoice_no', : categorical atributtes\n",
    "\n",
    "'stock_code': categorical atributtes\n",
    "\n",
    "'description': categorical atributtes\n",
    "\n",
    "'quantity': numerical atributtes\n",
    "\n",
    "'invoice_date': numerical atributtes\n",
    "\n",
    "'unit_price': numerical atributtes\n",
    "\n",
    "'customer_id': categorical atributtes\n",
    "\n",
    "'country': categorical atributtes"
   ]
  },
  {
   "cell_type": "markdown",
   "id": "fe1c2e23",
   "metadata": {
    "papermill": {
     "duration": null,
     "end_time": null,
     "exception": null,
     "start_time": null,
     "status": "completed"
    },
    "tags": []
   },
   "source": [
    "Remover 'European Community' e 'Unspecified'"
   ]
  },
  {
   "cell_type": "markdown",
   "id": "d2f6101a",
   "metadata": {
    "papermill": {
     "duration": null,
     "end_time": null,
     "exception": null,
     "start_time": null,
     "status": "completed"
    },
    "tags": []
   },
   "source": [
    "# Filter"
   ]
  },
  {
   "cell_type": "code",
   "execution_count": null,
   "id": "1d92031a",
   "metadata": {
    "ExecuteTime": {
     "end_time": "2023-01-17T11:26:25.887539Z",
     "start_time": "2023-01-17T11:26:25.856307Z"
    },
    "papermill": {
     "duration": null,
     "end_time": null,
     "exception": null,
     "start_time": null,
     "status": "completed"
    },
    "tags": []
   },
   "outputs": [],
   "source": [
    "df2 = df1.copy()"
   ]
  },
  {
   "cell_type": "code",
   "execution_count": null,
   "id": "be095a71",
   "metadata": {
    "ExecuteTime": {
     "end_time": "2023-01-17T11:26:26.235737Z",
     "start_time": "2023-01-17T11:26:25.887539Z"
    },
    "papermill": {
     "duration": null,
     "end_time": null,
     "exception": null,
     "start_time": null,
     "status": "completed"
    },
    "tags": []
   },
   "outputs": [],
   "source": [
    "# unit price > 0.0\n",
    "df2 = df2.loc[df2['unit_price'] > 0.040,:]\n",
    "\n",
    "#stock code != ['POST','D','M','DOT','CRUK','C2']\n",
    "df2 = df2[~df2['stock_code'].isin(['POST', 'D', 'DOT', 'M', 'S', 'AMAZONFEE', 'm', 'DCGSSBOY','DCGSSGIRL', 'PADS', 'B', 'CRUK','C2'])]\n",
    "\n",
    "# description\n",
    "df2.drop(columns='description',inplace=True)\n",
    "\n",
    "# country\n",
    "df2 = df2[~df2['country'].isin(['European Community','Unspecified'])]\n",
    "\n",
    "\n",
    "df2 = df2[~df2['customer_id'].isin([16446])]\n",
    "\n",
    "\n",
    "# description\n",
    "## quantity - Negative numbers means product returns\n",
    "df_returns = df2.loc[df2['quantity']<0,:]\n",
    "df_purchase = df2.loc[df2['quantity']>0,:]"
   ]
  },
  {
   "cell_type": "markdown",
   "id": "97cf879e",
   "metadata": {
    "papermill": {
     "duration": null,
     "end_time": null,
     "exception": null,
     "start_time": null,
     "status": "completed"
    },
    "tags": []
   },
   "source": [
    "# Features enginering"
   ]
  },
  {
   "cell_type": "code",
   "execution_count": null,
   "id": "999bc141",
   "metadata": {
    "ExecuteTime": {
     "end_time": "2023-01-17T11:26:26.273362Z",
     "start_time": "2023-01-17T11:26:26.235737Z"
    },
    "papermill": {
     "duration": null,
     "end_time": null,
     "exception": null,
     "start_time": null,
     "status": "completed"
    },
    "tags": []
   },
   "outputs": [],
   "source": [
    "df3 = df2.copy()"
   ]
  },
  {
   "cell_type": "code",
   "execution_count": null,
   "id": "7f22b215",
   "metadata": {
    "ExecuteTime": {
     "end_time": "2023-01-17T11:26:26.304237Z",
     "start_time": "2023-01-17T11:26:26.273362Z"
    },
    "papermill": {
     "duration": null,
     "end_time": null,
     "exception": null,
     "start_time": null,
     "status": "completed"
    },
    "tags": []
   },
   "outputs": [],
   "source": [
    "df3.head()"
   ]
  },
  {
   "cell_type": "markdown",
   "id": "b4fbc182",
   "metadata": {
    "papermill": {
     "duration": null,
     "end_time": null,
     "exception": null,
     "start_time": null,
     "status": "completed"
    },
    "tags": []
   },
   "source": [
    "## Feature creation"
   ]
  },
  {
   "cell_type": "code",
   "execution_count": null,
   "id": "23139921",
   "metadata": {
    "ExecuteTime": {
     "end_time": "2023-01-17T11:26:26.335480Z",
     "start_time": "2023-01-17T11:26:26.319857Z"
    },
    "papermill": {
     "duration": null,
     "end_time": null,
     "exception": null,
     "start_time": null,
     "status": "completed"
    },
    "tags": []
   },
   "outputs": [],
   "source": [
    "df_ref = pd.DataFrame(df3['customer_id'])"
   ]
  },
  {
   "cell_type": "code",
   "execution_count": null,
   "id": "3e236d94",
   "metadata": {
    "ExecuteTime": {
     "end_time": "2023-01-17T11:26:26.404486Z",
     "start_time": "2023-01-17T11:26:26.335480Z"
    },
    "papermill": {
     "duration": null,
     "end_time": null,
     "exception": null,
     "start_time": null,
     "status": "completed"
    },
    "tags": []
   },
   "outputs": [],
   "source": [
    "df_ref =  df_ref.drop_duplicates(ignore_index=True)"
   ]
  },
  {
   "cell_type": "markdown",
   "id": "df272d12",
   "metadata": {
    "papermill": {
     "duration": null,
     "end_time": null,
     "exception": null,
     "start_time": null,
     "status": "completed"
    },
    "tags": []
   },
   "source": [
    "### Receita bruta"
   ]
  },
  {
   "cell_type": "markdown",
   "id": "6405f5b5",
   "metadata": {
    "papermill": {
     "duration": null,
     "end_time": null,
     "exception": null,
     "start_time": null,
     "status": "completed"
    },
    "tags": []
   },
   "source": [
    "**Gross Revenue**"
   ]
  },
  {
   "cell_type": "code",
   "execution_count": null,
   "id": "9526b96d",
   "metadata": {
    "ExecuteTime": {
     "end_time": "2023-01-17T11:26:26.520369Z",
     "start_time": "2023-01-17T11:26:26.404486Z"
    },
    "papermill": {
     "duration": null,
     "end_time": null,
     "exception": null,
     "start_time": null,
     "status": "completed"
    },
    "tags": []
   },
   "outputs": [],
   "source": [
    "df_purchase.loc[:,'gross_revenue'] = df_purchase.loc[:,'quantity'] * df_purchase.loc[:,'unit_price']\n",
    "df_monetary = df_purchase[['customer_id','gross_revenue']].groupby('customer_id').sum().reset_index()\n",
    "df_ref = pd.merge(df_ref,df_monetary,on='customer_id',how='left')"
   ]
  },
  {
   "cell_type": "markdown",
   "id": "8f6aaae5",
   "metadata": {
    "papermill": {
     "duration": null,
     "end_time": null,
     "exception": null,
     "start_time": null,
     "status": "completed"
    },
    "tags": []
   },
   "source": [
    "### Rencencia - dias da ultima compra"
   ]
  },
  {
   "cell_type": "code",
   "execution_count": null,
   "id": "33bc8d00",
   "metadata": {
    "ExecuteTime": {
     "end_time": "2023-01-17T11:26:26.604998Z",
     "start_time": "2023-01-17T11:26:26.520369Z"
    },
    "papermill": {
     "duration": null,
     "end_time": null,
     "exception": null,
     "start_time": null,
     "status": "completed"
    },
    "tags": []
   },
   "outputs": [],
   "source": [
    "df_recency = df_purchase[['customer_id','invoice_date']].groupby('customer_id').max().reset_index()\n",
    "df_recency['recency_days'] = (df2['invoice_date'].max()- df_recency['invoice_date']).dt.days\n",
    "df_recency = df_recency.drop(columns = 'invoice_date')\n",
    "df_ref = pd.merge(df_ref,df_recency,on='customer_id',how='left')"
   ]
  },
  {
   "cell_type": "markdown",
   "id": "415da035",
   "metadata": {
    "papermill": {
     "duration": null,
     "end_time": null,
     "exception": null,
     "start_time": null,
     "status": "completed"
    },
    "tags": []
   },
   "source": [
    "### Quantidade de produtos comprados"
   ]
  },
  {
   "cell_type": "code",
   "execution_count": null,
   "id": "91ec18e7",
   "metadata": {
    "ExecuteTime": {
     "end_time": "2023-01-17T11:26:26.689635Z",
     "start_time": "2023-01-17T11:26:26.604998Z"
    },
    "papermill": {
     "duration": null,
     "end_time": null,
     "exception": null,
     "start_time": null,
     "status": "completed"
    },
    "tags": []
   },
   "outputs": [],
   "source": [
    "df_prod_quant = (df_purchase[['customer_id','stock_code']].groupby('customer_id')\n",
    "                                                       .count()\n",
    "                                                       .reset_index()\n",
    "                                                       .rename(columns = {'stock_code':'qtde_products'}))\n",
    "df_ref = pd.merge(df_ref,df_prod_quant,on='customer_id',how='left')"
   ]
  },
  {
   "cell_type": "markdown",
   "id": "010223e7",
   "metadata": {
    "papermill": {
     "duration": null,
     "end_time": null,
     "exception": null,
     "start_time": null,
     "status": "completed"
    },
    "tags": []
   },
   "source": [
    "### Frequência"
   ]
  },
  {
   "cell_type": "markdown",
   "id": "570a6772",
   "metadata": {
    "papermill": {
     "duration": null,
     "end_time": null,
     "exception": null,
     "start_time": null,
     "status": "completed"
    },
    "tags": []
   },
   "source": [
    "**Frequência**"
   ]
  },
  {
   "cell_type": "code",
   "execution_count": null,
   "id": "d08b1850",
   "metadata": {
    "ExecuteTime": {
     "end_time": "2023-01-17T11:26:28.062776Z",
     "start_time": "2023-01-17T11:26:26.689635Z"
    },
    "papermill": {
     "duration": null,
     "end_time": null,
     "exception": null,
     "start_time": null,
     "status": "completed"
    },
    "tags": []
   },
   "outputs": [],
   "source": [
    "df_aux = (df3[['customer_id','invoice_no','invoice_date']].drop_duplicates()\n",
    "                                                          .groupby('customer_id')\n",
    "                                                          .agg(max_ = ('invoice_date','max'),\n",
    "                                                               min_ = ('invoice_date','min'),\n",
    "                                                               days_ = ('invoice_date',lambda x:(x.max()-x.min()).days+1),\n",
    "                                                               buy_  = ('invoice_date','count'))\n",
    "                                                          .reset_index())\n",
    "                                                          \n",
    "\n",
    "df_aux['freq'] = df_aux.apply(lambda x: x['buy_']/x['days_'] if x['days_'] !=0 else 0,axis=1)\n",
    "df_ref = pd.merge(df_ref,df_aux[['customer_id','freq']],on='customer_id',how='left')"
   ]
  },
  {
   "cell_type": "markdown",
   "id": "f4f18cf9",
   "metadata": {
    "papermill": {
     "duration": null,
     "end_time": null,
     "exception": null,
     "start_time": null,
     "status": "completed"
    },
    "tags": []
   },
   "source": [
    "### Devoluções"
   ]
  },
  {
   "cell_type": "markdown",
   "id": "489c30be",
   "metadata": {
    "papermill": {
     "duration": null,
     "end_time": null,
     "exception": null,
     "start_time": null,
     "status": "completed"
    },
    "tags": []
   },
   "source": [
    "**Returns**"
   ]
  },
  {
   "cell_type": "code",
   "execution_count": null,
   "id": "d8ef1863",
   "metadata": {
    "ExecuteTime": {
     "end_time": "2023-01-17T11:26:28.094013Z",
     "start_time": "2023-01-17T11:26:28.062776Z"
    },
    "papermill": {
     "duration": null,
     "end_time": null,
     "exception": null,
     "start_time": null,
     "status": "completed"
    },
    "tags": []
   },
   "outputs": [],
   "source": [
    "df_avg_returns = df_returns[['customer_id','quantity']].drop_duplicates().groupby('customer_id').sum().abs().reset_index().rename(columns={'quantity':'qtde_returns'})\n",
    "df_ref = pd.merge(df_ref,df_avg_returns,on='customer_id',how='left')\n",
    "df_ref.loc[df_ref['qtde_returns'].isna(),'qtde_returns'] = 0"
   ]
  },
  {
   "cell_type": "code",
   "execution_count": null,
   "id": "5841fa15",
   "metadata": {
    "ExecuteTime": {
     "end_time": "2023-01-17T11:26:28.125256Z",
     "start_time": "2023-01-17T11:26:28.094013Z"
    },
    "papermill": {
     "duration": null,
     "end_time": null,
     "exception": null,
     "start_time": null,
     "status": "completed"
    },
    "tags": []
   },
   "outputs": [],
   "source": [
    "df_ref = df_ref.dropna()"
   ]
  },
  {
   "cell_type": "code",
   "execution_count": null,
   "id": "c09e48bb",
   "metadata": {
    "ExecuteTime": {
     "end_time": "2023-01-17T11:26:28.147098Z",
     "start_time": "2023-01-17T11:26:28.125256Z"
    },
    "papermill": {
     "duration": null,
     "end_time": null,
     "exception": null,
     "start_time": null,
     "status": "completed"
    },
    "tags": []
   },
   "outputs": [],
   "source": [
    "df4 = df_ref.copy()"
   ]
  },
  {
   "cell_type": "code",
   "execution_count": null,
   "id": "5215a5af",
   "metadata": {
    "ExecuteTime": {
     "end_time": "2023-01-17T11:26:28.162723Z",
     "start_time": "2023-01-17T11:26:28.147098Z"
    },
    "papermill": {
     "duration": null,
     "end_time": null,
     "exception": null,
     "start_time": null,
     "status": "completed"
    },
    "tags": []
   },
   "outputs": [],
   "source": [
    "df4.shape"
   ]
  },
  {
   "cell_type": "markdown",
   "id": "399b9466",
   "metadata": {
    "papermill": {
     "duration": null,
     "end_time": null,
     "exception": null,
     "start_time": null,
     "status": "completed"
    },
    "tags": []
   },
   "source": [
    "# EDA"
   ]
  },
  {
   "cell_type": "code",
   "execution_count": null,
   "id": "6fa2d6c4",
   "metadata": {
    "ExecuteTime": {
     "end_time": "2023-01-17T11:26:28.178383Z",
     "start_time": "2023-01-17T11:26:28.162723Z"
    },
    "papermill": {
     "duration": null,
     "end_time": null,
     "exception": null,
     "start_time": null,
     "status": "completed"
    },
    "tags": []
   },
   "outputs": [],
   "source": [
    "df5 = df4.copy()"
   ]
  },
  {
   "cell_type": "code",
   "execution_count": null,
   "id": "c8c06f0a",
   "metadata": {
    "ExecuteTime": {
     "end_time": "2023-01-17T11:26:28.209587Z",
     "start_time": "2023-01-17T11:26:28.178383Z"
    },
    "papermill": {
     "duration": null,
     "end_time": null,
     "exception": null,
     "start_time": null,
     "status": "completed"
    },
    "tags": []
   },
   "outputs": [],
   "source": [
    "df_aux = df5.drop(columns='customer_id')"
   ]
  },
  {
   "cell_type": "markdown",
   "id": "7a19bf07",
   "metadata": {
    "papermill": {
     "duration": null,
     "end_time": null,
     "exception": null,
     "start_time": null,
     "status": "completed"
    },
    "tags": []
   },
   "source": [
    "## Estudo do Espaço"
   ]
  },
  {
   "cell_type": "code",
   "execution_count": null,
   "id": "a4f78a94",
   "metadata": {
    "ExecuteTime": {
     "end_time": "2023-01-17T11:26:28.225210Z",
     "start_time": "2023-01-17T11:26:28.209587Z"
    },
    "papermill": {
     "duration": null,
     "end_time": null,
     "exception": null,
     "start_time": null,
     "status": "completed"
    },
    "tags": []
   },
   "outputs": [],
   "source": [
    "#cols_select = ['gross_revenue', 'recency_days', 'qtde_products', 'freq', 'qtde_returns']"
   ]
  },
  {
   "cell_type": "code",
   "execution_count": null,
   "id": "9bc5f7fe",
   "metadata": {
    "ExecuteTime": {
     "end_time": "2023-01-17T11:26:28.240831Z",
     "start_time": "2023-01-17T11:26:28.225210Z"
    },
    "papermill": {
     "duration": null,
     "end_time": null,
     "exception": null,
     "start_time": null,
     "status": "completed"
    },
    "tags": []
   },
   "outputs": [],
   "source": [
    "#df_aux = df_aux[cols_select]"
   ]
  },
  {
   "cell_type": "code",
   "execution_count": null,
   "id": "176213a1",
   "metadata": {
    "ExecuteTime": {
     "end_time": "2023-01-17T11:26:28.262967Z",
     "start_time": "2023-01-17T11:26:28.240831Z"
    },
    "papermill": {
     "duration": null,
     "end_time": null,
     "exception": null,
     "start_time": null,
     "status": "completed"
    },
    "tags": []
   },
   "outputs": [],
   "source": [
    "df_aux.head()"
   ]
  },
  {
   "cell_type": "code",
   "execution_count": null,
   "id": "39c450cf",
   "metadata": {
    "ExecuteTime": {
     "end_time": "2023-01-17T11:26:28.309829Z",
     "start_time": "2023-01-17T11:26:28.262967Z"
    },
    "papermill": {
     "duration": null,
     "end_time": null,
     "exception": null,
     "start_time": null,
     "status": "completed"
    },
    "tags": []
   },
   "outputs": [],
   "source": [
    "mm = MinMaxScaler()\n",
    "\n",
    "df_aux['gross_revenue'] = mm.fit_transform(df_aux[['gross_revenue']])\n",
    "df_aux['recency_days'] = mm.fit_transform(df_aux[['recency_days']])\n",
    "df_aux['qtde_products'] = mm.fit_transform(df_aux[['qtde_products']])\n",
    "df_aux['freq'] = mm.fit_transform(df_aux[['freq']])\n",
    "df_aux['qtde_returns'] = mm.fit_transform(df_aux[['qtde_returns']])"
   ]
  },
  {
   "cell_type": "code",
   "execution_count": null,
   "id": "ea0896ec",
   "metadata": {
    "ExecuteTime": {
     "end_time": "2023-01-17T11:26:28.325456Z",
     "start_time": "2023-01-17T11:26:28.309829Z"
    },
    "papermill": {
     "duration": null,
     "end_time": null,
     "exception": null,
     "start_time": null,
     "status": "completed"
    },
    "tags": []
   },
   "outputs": [],
   "source": [
    "X = df_aux.copy()"
   ]
  },
  {
   "cell_type": "markdown",
   "id": "247673d6",
   "metadata": {
    "papermill": {
     "duration": null,
     "end_time": null,
     "exception": null,
     "start_time": null,
     "status": "completed"
    },
    "tags": []
   },
   "source": [
    "## PCA"
   ]
  },
  {
   "cell_type": "code",
   "execution_count": null,
   "id": "540c3a69",
   "metadata": {
    "ExecuteTime": {
     "end_time": "2023-01-17T11:26:28.710877Z",
     "start_time": "2023-01-17T11:26:28.325456Z"
    },
    "papermill": {
     "duration": null,
     "end_time": null,
     "exception": null,
     "start_time": null,
     "status": "completed"
    },
    "scrolled": true,
    "tags": []
   },
   "outputs": [],
   "source": [
    "pca = dd.PCA( n_components=X.shape[1] )\n",
    "\n",
    "principal_components = pca.fit_transform( X )\n",
    "\n",
    "# plot explained variable\n",
    "features = range( pca.n_components_ )\n",
    "\n",
    "plt.bar( features, pca.explained_variance_ratio_, color='black' )\n",
    "\n",
    "# pca component\n",
    "df_pca = pd.DataFrame( principal_components )"
   ]
  },
  {
   "cell_type": "code",
   "execution_count": null,
   "id": "07527c61",
   "metadata": {
    "ExecuteTime": {
     "end_time": "2023-01-17T11:26:29.064989Z",
     "start_time": "2023-01-17T11:26:28.710877Z"
    },
    "papermill": {
     "duration": null,
     "end_time": null,
     "exception": null,
     "start_time": null,
     "status": "completed"
    },
    "scrolled": true,
    "tags": []
   },
   "outputs": [],
   "source": [
    "sns.scatterplot( x=0, y=1, data=df_pca );"
   ]
  },
  {
   "cell_type": "markdown",
   "id": "f6c86532",
   "metadata": {
    "papermill": {
     "duration": null,
     "end_time": null,
     "exception": null,
     "start_time": null,
     "status": "completed"
    },
    "tags": []
   },
   "source": [
    "## UMAP"
   ]
  },
  {
   "cell_type": "code",
   "execution_count": null,
   "id": "8c69c696",
   "metadata": {
    "ExecuteTime": {
     "end_time": "2023-01-17T11:27:08.056594Z",
     "start_time": "2023-01-17T11:26:29.064989Z"
    },
    "papermill": {
     "duration": null,
     "end_time": null,
     "exception": null,
     "start_time": null,
     "status": "completed"
    },
    "tags": []
   },
   "outputs": [],
   "source": [
    "reducer = umap.UMAP( random_state=42 )\n",
    "embedding = reducer.fit_transform( X )\n",
    "\n",
    "# embedding\n",
    "df_umap = pd.DataFrame()\n",
    "df_umap['embedding_x'] = embedding[:, 0]\n",
    "df_umap['embedding_y'] = embedding[:, 1]\n",
    "\n",
    "# plot UMAP\n",
    "sns.scatterplot( x='embedding_x', \n",
    "                 y='embedding_y', \n",
    "                 data=df_umap )"
   ]
  },
  {
   "cell_type": "markdown",
   "id": "fc3090ca",
   "metadata": {
    "papermill": {
     "duration": null,
     "end_time": null,
     "exception": null,
     "start_time": null,
     "status": "completed"
    },
    "tags": []
   },
   "source": [
    "## T-SNE"
   ]
  },
  {
   "cell_type": "code",
   "execution_count": null,
   "id": "07aaa83a",
   "metadata": {
    "ExecuteTime": {
     "end_time": "2023-01-17T11:27:53.811742Z",
     "start_time": "2023-01-17T11:27:08.061665Z"
    },
    "papermill": {
     "duration": null,
     "end_time": null,
     "exception": null,
     "start_time": null,
     "status": "completed"
    },
    "tags": []
   },
   "outputs": [],
   "source": [
    "reducer = mn.TSNE( n_components=2, n_jobs=-1, random_state=42 )\n",
    "embedding = reducer.fit_transform( X )\n",
    "\n",
    "# embedding\n",
    "df_tsne = pd.DataFrame()\n",
    "df_tsne['embedding_x'] = embedding[:, 0]\n",
    "df_tsne['embedding_y'] = embedding[:, 1]\n",
    "\n",
    "# plot UMAP\n",
    "sns.scatterplot( x='embedding_x', \n",
    "                 y='embedding_y', \n",
    "                 data=df_tsne )"
   ]
  },
  {
   "cell_type": "markdown",
   "id": "fe6205fa",
   "metadata": {
    "papermill": {
     "duration": null,
     "end_time": null,
     "exception": null,
     "start_time": null,
     "status": "completed"
    },
    "tags": []
   },
   "source": [
    "### Tree-based embedding"
   ]
  },
  {
   "cell_type": "code",
   "execution_count": null,
   "id": "d75979f2",
   "metadata": {
    "ExecuteTime": {
     "end_time": "2023-01-17T11:27:55.702046Z",
     "start_time": "2023-01-17T11:27:53.811742Z"
    },
    "papermill": {
     "duration": null,
     "end_time": null,
     "exception": null,
     "start_time": null,
     "status": "completed"
    },
    "tags": []
   },
   "outputs": [],
   "source": [
    "X = df_aux.drop(columns=['gross_revenue'],axis=1)\n",
    "y = df_aux['gross_revenue']\n",
    "\n",
    "\n",
    "# model definition\n",
    "rf_model = RandomForestRegressor(n_estimators=100,random_state=42)\n",
    "\n",
    "#model training\n",
    "rf_model.fit(X,y.values)\n",
    "\n",
    "# Leaf\n",
    "df_leaf = pd.DataFrame(rf_model.apply(X))\n",
    "#dataframe Leaf"
   ]
  },
  {
   "cell_type": "code",
   "execution_count": null,
   "id": "f01662b5",
   "metadata": {
    "ExecuteTime": {
     "end_time": "2023-01-17T11:27:55.761870Z",
     "start_time": "2023-01-17T11:27:55.707054Z"
    },
    "papermill": {
     "duration": null,
     "end_time": null,
     "exception": null,
     "start_time": null,
     "status": "completed"
    },
    "scrolled": true,
    "tags": []
   },
   "outputs": [],
   "source": [
    "df_leaf.head()"
   ]
  },
  {
   "cell_type": "code",
   "execution_count": null,
   "id": "d8706815",
   "metadata": {
    "ExecuteTime": {
     "end_time": "2023-01-17T11:28:10.792056Z",
     "start_time": "2023-01-17T11:27:55.766878Z"
    },
    "papermill": {
     "duration": null,
     "end_time": null,
     "exception": null,
     "start_time": null,
     "status": "completed"
    },
    "tags": []
   },
   "outputs": [],
   "source": [
    "reducer = umap.UMAP(random_state=42)\n",
    "embedding = reducer.fit_transform(df_leaf)\n",
    "\n",
    "\n",
    "#embedding\n",
    "df_tree = pd.DataFrame()\n",
    "df_tree['embedding_x'] = embedding[:,0]\n",
    "df_tree['embedding_y'] = embedding[:,1]\n",
    "\n",
    "\n",
    "sns.scatterplot(x='embedding_x', y ='embedding_y',data=df_tree);"
   ]
  },
  {
   "cell_type": "markdown",
   "id": "4fd8bdff",
   "metadata": {
    "papermill": {
     "duration": null,
     "end_time": null,
     "exception": null,
     "start_time": null,
     "status": "completed"
    },
    "tags": []
   },
   "source": [
    "# Data preparation"
   ]
  },
  {
   "cell_type": "markdown",
   "id": "317d5ffe",
   "metadata": {
    "papermill": {
     "duration": null,
     "end_time": null,
     "exception": null,
     "start_time": null,
     "status": "completed"
    },
    "tags": []
   },
   "source": [
    "Distribuição normal e não possui outlier - stardart scaler\n",
    "\n",
    "distribuição normal e possui outilier - robust scaler\n",
    "\n",
    "não distribuição normal - Min max Scaler\n"
   ]
  },
  {
   "cell_type": "markdown",
   "id": "31807c69",
   "metadata": {
    "papermill": {
     "duration": null,
     "end_time": null,
     "exception": null,
     "start_time": null,
     "status": "completed"
    },
    "tags": []
   },
   "source": [
    "**Teste de normalidade**\n",
    "\n",
    "**QQ plot** - Quantile Quantile Plot ( Quatile teorica x Quatile real)\n",
    "\n",
    "**KS Teste** - Kolgomorov Smirnoff ( Teste de Hipótese ) se P-valor > 0.5 Distribuição normal, P-valor < 0.5 - Não distribuição normal"
   ]
  },
  {
   "cell_type": "code",
   "execution_count": null,
   "id": "a981b5c5",
   "metadata": {
    "ExecuteTime": {
     "end_time": "2023-01-17T11:28:10.809674Z",
     "start_time": "2023-01-17T11:28:10.797086Z"
    },
    "papermill": {
     "duration": null,
     "end_time": null,
     "exception": null,
     "start_time": null,
     "status": "completed"
    },
    "tags": []
   },
   "outputs": [],
   "source": [
    "# df6 = df5.copy()"
   ]
  },
  {
   "cell_type": "code",
   "execution_count": null,
   "id": "7bc16fbc",
   "metadata": {
    "ExecuteTime": {
     "end_time": "2023-01-17T11:28:10.826738Z",
     "start_time": "2023-01-17T11:28:10.811694Z"
    },
    "papermill": {
     "duration": null,
     "end_time": null,
     "exception": null,
     "start_time": null,
     "status": "completed"
    },
    "tags": []
   },
   "outputs": [],
   "source": [
    "# df6.head()"
   ]
  },
  {
   "cell_type": "code",
   "execution_count": null,
   "id": "3a03c596",
   "metadata": {
    "ExecuteTime": {
     "end_time": "2023-01-17T11:28:10.861984Z",
     "start_time": "2023-01-17T11:28:10.831810Z"
    },
    "papermill": {
     "duration": null,
     "end_time": null,
     "exception": null,
     "start_time": null,
     "status": "completed"
    },
    "tags": []
   },
   "outputs": [],
   "source": [
    "# mm = MinMaxScaler()\n",
    "# #ss = StandardScaler()\n",
    "# #rs = RobustScaler()\n",
    "\n",
    "# df6['gross_revenue'] = mm.fit_transform(df6[['gross_revenue']])\n",
    "# df6['recency_days'] = mm.fit_transform(df6[['recency_days']])\n",
    "# df6['qtde_invoice'] = mm.fit_transform(df6[['qtde_invoice']])\n",
    "# df6['qtde_items'] = mm.fit_transform(df6[['qtde_items']])\n",
    "# df6['qtde_products'] = mm.fit_transform(df6[['qtde_products']])\n",
    "# df6['avg_basket_size'] = mm.fit_transform(df6[['avg_basket_size']])\n",
    "# df6['avg_unique_basket_size'] = mm.fit_transform(df6[['avg_unique_basket_size']])\n",
    "# df6['freq'] = mm.fit_transform(df6[['freq']])\n",
    "# df6['avg_rec_days'] = mm.fit_transform(df6[['avg_rec_days']])\n",
    "# df6['qtde_returns'] = mm.fit_transform(df6[['qtde_returns']])\n",
    "# df6['avg_ticket'] = mm.fit_transform(df6[['avg_ticket']])\n"
   ]
  },
  {
   "cell_type": "code",
   "execution_count": null,
   "id": "72abcfcc",
   "metadata": {
    "ExecuteTime": {
     "end_time": "2023-01-17T11:28:10.882069Z",
     "start_time": "2023-01-17T11:28:10.866992Z"
    },
    "papermill": {
     "duration": null,
     "end_time": null,
     "exception": null,
     "start_time": null,
     "status": "completed"
    },
    "tags": []
   },
   "outputs": [],
   "source": [
    "# df6.head()"
   ]
  },
  {
   "cell_type": "markdown",
   "id": "d6c370d9",
   "metadata": {
    "papermill": {
     "duration": null,
     "end_time": null,
     "exception": null,
     "start_time": null,
     "status": "completed"
    },
    "tags": []
   },
   "source": [
    "# Feature selection"
   ]
  },
  {
   "cell_type": "code",
   "execution_count": null,
   "id": "6b404eb6",
   "metadata": {
    "ExecuteTime": {
     "end_time": "2023-01-17T11:28:10.901812Z",
     "start_time": "2023-01-17T11:28:10.882069Z"
    },
    "papermill": {
     "duration": null,
     "end_time": null,
     "exception": null,
     "start_time": null,
     "status": "completed"
    },
    "tags": []
   },
   "outputs": [],
   "source": [
    "# df7 = df6.copy()"
   ]
  },
  {
   "cell_type": "code",
   "execution_count": null,
   "id": "4a3b2787",
   "metadata": {
    "ExecuteTime": {
     "end_time": "2023-01-17T11:28:10.921921Z",
     "start_time": "2023-01-17T11:28:10.906820Z"
    },
    "papermill": {
     "duration": null,
     "end_time": null,
     "exception": null,
     "start_time": null,
     "status": "completed"
    },
    "tags": []
   },
   "outputs": [],
   "source": [
    "#cols_select = ['customer_id', 'gross_revenue', 'recency_days', 'qtde_products', 'freq', 'qtde_returns']"
   ]
  },
  {
   "cell_type": "code",
   "execution_count": null,
   "id": "cb562131",
   "metadata": {
    "ExecuteTime": {
     "end_time": "2023-01-17T11:28:10.942017Z",
     "start_time": "2023-01-17T11:28:10.921921Z"
    },
    "papermill": {
     "duration": null,
     "end_time": null,
     "exception": null,
     "start_time": null,
     "status": "completed"
    },
    "tags": []
   },
   "outputs": [],
   "source": [
    "#df7 = df7[cols_select]"
   ]
  },
  {
   "cell_type": "markdown",
   "id": "8ac4a6c3",
   "metadata": {
    "papermill": {
     "duration": null,
     "end_time": null,
     "exception": null,
     "start_time": null,
     "status": "completed"
    },
    "tags": []
   },
   "source": [
    "# Fine tunning"
   ]
  },
  {
   "cell_type": "code",
   "execution_count": null,
   "id": "560d95bf",
   "metadata": {
    "ExecuteTime": {
     "end_time": "2023-01-17T11:28:10.962106Z",
     "start_time": "2023-01-17T11:28:10.947026Z"
    },
    "papermill": {
     "duration": null,
     "end_time": null,
     "exception": null,
     "start_time": null,
     "status": "completed"
    },
    "tags": []
   },
   "outputs": [],
   "source": [
    "#X = df7.drop(columns='customer_id')\n",
    "X = df_tree"
   ]
  },
  {
   "cell_type": "code",
   "execution_count": null,
   "id": "6650c45f",
   "metadata": {
    "ExecuteTime": {
     "end_time": "2023-01-17T11:28:10.981787Z",
     "start_time": "2023-01-17T11:28:10.962106Z"
    },
    "papermill": {
     "duration": null,
     "end_time": null,
     "exception": null,
     "start_time": null,
     "status": "completed"
    },
    "tags": []
   },
   "outputs": [],
   "source": [
    "X.head()"
   ]
  },
  {
   "cell_type": "code",
   "execution_count": null,
   "id": "7a15e431",
   "metadata": {
    "ExecuteTime": {
     "end_time": "2023-01-17T11:28:11.022007Z",
     "start_time": "2023-01-17T11:28:10.986793Z"
    },
    "papermill": {
     "duration": null,
     "end_time": null,
     "exception": null,
     "start_time": null,
     "status": "completed"
    },
    "tags": []
   },
   "outputs": [],
   "source": [
    "clusters = np.arange(2,31,1)"
   ]
  },
  {
   "cell_type": "markdown",
   "id": "bc550aa3",
   "metadata": {
    "papermill": {
     "duration": null,
     "end_time": null,
     "exception": null,
     "start_time": null,
     "status": "completed"
    },
    "tags": []
   },
   "source": [
    "## KNN"
   ]
  },
  {
   "cell_type": "code",
   "execution_count": null,
   "id": "9da6c374",
   "metadata": {
    "ExecuteTime": {
     "end_time": "2023-01-17T11:28:41.812243Z",
     "start_time": "2023-01-17T11:28:11.027015Z"
    },
    "papermill": {
     "duration": null,
     "end_time": null,
     "exception": null,
     "start_time": null,
     "status": "completed"
    },
    "tags": []
   },
   "outputs": [],
   "source": [
    "sil_k = []\n",
    "for k in clusters:\n",
    "    # model definition\n",
    "    k_model = c.KMeans(n_clusters=k)\n",
    "\n",
    "    #model training\n",
    "    k_model.fit(X)\n",
    "\n",
    "    #model predict\n",
    "    labels = k_model.predict(X)\n",
    "\n",
    "    #model performace\n",
    "    sil_k.append(m.silhouette_score(X,labels,metric='euclidean'))"
   ]
  },
  {
   "cell_type": "markdown",
   "id": "e42454e7",
   "metadata": {
    "papermill": {
     "duration": null,
     "end_time": null,
     "exception": null,
     "start_time": null,
     "status": "completed"
    },
    "tags": []
   },
   "source": [
    "## GMM"
   ]
  },
  {
   "cell_type": "code",
   "execution_count": null,
   "id": "d01057d3",
   "metadata": {
    "ExecuteTime": {
     "end_time": "2023-01-17T11:29:07.341994Z",
     "start_time": "2023-01-17T11:28:41.812243Z"
    },
    "papermill": {
     "duration": null,
     "end_time": null,
     "exception": null,
     "start_time": null,
     "status": "completed"
    },
    "tags": []
   },
   "outputs": [],
   "source": [
    "gmm_k = []\n",
    "for k in clusters:\n",
    "    # model definition\n",
    "    gmm_model = mx.GaussianMixture(n_components=k)\n",
    "\n",
    "    #model training\n",
    "    gmm_model.fit(X)\n",
    "\n",
    "    #model predict\n",
    "    labels = gmm_model.predict(X)\n",
    "\n",
    "    #model performace\n",
    "    gmm_k.append(m.silhouette_score(X,labels,metric='euclidean'))"
   ]
  },
  {
   "cell_type": "markdown",
   "id": "89752a40",
   "metadata": {
    "papermill": {
     "duration": null,
     "end_time": null,
     "exception": null,
     "start_time": null,
     "status": "completed"
    },
    "tags": []
   },
   "source": [
    "## H-clustering"
   ]
  },
  {
   "cell_type": "code",
   "execution_count": null,
   "id": "228a75ec",
   "metadata": {
    "ExecuteTime": {
     "end_time": "2023-01-17T11:29:08.611934Z",
     "start_time": "2023-01-17T11:29:07.345518Z"
    },
    "papermill": {
     "duration": null,
     "end_time": null,
     "exception": null,
     "start_time": null,
     "status": "completed"
    },
    "tags": []
   },
   "outputs": [],
   "source": [
    "hr_model = hr.linkage( X, 'ward' )"
   ]
  },
  {
   "cell_type": "code",
   "execution_count": null,
   "id": "02b75470",
   "metadata": {
    "ExecuteTime": {
     "end_time": "2023-01-17T11:30:03.553115Z",
     "start_time": "2023-01-17T11:29:08.611934Z"
    },
    "papermill": {
     "duration": null,
     "end_time": null,
     "exception": null,
     "start_time": null,
     "status": "completed"
    },
    "tags": []
   },
   "outputs": [],
   "source": [
    "hc_k = []\n",
    "for k in clusters:\n",
    "    # model definition\n",
    "    hc_model = hr.linkage(X,'ward')\n",
    "\n",
    "    #model predict\n",
    "    labels = hr.fcluster(hc_model,k,criterion='maxclust')\n",
    "\n",
    "    #model performace\n",
    "    hc_k.append(m.silhouette_score(X,labels,metric='euclidean'))"
   ]
  },
  {
   "cell_type": "markdown",
   "id": "507eb0d8",
   "metadata": {
    "papermill": {
     "duration": null,
     "end_time": null,
     "exception": null,
     "start_time": null,
     "status": "completed"
    },
    "tags": []
   },
   "source": [
    "## DBSCAN"
   ]
  },
  {
   "cell_type": "code",
   "execution_count": null,
   "id": "dddc8b74",
   "metadata": {
    "ExecuteTime": {
     "end_time": "2023-01-17T11:30:04.403235Z",
     "start_time": "2023-01-17T11:30:03.553115Z"
    },
    "papermill": {
     "duration": null,
     "end_time": null,
     "exception": null,
     "start_time": null,
     "status": "completed"
    },
    "tags": []
   },
   "outputs": [],
   "source": [
    "eps=0.2\n",
    "min_samples = 20\n",
    "#model training e predict\n",
    "dbscan_model = c.DBSCAN(eps=eps,min_samples=min_samples)\n",
    "\n",
    "#model training e predict\n",
    "labels = dbscan_model.fit_predict(X)\n",
    "\n",
    "db_k_tree = m.silhouette_score(X,labels,metric='euclidean')"
   ]
  },
  {
   "cell_type": "code",
   "execution_count": null,
   "id": "e7935370",
   "metadata": {
    "ExecuteTime": {
     "end_time": "2023-01-17T11:30:04.423029Z",
     "start_time": "2023-01-17T11:30:04.403235Z"
    },
    "papermill": {
     "duration": null,
     "end_time": null,
     "exception": null,
     "start_time": null,
     "status": "completed"
    },
    "tags": []
   },
   "outputs": [],
   "source": [
    "from sklearn.neighbors import NearestNeighbors"
   ]
  },
  {
   "cell_type": "code",
   "execution_count": null,
   "id": "4cbb2ecb",
   "metadata": {
    "ExecuteTime": {
     "end_time": "2023-01-17T11:30:04.542169Z",
     "start_time": "2023-01-17T11:30:04.428038Z"
    },
    "papermill": {
     "duration": null,
     "end_time": null,
     "exception": null,
     "start_time": null,
     "status": "completed"
    },
    "tags": []
   },
   "outputs": [],
   "source": [
    "nei = NearestNeighbors(n_neighbors=min_samples).fit(X)\n",
    "dist, indi = nei.kneighbors(X)"
   ]
  },
  {
   "cell_type": "markdown",
   "id": "b42d7373",
   "metadata": {
    "ExecuteTime": {
     "end_time": "2023-01-16T12:45:38.436423Z",
     "start_time": "2023-01-16T12:45:38.383644Z"
    },
    "papermill": {
     "duration": null,
     "end_time": null,
     "exception": null,
     "start_time": null,
     "status": "completed"
    },
    "tags": []
   },
   "source": [
    "## results tree"
   ]
  },
  {
   "cell_type": "code",
   "execution_count": null,
   "id": "48d92c29",
   "metadata": {
    "ExecuteTime": {
     "end_time": "2023-01-17T11:30:04.783278Z",
     "start_time": "2023-01-17T11:30:04.543287Z"
    },
    "papermill": {
     "duration": null,
     "end_time": null,
     "exception": null,
     "start_time": null,
     "status": "completed"
    },
    "tags": []
   },
   "outputs": [],
   "source": [
    "df_results_tree = pd.DataFrame({\n",
    "    'Kmeans': sil_k,\n",
    "    'GMM': gmm_k,\n",
    "    'HC': hc_k,\n",
    "}).T\n",
    "df_results_tree.columns = clusters\n",
    "df_results_tree.style.highlight_max(color='lightgreen',axis=1)"
   ]
  },
  {
   "cell_type": "code",
   "execution_count": null,
   "id": "ddb018d2",
   "metadata": {
    "ExecuteTime": {
     "end_time": "2023-01-17T11:30:04.798263Z",
     "start_time": "2023-01-17T11:30:04.783278Z"
    },
    "papermill": {
     "duration": null,
     "end_time": null,
     "exception": null,
     "start_time": null,
     "status": "completed"
    },
    "tags": []
   },
   "outputs": [],
   "source": [
    "db_k_tree"
   ]
  },
  {
   "cell_type": "code",
   "execution_count": null,
   "id": "d0e49b04",
   "metadata": {
    "ExecuteTime": {
     "end_time": "2023-01-17T11:30:04.868242Z",
     "start_time": "2023-01-17T11:30:04.803290Z"
    },
    "papermill": {
     "duration": null,
     "end_time": null,
     "exception": null,
     "start_time": null,
     "status": "completed"
    },
    "tags": []
   },
   "outputs": [],
   "source": [
    "df_tree.to_csv('../src/data/df_tree_embedding.csv',index=False)"
   ]
  },
  {
   "cell_type": "markdown",
   "id": "8ffc550a",
   "metadata": {
    "ExecuteTime": {
     "end_time": "2022-12-07T15:06:30.220656Z",
     "start_time": "2022-12-07T15:06:30.189417Z"
    },
    "papermill": {
     "duration": null,
     "end_time": null,
     "exception": null,
     "start_time": null,
     "status": "completed"
    },
    "tags": []
   },
   "source": [
    "# Model training"
   ]
  },
  {
   "cell_type": "markdown",
   "id": "e503c35e",
   "metadata": {
    "papermill": {
     "duration": null,
     "end_time": null,
     "exception": null,
     "start_time": null,
     "status": "completed"
    },
    "tags": []
   },
   "source": [
    "## Final model"
   ]
  },
  {
   "cell_type": "code",
   "execution_count": null,
   "id": "2376be88",
   "metadata": {
    "ExecuteTime": {
     "end_time": "2023-01-17T11:30:04.883324Z",
     "start_time": "2023-01-17T11:30:04.873265Z"
    },
    "papermill": {
     "duration": null,
     "end_time": null,
     "exception": null,
     "start_time": null,
     "status": "completed"
    },
    "tags": []
   },
   "outputs": [],
   "source": [
    "k = 8"
   ]
  },
  {
   "cell_type": "code",
   "execution_count": null,
   "id": "6692b018",
   "metadata": {
    "ExecuteTime": {
     "end_time": "2023-01-17T11:30:04.913071Z",
     "start_time": "2023-01-17T11:30:04.888330Z"
    },
    "papermill": {
     "duration": null,
     "end_time": null,
     "exception": null,
     "start_time": null,
     "status": "completed"
    },
    "tags": []
   },
   "outputs": [],
   "source": [
    "X = df_tree"
   ]
  },
  {
   "cell_type": "code",
   "execution_count": null,
   "id": "d77144a0",
   "metadata": {
    "ExecuteTime": {
     "end_time": "2023-01-17T11:30:05.052107Z",
     "start_time": "2023-01-17T11:30:04.918078Z"
    },
    "papermill": {
     "duration": null,
     "end_time": null,
     "exception": null,
     "start_time": null,
     "status": "completed"
    },
    "tags": []
   },
   "outputs": [],
   "source": [
    "gmm_model = mx.GaussianMixture(n_components=k,random_state=32)\n",
    "\n",
    "gmm_model.fit(X)\n",
    "\n",
    "labels = gmm_model.predict(X)"
   ]
  },
  {
   "cell_type": "code",
   "execution_count": null,
   "id": "8f89c398",
   "metadata": {
    "ExecuteTime": {
     "end_time": "2023-01-17T11:30:05.903350Z",
     "start_time": "2023-01-17T11:30:05.058199Z"
    },
    "papermill": {
     "duration": null,
     "end_time": null,
     "exception": null,
     "start_time": null,
     "status": "completed"
    },
    "scrolled": true,
    "tags": []
   },
   "outputs": [],
   "source": [
    "print('SS value',m.silhouette_score(X,labels,metric='euclidean'))"
   ]
  },
  {
   "cell_type": "code",
   "execution_count": null,
   "id": "8e6fb03f",
   "metadata": {
    "ExecuteTime": {
     "end_time": "2023-01-17T11:30:05.917902Z",
     "start_time": "2023-01-17T11:30:05.908363Z"
    },
    "papermill": {
     "duration": null,
     "end_time": null,
     "exception": null,
     "start_time": null,
     "status": "completed"
    },
    "scrolled": true,
    "tags": []
   },
   "outputs": [],
   "source": [
    "# visualizer = SilhouetteVisualizer(kmeans,colors='yellowbrick')\n",
    "# visualizer.fit(X)\n",
    "# visualizer.finalize()"
   ]
  },
  {
   "cell_type": "markdown",
   "id": "7d1af12e",
   "metadata": {
    "papermill": {
     "duration": null,
     "end_time": null,
     "exception": null,
     "start_time": null,
     "status": "completed"
    },
    "tags": []
   },
   "source": [
    "### Cluster analysis"
   ]
  },
  {
   "cell_type": "code",
   "execution_count": null,
   "id": "caa13228",
   "metadata": {
    "ExecuteTime": {
     "end_time": "2023-01-17T11:30:05.993310Z",
     "start_time": "2023-01-17T11:30:05.922952Z"
    },
    "papermill": {
     "duration": null,
     "end_time": null,
     "exception": null,
     "start_time": null,
     "status": "completed"
    },
    "tags": []
   },
   "outputs": [],
   "source": [
    "df9 = df5.copy()\n",
    "df9['clusters'] = labels"
   ]
  },
  {
   "cell_type": "markdown",
   "id": "9ae0c2b5",
   "metadata": {
    "papermill": {
     "duration": null,
     "end_time": null,
     "exception": null,
     "start_time": null,
     "status": "completed"
    },
    "tags": []
   },
   "source": [
    "### UMAP - t-SNE\n",
    "### Machine leraning - Manifold\n",
    "PCA - Matrix, Espaço de distâncias - 9 condições - Colorários\n",
    "UMAP, T-SNE (2009) - Manifold - Topologia"
   ]
  },
  {
   "cell_type": "markdown",
   "id": "986764eb",
   "metadata": {
    "papermill": {
     "duration": null,
     "end_time": null,
     "exception": null,
     "start_time": null,
     "status": "completed"
    },
    "tags": []
   },
   "source": [
    "**UMAP**"
   ]
  },
  {
   "cell_type": "code",
   "execution_count": null,
   "id": "76a3e0a9",
   "metadata": {
    "ExecuteTime": {
     "end_time": "2023-01-17T11:30:06.008349Z",
     "start_time": "2023-01-17T11:30:05.998318Z"
    },
    "papermill": {
     "duration": null,
     "end_time": null,
     "exception": null,
     "start_time": null,
     "status": "completed"
    },
    "tags": []
   },
   "outputs": [],
   "source": [
    "# reducer = umap.UMAP(n_neighbors=100,random_state=42)\n",
    "# embedding = reducer.fit_transform(X)"
   ]
  },
  {
   "cell_type": "code",
   "execution_count": null,
   "id": "3cb7e255",
   "metadata": {
    "ExecuteTime": {
     "end_time": "2023-01-17T11:30:06.022980Z",
     "start_time": "2023-01-17T11:30:06.012872Z"
    },
    "papermill": {
     "duration": null,
     "end_time": null,
     "exception": null,
     "start_time": null,
     "status": "completed"
    },
    "tags": []
   },
   "outputs": [],
   "source": [
    "# df_viz['embedding_x'] = embedding[:,0]\n",
    "# df_viz['embedding_y'] = embedding[:,1]\n",
    "\n",
    "# sns.scatterplot(x='embedding_x',y='embedding_y',hue='clusters', palette=sns.color_palette('hls',n_colors=len(df_viz['clusters'].unique())),data = df_viz)"
   ]
  },
  {
   "cell_type": "code",
   "execution_count": null,
   "id": "e4f2ab73",
   "metadata": {
    "ExecuteTime": {
     "end_time": "2023-01-17T11:30:06.038346Z",
     "start_time": "2023-01-17T11:30:06.022980Z"
    },
    "papermill": {
     "duration": null,
     "end_time": null,
     "exception": null,
     "start_time": null,
     "status": "completed"
    },
    "scrolled": true,
    "tags": []
   },
   "outputs": [],
   "source": [
    "#fig = px.scatter_3d(df9,x='recency_days',y='invoice_no',z='gross_revenue',color='clusters')\n",
    "#fig.show()"
   ]
  },
  {
   "cell_type": "markdown",
   "id": "ef5b5da8",
   "metadata": {
    "ExecuteTime": {
     "end_time": "2022-12-07T15:40:51.331384Z",
     "start_time": "2022-12-07T15:40:51.311302Z"
    },
    "papermill": {
     "duration": null,
     "end_time": null,
     "exception": null,
     "start_time": null,
     "status": "completed"
    },
    "tags": []
   },
   "source": [
    "### Cluster profile"
   ]
  },
  {
   "cell_type": "code",
   "execution_count": null,
   "id": "bd8abbda",
   "metadata": {
    "ExecuteTime": {
     "end_time": "2023-01-17T11:30:06.117888Z",
     "start_time": "2023-01-17T11:30:06.042887Z"
    },
    "papermill": {
     "duration": null,
     "end_time": null,
     "exception": null,
     "start_time": null,
     "status": "completed"
    },
    "tags": []
   },
   "outputs": [],
   "source": [
    "df9.head()"
   ]
  },
  {
   "cell_type": "code",
   "execution_count": null,
   "id": "3941781b",
   "metadata": {
    "ExecuteTime": {
     "end_time": "2023-01-17T11:30:06.253168Z",
     "start_time": "2023-01-17T11:30:06.143010Z"
    },
    "papermill": {
     "duration": null,
     "end_time": null,
     "exception": null,
     "start_time": null,
     "status": "completed"
    },
    "tags": []
   },
   "outputs": [],
   "source": [
    "# number of customers\n",
    "df_cluster = df9[['customer_id','clusters']].groupby('clusters').count().reset_index()\n",
    "df_cluster['perc_customer'] = (df_cluster['customer_id']/df_cluster['customer_id'].sum())*100\n",
    "# Avg gross revenue\n",
    "df_avg_gross_revenue = df9[['gross_revenue','clusters']].groupby('clusters').mean().reset_index()\n",
    "df_cluster = pd.merge(df_cluster,df_avg_gross_revenue,how='inner',on='clusters')\n",
    "\n",
    "# avg recency days\n",
    "df_avg_recency_days =  df9[['recency_days','clusters']].groupby('clusters').mean().reset_index()\n",
    "df_cluster = pd.merge(df_cluster,df_avg_recency_days,how='inner',on='clusters')\n",
    "\n",
    "# avg invoice no\n",
    "df_avg_invoice_no =  df9[['qtde_products','clusters']].groupby('clusters').mean().reset_index()\n",
    "df_cluster = pd.merge(df_cluster,df_avg_invoice_no,how='inner',on='clusters')\n",
    "\n",
    "df_ticket =  df9[['freq','clusters']].groupby('clusters').mean().reset_index()\n",
    "df_cluster = pd.merge(df_cluster,df_ticket,how='inner',on='clusters')\n",
    "\n",
    "df_ticket =  df9[['qtde_returns','clusters']].groupby('clusters').mean().reset_index()\n",
    "df_cluster = pd.merge(df_cluster,df_ticket,how='inner',on='clusters')"
   ]
  },
  {
   "cell_type": "code",
   "execution_count": null,
   "id": "79489112",
   "metadata": {
    "ExecuteTime": {
     "end_time": "2023-01-17T11:30:06.303309Z",
     "start_time": "2023-01-17T11:30:06.253168Z"
    },
    "papermill": {
     "duration": null,
     "end_time": null,
     "exception": null,
     "start_time": null,
     "status": "completed"
    },
    "scrolled": false,
    "tags": []
   },
   "outputs": [],
   "source": [
    "df_cluster.sort_values(by='gross_revenue',ascending=False)"
   ]
  },
  {
   "cell_type": "markdown",
   "id": "73fed4b7",
   "metadata": {
    "papermill": {
     "duration": null,
     "end_time": null,
     "exception": null,
     "start_time": null,
     "status": "completed"
    },
    "tags": []
   },
   "source": [
    "6 - Cluster Insiders\n",
    "\n",
    "5 - Cluster More products\n",
    "\n",
    "0 - Cluster Spend Money\n",
    "\n",
    "3 - Cluster Even More products\n",
    "\n",
    "7 - Cluster Less days\n",
    "\n",
    "2 - Cluster Less 1k\n",
    "\n",
    "1 - Cluster Stop Returns\n",
    "\n",
    "4 - Cluster More buy"
   ]
  },
  {
   "cell_type": "markdown",
   "id": "84aa4c7a",
   "metadata": {
    "papermill": {
     "duration": null,
     "end_time": null,
     "exception": null,
     "start_time": null,
     "status": "completed"
    },
    "tags": []
   },
   "source": [
    "# EDA II"
   ]
  },
  {
   "cell_type": "code",
   "execution_count": null,
   "id": "966392f1",
   "metadata": {
    "ExecuteTime": {
     "end_time": "2023-01-17T11:30:06.362849Z",
     "start_time": "2023-01-17T11:30:06.308328Z"
    },
    "papermill": {
     "duration": null,
     "end_time": null,
     "exception": null,
     "start_time": null,
     "status": "completed"
    },
    "tags": []
   },
   "outputs": [],
   "source": [
    "df10 = df9.copy()\n",
    "df10['clusters'] = df9['clusters']"
   ]
  },
  {
   "cell_type": "code",
   "execution_count": null,
   "id": "637b1a8d",
   "metadata": {
    "ExecuteTime": {
     "end_time": "2023-01-17T11:30:06.432895Z",
     "start_time": "2023-01-17T11:30:06.362849Z"
    },
    "papermill": {
     "duration": null,
     "end_time": null,
     "exception": null,
     "start_time": null,
     "status": "completed"
    },
    "tags": []
   },
   "outputs": [],
   "source": [
    "df10.head()"
   ]
  },
  {
   "cell_type": "markdown",
   "id": "b1fafd29",
   "metadata": {
    "papermill": {
     "duration": null,
     "end_time": null,
     "exception": null,
     "start_time": null,
     "status": "completed"
    },
    "tags": []
   },
   "source": [
    "# Deploy"
   ]
  },
  {
   "cell_type": "code",
   "execution_count": null,
   "id": "187b1c2b",
   "metadata": {
    "ExecuteTime": {
     "end_time": "2023-01-17T11:30:06.852837Z",
     "start_time": "2023-01-17T11:30:06.437906Z"
    },
    "papermill": {
     "duration": null,
     "end_time": null,
     "exception": null,
     "start_time": null,
     "status": "completed"
    },
    "tags": []
   },
   "outputs": [],
   "source": [
    "import sqlite3\n",
    "from sqlalchemy import create_engine"
   ]
  },
  {
   "cell_type": "code",
   "execution_count": null,
   "id": "216f5560",
   "metadata": {
    "ExecuteTime": {
     "end_time": "2023-01-17T11:30:06.868297Z",
     "start_time": "2023-01-17T11:30:06.852837Z"
    },
    "papermill": {
     "duration": null,
     "end_time": null,
     "exception": null,
     "start_time": null,
     "status": "completed"
    },
    "tags": []
   },
   "outputs": [],
   "source": [
    "df10['customer_id'] = df10['customer_id'].astype(int)\n",
    "df10['recency_days'] = df10['recency_days'].astype(int)\n",
    "df10['qtde_products'] = df10['qtde_products'].astype(int)\n",
    "df10['qtde_returns'] = df10['qtde_returns'].astype(int)"
   ]
  },
  {
   "cell_type": "code",
   "execution_count": null,
   "id": "aa71b21a",
   "metadata": {
    "ExecuteTime": {
     "end_time": "2023-01-17T11:30:06.882872Z",
     "start_time": "2023-01-17T11:30:06.868297Z"
    },
    "papermill": {
     "duration": null,
     "end_time": null,
     "exception": null,
     "start_time": null,
     "status": "completed"
    },
    "tags": []
   },
   "outputs": [],
   "source": [
    "df10.dtypes"
   ]
  },
  {
   "cell_type": "markdown",
   "id": "aeccd519",
   "metadata": {
    "papermill": {
     "duration": null,
     "end_time": null,
     "exception": null,
     "start_time": null,
     "status": "completed"
    },
    "tags": []
   },
   "source": [
    "## SQLITE"
   ]
  },
  {
   "cell_type": "code",
   "execution_count": null,
   "id": "71dc0bb4",
   "metadata": {
    "ExecuteTime": {
     "end_time": "2023-01-17T11:30:06.897788Z",
     "start_time": "2023-01-17T11:30:06.882872Z"
    },
    "papermill": {
     "duration": null,
     "end_time": null,
     "exception": null,
     "start_time": null,
     "status": "completed"
    },
    "tags": []
   },
   "outputs": [],
   "source": [
    "#Create table\n",
    "\n",
    "# query_create_table_insiders = \"\"\"\n",
    "#     CREATE TABLE INSIDERS (\n",
    "#         customer_id      INTEGER,\n",
    "#         gross_revenue    REAL,\n",
    "#         recency_days     INTEGER,\n",
    "#         qtde_products    INTEGER,\n",
    "#         freq             REAL,\n",
    "#         qtde_returns     INTEGER,\n",
    "#         clusters         INTEGER\n",
    "#     )\n",
    "# \"\"\"\n",
    "\n",
    "# conn = sqlite3.connect('insiders_db.sqlite')\n",
    "# conn.execute(query_create_table_insiders)\n",
    "# conn.commit()\n",
    "# conn.close()\n",
    "\n",
    "# #insert data\n",
    "# conn = create_engine('sqlite:///insiders_db.sqlite')\n",
    "# df10.to_sql('insiders',con=conn,if_exists='append',index=False)\n"
   ]
  },
  {
   "cell_type": "code",
   "execution_count": null,
   "id": "11721edf",
   "metadata": {
    "ExecuteTime": {
     "end_time": "2023-01-17T11:30:07.942857Z",
     "start_time": "2023-01-17T11:30:06.902817Z"
    },
    "papermill": {
     "duration": null,
     "end_time": null,
     "exception": null,
     "start_time": null,
     "status": "completed"
    },
    "tags": []
   },
   "outputs": [],
   "source": [
    "#consulting database\n",
    "query = \"\"\"\n",
    "    SELECT *\n",
    "    FROM insiders\n",
    "\"\"\"\n",
    "\n",
    "df = pd.read_sql_query(query,conn)"
   ]
  },
  {
   "cell_type": "code",
   "execution_count": null,
   "id": "1bb2ed55",
   "metadata": {
    "ExecuteTime": {
     "end_time": "2023-01-17T11:30:07.942857Z",
     "start_time": "2023-01-17T11:30:07.942857Z"
    },
    "papermill": {
     "duration": null,
     "end_time": null,
     "exception": null,
     "start_time": null,
     "status": "completed"
    },
    "tags": []
   },
   "outputs": [],
   "source": [
    "df.head()"
   ]
  }
 ],
 "metadata": {
  "kernelspec": {
   "display_name": "Python 3 (ipykernel)",
   "language": "python",
   "name": "python3"
  },
  "language_info": {
   "codemirror_mode": {
    "name": "ipython",
    "version": 3
   },
   "file_extension": ".py",
   "mimetype": "text/x-python",
   "name": "python",
   "nbconvert_exporter": "python",
   "pygments_lexer": "ipython3",
   "version": "3.8.15"
  },
  "papermill": {
   "default_parameters": {},
   "duration": 2.439782,
   "end_time": "2023-01-17T12:26:00.555865",
   "environment_variables": {},
   "exception": null,
   "input_path": "src\\models\\insider_clustering_v09_deploy_light.ipynb",
   "output_path": "reports\\insider_clustering_v09_deploy_light_17-01-2023.ipynb",
   "parameters": {},
   "start_time": "2023-01-17T12:25:58.116083",
   "version": "2.4.0"
  }
 },
 "nbformat": 4,
 "nbformat_minor": 5
}